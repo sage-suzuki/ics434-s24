{
 "cells": [
  {
   "cell_type": "code",
   "execution_count": 6,
   "id": "2c58899a-7bcc-45d6-b4c4-6a3d3e4b19e7",
   "metadata": {},
   "outputs": [],
   "source": [
    "import scipy as sp\n",
    "import numpy as np\n",
    "import matplotlib.pyplot as plt"
   ]
  },
  {
   "cell_type": "markdown",
   "id": "081c3168",
   "metadata": {},
   "source": [
    "### Q1. \n",
    "\n",
    "Which of the following statements is correct about real-life time series data?\n",
    "\n",
    "A. All Real-life time series data contain a trend, seasonality, and a random Gaussian signal.\n",
    "\n",
    "B. All Real-life time series data contain at least a trend or seasonality.\n",
    "\n",
    "C. Real-life time series data typiclaly contains some level of random Gaussian signal.\n"
   ]
  },
  {
   "cell_type": "markdown",
   "id": "de6f621e",
   "metadata": {},
   "source": [
    "### Q2. \n",
    "\n",
    "Given a time series dataset x stored in a DataFrame with the following structure: the index represents a simple range (0 to the number of records), column '0' contains the data values, and columns '1', '2', and '3' contain the day, month, and year of each recorded value, respectively. The dataset spans 52 years, starting in January 1946 and includes monthly observations. Which of the following code snippets best helps in visualizing the trend within this dataset? Assume that each snippet is syntactically corrected and properly aligned with the dataset's structure.\n",
    "\n",
    "\n",
    "A. \n",
    "```\n",
    "plt.plot(x[0].rolling(window=5, center=True).mean())\n",
    "```\n",
    "\n",
    "B. \n",
    "```\n",
    "x.index = pd.to_datetime(x['3'].astype(str) + '-' + x['2'].astype(str) + '-'+ x['1'].astype(str))\n",
    "vals = x['0'].resample('AS').mean()\n",
    "plt.scatter(np.array(range(len(vals))), vals)\n",
    "```\n",
    "\n",
    "C. \n",
    "```\n",
    "x.columns = ['value', 'day', 'month', 'year']  # Renaming columns for clarity\n",
    "x_pivoted = x.pivot(index='year', columns='month', values='value')\n",
    "orderedMonths = [1, 2, 3, 4, 5, 6, 7, 8, 9, 10, 11, 12]  # Assuming months are numerical\n",
    "x_pivoted_reindexed = x_pivoted.reindex(columns=orderedMonths)\n",
    "sns.boxplot(data=x_pivoted_reindexed)\n",
    "```\n",
    "\n",
    "D. \n",
    "```\n",
    "years = pd.to_datetime(pd.date_range('1/1/1946', periods=52*12, freq=\"MS\"))\n",
    "new_vals = pd.DataFrame(x['0'] - x['0'].iloc[0])  # Correcting the syntax error\n",
    "new_vals.index = years\n",
    "plt.plot(new_vals)\n",
    "```"
   ]
  },
  {
   "cell_type": "markdown",
   "id": "21ce7992",
   "metadata": {},
   "source": [
    "### Q3. \n",
    "\n",
    "Which of the following statements is correct regarding the components modeled in the triple exponential smoothing approach?\n",
    "\n",
    "A. Triple exponential smoothing applies three distinct types of smoothing to separately account for the level, trend, and seasonality in time series data.\n",
    "\n",
    "B. Single exponential smoothing captures the level (baseline) by determining how much weight is given to the most recent observation compared to the previous level (baseline).\n",
    "\n",
    "C. In triple exponential smoothing, the second and third components specifically model the trend and seasonality in the data, respectively."
   ]
  },
  {
   "cell_type": "markdown",
   "id": "6f1c475f",
   "metadata": {},
   "source": [
    "### Q4. \n",
    "Can any time series dataset be modeled using either a regression-based approach (modeling the trend and adding seasonality components) or using the triple exponential smoothing method?\n",
    "\n",
    "A. The statement is correct.\n",
    "B. The statement is incorrect."
   ]
  },
  {
   "cell_type": "markdown",
   "id": "74d53336",
   "metadata": {},
   "source": [
    "### Q5. \n",
    "\n",
    "What does the Euclidean distance measure in the context of clustering?\n",
    "\n",
    "A. The absolute differences in categorical variables.\n",
    "B. The straight-line distance between two points in Euclidean space.\n",
    "C. The distnace along a grid between two points.\n",
    "D. The correlation between variables.\n"
   ]
  },
  {
   "cell_type": "markdown",
   "id": "809d4ae3",
   "metadata": {},
   "source": [
    "### Q6. \n",
    "\n",
    "Which of the following is a primary goal of minimizing within-cluster distances in clustering algorithms?\n",
    "A. To ensure that clusters are spread out evenly across the entire dataset.\n",
    "B. To maximize the similarity within each cluster.\n",
    "C. To increase the variability of the data points within each cluster.\n",
    "D. To assign every data point to multiple clusters simultaneously.\n"
   ]
  },
  {
   "cell_type": "markdown",
   "id": "c8c7012f",
   "metadata": {},
   "source": [
    "### Q7.\n",
    "\n",
    "What distinguishes hierarchical clustering from K-means clustering?\n",
    "A. Hierarchical clustering requires the number of clusters to be specified in advance.\n",
    "B. K-means clustering can only be used with numerical data.\n",
    "C. Hierarchical clustering creates a tree of clusters and does not require the number of clusters to be specified initially.\n",
    "D. K-means is typically faster but less accurate than hierarchical clustering.\n"
   ]
  },
  {
   "cell_type": "markdown",
   "id": "046faa66",
   "metadata": {},
   "source": [
    "### Q8.\n",
    "\n",
    "Which distance metric would you consider a non-Euclidean type commonly used in clustering?\n",
    "A. Manhattan distance.\n",
    "B. 1 - Cosine of the angle between the two points.\n",
    "C. Euclidean distance.\n",
    "D. The edit distnace between two strings"
   ]
  }
 ],
 "metadata": {
  "kernelspec": {
   "display_name": "Python 3 (ipykernel)",
   "language": "python",
   "name": "python3"
  },
  "language_info": {
   "codemirror_mode": {
    "name": "ipython",
    "version": 3
   },
   "file_extension": ".py",
   "mimetype": "text/x-python",
   "name": "python",
   "nbconvert_exporter": "python",
   "pygments_lexer": "ipython3",
   "version": "3.9.16"
  }
 },
 "nbformat": 4,
 "nbformat_minor": 5
}
