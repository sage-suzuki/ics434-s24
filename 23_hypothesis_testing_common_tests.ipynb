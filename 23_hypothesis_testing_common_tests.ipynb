{
 "cells": [
  {
   "cell_type": "markdown",
   "id": "2d626b7f",
   "metadata": {
    "slideshow": {
     "slide_type": "slide"
    }
   },
   "source": [
    "# ICS 434: DATA SCIENCE FUNDAMENTALS\n",
    "\n",
    "## Hypothesis Testing:  $\\chi^2$ Test, $z$-Test, $t$-Tests\n",
    "\n",
    "---"
   ]
  },
  {
   "cell_type": "code",
   "execution_count": 2,
   "id": "d4cef623",
   "metadata": {
    "slideshow": {
     "slide_type": "slide"
    }
   },
   "outputs": [],
   "source": [
    "import numpy as np\n",
    "import pandas as pd\n",
    "import scipy.stats\n",
    "import matplotlib.pyplot as plt"
   ]
  },
  {
   "cell_type": "markdown",
   "id": "7e27a5ba",
   "metadata": {
    "slideshow": {
     "slide_type": "skip"
    }
   },
   "source": [
    "### The $\\chi^2$ Goodness-of-Fit Test\n",
    "\n",
    "\n",
    "* A $\\chi^2$ test is a hypothesis testing method\n",
    "  * One of the oldest hypothesis tests around\n",
    "\n",
    "  * The goodness of fit $\\chi^2$ tests involve checking if observed frequencies in one or more categories match expected frequencies\n",
    "\n",
    "* Cateorical data refers to data with a \"nominal scale\"\n",
    "  * A scale of measurement used to assign events or objects into discrete categories\n",
    "  * Similar to an `enum` in computer science"
   ]
  },
  {
   "cell_type": "markdown",
   "id": "49772bd4",
   "metadata": {
    "slideshow": {
     "slide_type": "slide"
    }
   },
   "source": [
    "### The Card Radnomness Test\n",
    "\n",
    "* Ask 200 people to mentally choose 2 cards, one after the other, from an imaginary deck of cards, and look at the suit that people chose. \n",
    "* Is the choice of the second card random?\n",
    "  * Do people choose the second independently of the first one?\n",
    "\n",
    "* Suppose the data for first choice is:\n",
    "\n",
    "```\n",
    "clubs   diamonds   hearts   spades \n",
    "   35         51       64       50 \n",
    "```"
   ]
  },
  {
   "cell_type": "markdown",
   "id": "3b19fb9c",
   "metadata": {
    "slideshow": {
     "slide_type": "slide"
    }
   },
   "source": [
    "### How Do We Reprodcude Similar Data?\n",
    "\n",
    "* The Observed frequncies $O = (O_1, O_2, O_3, O_4) = (35,51,64,50)$\n",
    "\n",
    "* How do we sample similar data in Python ?\n",
    "   * Ex. How can you randomly sample 200 observations of 4 events?\n",
    "   \n",
    "* Which distribution should we use?\n",
    "  * Recall, this is simply a generalization of (coin flip)"
   ]
  },
  {
   "cell_type": "code",
   "execution_count": 3,
   "id": "60cd4a5b",
   "metadata": {
    "slideshow": {
     "slide_type": "slide"
    }
   },
   "outputs": [
    {
     "data": {
      "text/plain": [
       "array([52, 48, 57, 43])"
      ]
     },
     "execution_count": 3,
     "metadata": {},
     "output_type": "execute_result"
    }
   ],
   "source": [
    "n = 1\n",
    "size = 200\n",
    "prob = [1/4, 1/4, 1/4, 1/4]\n",
    "np.random.multinomial(200, prob)"
   ]
  },
  {
   "cell_type": "markdown",
   "id": "891815ba",
   "metadata": {
    "slideshow": {
     "slide_type": "slide"
    }
   },
   "source": [
    "### The $\\chi^2$ Goodness of Fit Test\n",
    "\n",
    "* Our assumtpion is that the card (categories, or whatever other counts) are not uniformly represented\n",
    "\n",
    "    * $H_0$: All four suits are chosen with equal probability\n",
    "    * $H_A$: At least one of the suit-choice probabilities is not 0.25\n",
    "\n",
    "\n",
    "* How to test this hypothesis?\n",
    "\n",
    "* Same as the test we had manually run\n",
    "  * Sample uniformly represented card\n",
    "  * Compute some test statistics\n",
    "  * Plot where the observed statistics occurs in the distribution under the null hypothesis \n",
    "\n",
    "* This is exactly what the $\\chi^2$ goodness of fit tests\n",
    "\n",
    " * $H_0$: $P = (.25,.25,.25,.25)$\n",
    " * $H_A$: $P \\ne (.25,.25,.25,.25)$\n"
   ]
  },
  {
   "cell_type": "markdown",
   "id": "24ab41b8",
   "metadata": {
    "slideshow": {
     "slide_type": "slide"
    }
   },
   "source": [
    "### The “Goodness of Fit” Test Statistic\n",
    "\n",
    "* Similar to what we've done via simulation, if we want to test $H_0$ against $H_A$, we’re going to need a test statistic\n",
    "\n",
    "  * Measures how “close” the data are to the null hypothesis\n",
    "  * If the data don’t resemble what you would “expect” to see if the null hypothesis were true, then it probably isn’t true\n",
    "  * What are the expected frequencies under the null hypothesis?"
   ]
  },
  {
   "cell_type": "code",
   "execution_count": 26,
   "id": "2381dce8",
   "metadata": {
    "slideshow": {
     "slide_type": "skip"
    }
   },
   "outputs": [
    {
     "data": {
      "text/plain": [
       "{'clubs': 0.25, 'diamonds': 0.25, 'hearts': 0.25, 'spades': 0.25}"
      ]
     },
     "execution_count": 26,
     "metadata": {},
     "output_type": "execute_result"
    }
   ],
   "source": [
    "### What is this called in R?\n",
    "probabilities = {\"clubs\": .25, \"diamonds\": .25, \"hearts\": .25, \"spades\": .25}\n",
    "probabilities"
   ]
  },
  {
   "cell_type": "code",
   "execution_count": 27,
   "id": "26b53e36",
   "metadata": {
    "slideshow": {
     "slide_type": "slide"
    }
   },
   "outputs": [],
   "source": [
    "probabilities = pd.Series([0.25, 0.25, 0.25, 0.25], index=[\"clubs\", \"diamonds\", \"hearts\", \"spades\"])"
   ]
  },
  {
   "cell_type": "code",
   "execution_count": 28,
   "id": "5df97e70",
   "metadata": {
    "slideshow": {
     "slide_type": "-"
    }
   },
   "outputs": [
    {
     "data": {
      "text/plain": [
       "clubs       50.0\n",
       "diamonds    50.0\n",
       "hearts      50.0\n",
       "spades      50.0\n",
       "dtype: float64"
      ]
     },
     "execution_count": 28,
     "metadata": {},
     "output_type": "execute_result"
    }
   ],
   "source": [
    "expected = 200 * probabilities\n",
    "expected"
   ]
  },
  {
   "cell_type": "markdown",
   "id": "a4327e67",
   "metadata": {
    "slideshow": {
     "slide_type": "slide"
    }
   },
   "source": [
    "### Compare Expected vs. Observed\n",
    "\n",
    "* Objetive: Compare the expected ($E_i$) with observed values ($O_i$) in each category.\n",
    "\n",
    "<img src=\"https://www.dropbox.com/s/61z3mx4g33qrq19/obs_exp.png?dl=1\">\n",
    "\n",
    "* Sign should not matter +14 hearts and -15 clubs should be equivalent to -14 hearts and +15 clubs.\n",
    "  * Easy: we can just count the squared difference.\n",
    "* We are also interested in contextualizing that difference.\n",
    "  * +14 with regards to what?\n",
    "  * Let's divide by the expectation so we can also represent this difference in terms of units representing how far from the expectation it is. \n",
    "  * The total distance we are off by is the sum of all of these.\n"
   ]
  },
  {
   "cell_type": "code",
   "execution_count": 29,
   "id": "02a7d8d1",
   "metadata": {
    "slideshow": {
     "slide_type": "slide"
    }
   },
   "outputs": [
    {
     "data": {
      "text/plain": [
       "clubs      -15.0\n",
       "diamonds     1.0\n",
       "hearts      14.0\n",
       "spades       0.0\n",
       "dtype: float64"
      ]
     },
     "execution_count": 29,
     "metadata": {},
     "output_type": "execute_result"
    }
   ],
   "source": [
    "observed = pd.Series([35, 51, 64, 50], index=[\"clubs\", \"diamonds\", \"hearts\", \"spades\"])\n",
    "observed - expected"
   ]
  },
  {
   "cell_type": "code",
   "execution_count": 7,
   "id": "257b2245",
   "metadata": {
    "slideshow": {
     "slide_type": "-"
    }
   },
   "outputs": [
    {
     "data": {
      "text/plain": [
       "clubs       4.50\n",
       "diamonds    0.02\n",
       "hearts      3.92\n",
       "spades      0.00\n",
       "dtype: float64"
      ]
     },
     "execution_count": 7,
     "metadata": {},
     "output_type": "execute_result"
    }
   ],
   "source": [
    "(observed - expected)**2 / expected"
   ]
  },
  {
   "cell_type": "code",
   "execution_count": 8,
   "id": "6f3ae69e",
   "metadata": {
    "slideshow": {
     "slide_type": "-"
    }
   },
   "outputs": [
    {
     "data": {
      "text/plain": [
       "8.44"
      ]
     },
     "execution_count": 8,
     "metadata": {},
     "output_type": "execute_result"
    }
   ],
   "source": [
    "### Goodness of fit statistic\n",
    "sum((observed - expected)**2 / expected)"
   ]
  },
  {
   "cell_type": "markdown",
   "id": "a45dcd62",
   "metadata": {
    "slideshow": {
     "slide_type": "slide"
    }
   },
   "source": [
    "### The $\\chi^2$ Statistic\n",
    "\n",
    "* What we computed above is the $\\chi^2$ statistic:\n",
    "\n",
    "$$\n",
    "\\chi^2 = \\sum_{i=1}^{k} \\frac{(O_i - E_i)^2}{E_i}\n",
    "$$\n",
    "\n",
    "$\\hspace{0.6in}$ where $k$ is the number of categories\n",
    " \n",
    "* Similar to our simulations with the `tvd` distance, it's easy to observe that large vlaue of $\\chi^2$ are in favor of the alternaitves, i.e.:\n",
    "\n",
    "  * If $\\chi^2$ is small, then $O_i$ and $E_i$ are close (null hypothesis is okay)\n",
    "  * If $\\chi^2$ is large, then $O_i$ cannot come from the same distribution as $E_i$ (the uniform here)\n",
    "\n",
    "* Is $\\chi^2 = 8.44$ large or small? \n",
    "\n",
    "* Note that the $\\chi^2$ goodness of fit test is always a one-sided test"
   ]
  },
  {
   "cell_type": "markdown",
   "id": "00150d08",
   "metadata": {
    "slideshow": {
     "slide_type": "slide"
    }
   },
   "source": [
    "### The Sampling Distribution of the $\\chi^2$ Statistic\n",
    "\n",
    "* What should $\\chi^2$ values look like if we sample randomly from the uniform distribution?\n",
    "  * I.e., what does the sampling distribution of $\\chi^2$ looks like under the null hypothesis?\n",
    "\n",
    "* Recall that, essentially, observed frequency $O_i$ for a category $i$ is distributed according to a binomial\n",
    "$$\n",
    "O_i \\sim \\text{Binomial}(N, P_i)\n",
    "$$\n",
    "\n",
    "* For large values of $N$ and when $P_i$ isn’t too close to 0 or 1, the Central Limit Theorem says that the binomial is similar to the Gaussian \n"
   ]
  },
  {
   "cell_type": "code",
   "execution_count": 5,
   "id": "e630c42f",
   "metadata": {
    "slideshow": {
     "slide_type": "slide"
    }
   },
   "outputs": [],
   "source": [
    "N = 200\n",
    "p = 0.4"
   ]
  },
  {
   "cell_type": "code",
   "execution_count": 6,
   "id": "dcc40fef",
   "metadata": {
    "slideshow": {
     "slide_type": "-"
    }
   },
   "outputs": [
    {
     "data": {
      "text/plain": [
       "72"
      ]
     },
     "execution_count": 6,
     "metadata": {},
     "output_type": "execute_result"
    }
   ],
   "source": [
    "np.random.binomial(N, p)"
   ]
  },
  {
   "cell_type": "code",
   "execution_count": 8,
   "id": "9bc222ce",
   "metadata": {
    "slideshow": {
     "slide_type": "-"
    }
   },
   "outputs": [
    {
     "data": {
      "image/png": "[encoded data removed]",
      "text/plain": [
       "<Figure size 1000x400 with 1 Axes>"
      ]
     },
     "metadata": {},
     "output_type": "display_data"
    }
   ],
   "source": [
    "x_axis = np.arange(45, 115)\n",
    "y_axis = scipy.stats.binom.pmf(x_axis, N, p)\n",
    "\n",
    "plt.figure(figsize=(10, 4))\n",
    "plt.plot(x_axis, y_axis);"
   ]
  },
  {
   "cell_type": "markdown",
   "id": "3253b934",
   "metadata": {
    "slideshow": {
     "slide_type": "skip"
    }
   },
   "source": [
    "### From Guassian to the $\\chi^2$\n",
    "\n",
    "* According to the central limit theorem, when $E_i = N \\times P_i$ is large (i.e., $N$ is large and $P_i$ isn’t too close to 0 or 1), $O_i$ follows a Gaussian\n",
    "\n",
    "* If $O_i$ is normally distributed, then so is $(O_i - E_i) / \\sqrt{E_i}$ since $E_i$ is a constant\n",
    "  * This represents one of the terms of the statistic (minus the square)\n",
    "\n",
    "* The test consists of a sum of $k$ terms $(O_i - E_I)^2 / E_i$\n",
    "\n",
    "* Square and adding a collection of normally distributed variables yields a quantity that has a $\\chi^2$ distribution\n",
    " * Then $\\chi^2$ distribution appears everywhere\n",
    "  * Recall the sum of residuals discussed last week?\n",
    "* The parameter of a $\\chi^2$ is it's degrees of freedom\n",
    " "
   ]
  },
  {
   "cell_type": "markdown",
   "id": "bf9b5fae",
   "metadata": {
    "slideshow": {
     "slide_type": "slide"
    }
   },
   "source": [
    "### From Guassian to the $\\chi^2$\n",
    "\n",
    "* According to the central limit theorem, when $E_i = N \\times P_i$ is large (i.e., $N$ is large and $P_i$ isn’t too close to 0 or 1), $O_i$ follows a Gaussian\n",
    "\n",
    "* If $O_i$ is normally distributed, then so is $(O_i - E_i) / \\sqrt{E_i}$ since $E_i$ is a constant\n",
    "  * This represents one of the terms of the statistic (minus the square)\n",
    "\n",
    "* The test statistic consists of a sum of $k$ terms $(O_i - E_I)^2 / E_i$\n",
    "\n",
    "* Square and adding a collection of normally distributed variables yields a quantity that has a $\\chi^2$ distribution\n",
    " * $\\chi^2$ distribution appears in lots of places\n",
    "\n",
    "* The parameter of a $\\chi^2$ distribution is it's degrees of freedom\n",
    " "
   ]
  },
  {
   "cell_type": "code",
   "execution_count": null,
   "id": "4862233b-2e60-4fb8-9774-4cb66fb4adb4",
   "metadata": {},
   "outputs": [],
   "source": []
  },
  {
   "cell_type": "code",
   "execution_count": 12,
   "id": "ac4d0e53",
   "metadata": {
    "slideshow": {
     "slide_type": "slide"
    }
   },
   "outputs": [
    {
     "data": {
      "text/plain": [
       "16.65397355452538"
      ]
     },
     "execution_count": 12,
     "metadata": {},
     "output_type": "execute_result"
    }
   ],
   "source": [
    "scipy.stats.chi2(df=10).rvs()"
   ]
  },
  {
   "cell_type": "code",
   "execution_count": 13,
   "id": "050dab3d",
   "metadata": {
    "slideshow": {
     "slide_type": "-"
    }
   },
   "outputs": [
    {
     "data": {
      "text/plain": [
       "array([ 97.67346245,  97.55763868, 100.04992384, 103.82243543])"
      ]
     },
     "execution_count": 13,
     "metadata": {},
     "output_type": "execute_result"
    }
   ],
   "source": [
    "scipy.stats.chi2(df=100).rvs(4)"
   ]
  },
  {
   "cell_type": "code",
   "execution_count": 14,
   "id": "578999d7",
   "metadata": {
    "slideshow": {
     "slide_type": "slide"
    }
   },
   "outputs": [
    {
     "data": {
      "image/png": "[encoded data removed]",
      "text/plain": [
       "<Figure size 450x300 with 1 Axes>"
      ]
     },
     "metadata": {},
     "output_type": "display_data"
    }
   ],
   "source": [
    "x_axis = np.arange(0, 40, 0.1)\n",
    "y_axis = scipy.stats.chi2(df=5).pdf(x_axis)\n",
    "y2_axis = scipy.stats.chi2(df=10).pdf(x_axis)\n",
    "y3_axis = scipy.stats.chi2(df=15).pdf(x_axis)\n",
    "\n",
    "plt.figure(figsize=(4.5, 3))\n",
    "plt.plot(x_axis, y_axis, label=\"df = 5\")\n",
    "plt.plot(x_axis, y2_axis, label=\"df = 10\")\n",
    "plt.plot(x_axis, y3_axis, label=\"df = 15\")\n",
    "plt.legend();"
   ]
  },
  {
   "cell_type": "markdown",
   "id": "e6582d55",
   "metadata": {
    "slideshow": {
     "slide_type": "skip"
    }
   },
   "source": [
    "### Degrees of Freedon of the $\\chi^2$\n",
    "* Square and adding a collection of normally distributed variables yields a quantity that has a $\\chi^2$ distribution\n",
    "* We are interested in the number of independent \"things\" we're adding up\n",
    "  * Here, only $k-1$ categories are independent\n",
    "  * Since the values sum to one, then with $k-1$ categories we can infer the value of the last category\n",
    "  * So the degree os freedom is $k-1$\n",
    "* The above is an oversimplification\n",
    "  * “degrees of freedom” is actually a bit of a messy concept\n",
    "  * Degrees of freedom may not even be a whole number\n",
    "  "
   ]
  },
  {
   "cell_type": "code",
   "execution_count": 15,
   "id": "365197a5",
   "metadata": {
    "slideshow": {
     "slide_type": "slide"
    }
   },
   "outputs": [
    {
     "data": {
      "image/png": "[encoded data removed]",
      "text/plain": [
       "<Figure size 450x300 with 1 Axes>"
      ]
     },
     "metadata": {},
     "output_type": "display_data"
    }
   ],
   "source": [
    "x_axis = np.arange(0, 20.1, 0.1)\n",
    "y_axis = scipy.stats.chi2(df=3).pdf(x_axis)\n",
    "\n",
    "plt.figure(figsize=(4.5, 3))\n",
    "plt.plot(x_axis, y_axis);"
   ]
  },
  {
   "cell_type": "markdown",
   "id": "0ed9fea4",
   "metadata": {
    "slideshow": {
     "slide_type": "slide"
    }
   },
   "source": [
    "### Finding the Rejection Region\n",
    "\n",
    "* What values of the test statistic (i.e., $\\chi^2$ statistic) lead to rejecting the null hypothesis?\n",
    "\n",
    "* Recall that\n",
    "  * if $\\chi^2$ is small, then $O_i$ and $E_i$ are close (null hypothesis is okay)\n",
    "  * if $\\chi^2$ is large, then $O_i$ cannot come from the same distribution as $E_i$ \n",
    "  "
   ]
  },
  {
   "cell_type": "code",
   "execution_count": 10,
   "id": "d21828e8",
   "metadata": {
    "slideshow": {
     "slide_type": "slide"
    }
   },
   "outputs": [
    {
     "data": {
      "text/plain": [
       "0.0"
      ]
     },
     "execution_count": 10,
     "metadata": {},
     "output_type": "execute_result"
    }
   ],
   "source": [
    "chi2_rv = scipy.stats.chi2(df=3)\n",
    "\n",
    "### The cdf refers to the cumulative distribution function.\n",
    "### The cumulative distribution function (cdf) is the probability that the variable takes a value less than or equal to x. \n",
    "\n",
    "chi2_rv.cdf(0)"
   ]
  },
  {
   "cell_type": "code",
   "execution_count": 13,
   "id": "d8e8ebb9",
   "metadata": {
    "slideshow": {
     "slide_type": "-"
    }
   },
   "outputs": [
    {
     "data": {
      "text/plain": [
       "0.9998302575644472"
      ]
     },
     "execution_count": 13,
     "metadata": {},
     "output_type": "execute_result"
    }
   ],
   "source": [
    "chi2_rv.cdf(20)"
   ]
  },
  {
   "cell_type": "code",
   "execution_count": 15,
   "id": "7e8024b3",
   "metadata": {
    "slideshow": {
     "slide_type": "slide"
    }
   },
   "outputs": [
    {
     "name": "stdout",
     "output_type": "stream",
     "text": [
      "[45 46 47 48 49 50 51 52 53 54]\n",
      "[105 106 107 108 109 110 111 112 113 114]\n"
     ]
    }
   ],
   "source": [
    "print(x_axis[:10])\n",
    "print(x_axis[-10:])"
   ]
  },
  {
   "cell_type": "code",
   "execution_count": 16,
   "id": "9ce3f725",
   "metadata": {
    "slideshow": {
     "slide_type": "-"
    }
   },
   "outputs": [
    {
     "name": "stdout",
     "output_type": "stream",
     "text": [
      "[1. 1. 1. 1. 1. 1. 1. 1. 1. 1.]\n",
      "[1. 1. 1. 1. 1. 1. 1. 1. 1. 1.]\n"
     ]
    }
   ],
   "source": [
    "probs = chi2_rv.cdf(x_axis)\n",
    "print(np.round(probs[:10], decimals=4))\n",
    "print(np.round(probs[-10:], decimals=4))"
   ]
  },
  {
   "cell_type": "code",
   "execution_count": 17,
   "id": "1843901f",
   "metadata": {
    "scrolled": true,
    "slideshow": {
     "slide_type": "slide"
    }
   },
   "outputs": [
    {
     "data": {
      "text/plain": [
       "(array([ 0,  1,  2,  3,  4,  5,  6,  7,  8,  9, 10, 11, 12, 13, 14, 15, 16,\n",
       "        17, 18, 19, 20, 21, 22, 23, 24, 25, 26, 27, 28, 29, 30, 31, 32, 33,\n",
       "        34, 35, 36, 37, 38, 39, 40, 41, 42, 43, 44, 45, 46, 47, 48, 49, 50,\n",
       "        51, 52, 53, 54, 55, 56, 57, 58, 59, 60, 61, 62, 63, 64, 65, 66, 67,\n",
       "        68, 69]),)"
      ]
     },
     "execution_count": 17,
     "metadata": {},
     "output_type": "execute_result"
    }
   ],
   "source": [
    "np.where(probs > 0.95)"
   ]
  },
  {
   "cell_type": "code",
   "execution_count": 18,
   "id": "0bfb3b04",
   "metadata": {
    "slideshow": {
     "slide_type": "slide"
    }
   },
   "outputs": [
    {
     "data": {
      "text/plain": [
       "0"
      ]
     },
     "execution_count": 18,
     "metadata": {},
     "output_type": "execute_result"
    }
   ],
   "source": [
    "index = np.where(probs > 0.95)[0][0]\n",
    "index"
   ]
  },
  {
   "cell_type": "code",
   "execution_count": 19,
   "id": "a9dc2e73",
   "metadata": {
    "slideshow": {
     "slide_type": "-"
    }
   },
   "outputs": [
    {
     "name": "stdout",
     "output_type": "stream",
     "text": [
      "45\n",
      "0.9999999990747298\n"
     ]
    }
   ],
   "source": [
    "print(x_axis[index])\n",
    "print(probs[index])"
   ]
  },
  {
   "cell_type": "code",
   "execution_count": 20,
   "id": "8f6e1228",
   "metadata": {
    "slideshow": {
     "slide_type": "slide"
    }
   },
   "outputs": [
    {
     "data": {
      "text/plain": [
       "7.814727903251179"
      ]
     },
     "execution_count": 20,
     "metadata": {},
     "output_type": "execute_result"
    }
   ],
   "source": [
    "# ppf (percent point function) is the inverse of the cdf. \n",
    "# We can find a critical value using ppf.\n",
    "# If the test statistic > critical value, reject the null, otherwise retain the null.\n",
    "\n",
    "chi2_rv.ppf(.95)   # significance level of alpha = 0.05"
   ]
  },
  {
   "cell_type": "code",
   "execution_count": 22,
   "id": "177e9b5f",
   "metadata": {
    "slideshow": {
     "slide_type": "-"
    }
   },
   "outputs": [
    {
     "data": {
      "text/plain": [
       "0.05010605635000587"
      ]
     },
     "execution_count": 22,
     "metadata": {},
     "output_type": "execute_result"
    }
   ],
   "source": [
    "# Give me the area under the upper tail instead\n",
    "1 - chi2_rv.cdf(7.81)"
   ]
  },
  {
   "cell_type": "code",
   "execution_count": 30,
   "id": "2a963201",
   "metadata": {
    "slideshow": {
     "slide_type": "slide"
    }
   },
   "outputs": [
    {
     "data": {
      "text/plain": [
       "clubs       35\n",
       "diamonds    51\n",
       "hearts      64\n",
       "spades      50\n",
       "dtype: int64"
      ]
     },
     "execution_count": 30,
     "metadata": {},
     "output_type": "execute_result"
    }
   ],
   "source": [
    "observed"
   ]
  },
  {
   "cell_type": "code",
   "execution_count": 31,
   "id": "31d85a1c",
   "metadata": {
    "slideshow": {
     "slide_type": "-"
    }
   },
   "outputs": [
    {
     "data": {
      "text/plain": [
       "Power_divergenceResult(statistic=8.44, pvalue=0.0377418520240214)"
      ]
     },
     "execution_count": 31,
     "metadata": {},
     "output_type": "execute_result"
    }
   ],
   "source": [
    "# calculate chi-square test\n",
    "result = scipy.stats.chisquare(observed)\n",
    "result"
   ]
  },
  {
   "cell_type": "code",
   "execution_count": 32,
   "id": "dd169ca2",
   "metadata": {
    "slideshow": {
     "slide_type": "slide"
    }
   },
   "outputs": [
    {
     "data": {
      "text/plain": [
       "clubs       35\n",
       "diamonds    51\n",
       "hearts      64\n",
       "spades      50\n",
       "dtype: int64"
      ]
     },
     "execution_count": 32,
     "metadata": {},
     "output_type": "execute_result"
    }
   ],
   "source": [
    "observed"
   ]
  },
  {
   "cell_type": "code",
   "execution_count": 33,
   "id": "c5ea543d",
   "metadata": {
    "slideshow": {
     "slide_type": "-"
    }
   },
   "outputs": [
    {
     "data": {
      "text/plain": [
       "Power_divergenceResult(statistic=0.9116666666666666, pvalue=0.8226115000538757)"
      ]
     },
     "execution_count": 33,
     "metadata": {},
     "output_type": "execute_result"
    }
   ],
   "source": [
    "### Specifying different null hypothesis\n",
    "result = scipy.stats.chisquare(f_obs=observed, f_exp=[40, 50, 60, 50])\n",
    "result"
   ]
  },
  {
   "cell_type": "code",
   "execution_count": 29,
   "id": "b00aaddd",
   "metadata": {
    "slideshow": {
     "slide_type": "slide"
    }
   },
   "outputs": [
    {
     "name": "stdout",
     "output_type": "stream",
     "text": [
      "chi-squared statistic = 0.9116666666666666\n",
      "p-value = 0.8226\n"
     ]
    }
   ],
   "source": [
    "print(\"chi-squared statistic =\", result[0])\n",
    "print(\"p-value =\", round(result[1], 4))"
   ]
  },
  {
   "cell_type": "markdown",
   "id": "82197b66",
   "metadata": {
    "slideshow": {
     "slide_type": "skip"
    }
   },
   "source": [
    "### The $\\chi^2$ Test of Independence (or Association)\n",
    "\n",
    "* Support you would like to know whether a site is more conducive to growth of some coral species\n",
    "* You conduct a test where you introduce species to sites A and B and observe whether it lives or dies, or is unhealthy\n"
   ]
  },
  {
   "cell_type": "markdown",
   "id": "b048983a",
   "metadata": {
    "slideshow": {
     "slide_type": "skip"
    }
   },
   "source": [
    "\n",
    "* 180 entries introduced in siteA or siteB \n",
    "  * 87 in siteA and 93 in siteB\n",
    "<img src=\"https://www.dropbox.com/s/q2i36mlphpyel3w/xtab.png?dl=1\">\n",
    "\n",
    "* Question: Is the distribution of the data the same across both sites?\n",
    "  * Are the proportions of `lives`, `dies`, or `unhealthy` the same across both sites?"
   ]
  },
  {
   "cell_type": "markdown",
   "id": "d0e0e9ba",
   "metadata": {
    "slideshow": {
     "slide_type": "skip"
    }
   },
   "source": [
    "### Constructing the Hypothesis Test\n",
    "\n",
    "<img src=\"https://www.dropbox.com/s/7nl9nnq8gpyattp/xtab_generic.png?dl=1\">\n",
    "\n",
    "* $O_{ij}$ is a count (observed frequency) of the number of respondents that are at a site (siteA for $j=1$ or siteB for $j=2$) which lead to condition $i$ (lives, dies, unhealth)\n",
    "* The total number of observations is written as $N$\n",
    "* $R_i$ to denote the row totals\n",
    "* $C_j$ to denote the column totals \n"
   ]
  },
  {
   "cell_type": "markdown",
   "id": "8c4e3766",
   "metadata": {
    "slideshow": {
     "slide_type": "skip"
    }
   },
   "source": [
    "### Constructing the Hypothesis Test -- Cont'd\n",
    "\n",
    "* If both sites yield the same outcomes, then probability of dies is equal in both sites\n",
    "  * by the same token, probability of healthy is also similar in both sites\n",
    "  * by the same token, probability of lives also similar in both sites\n",
    "\n",
    "* $H_0$: All of the following are true:\n",
    "    *  $P_{11}$ = $P_{12}$ (same probability of dies)\n",
    "    *  $P_{21}$ = $P_{22}$ (same probability of unhealthy)\n",
    "    *  $P_{31}$ = $P_{32}$ (same probability of lives)\n",
    "    \n",
    "* We denote $P_i$, where $i$ in {1, 2, 3} as the probability of `dies`, `unhealthy` or `lives` respectively"
   ]
  },
  {
   "cell_type": "markdown",
   "id": "69cac78e",
   "metadata": {
    "slideshow": {
     "slide_type": "skip"
    }
   },
   "source": [
    "### Constructing the Hypothesis Test -- Cont'd\n",
    "\n",
    "* Unlike goodness of fit test, the null hypothesis doesn’t actually specify a particular value for $P_i$. \n",
    "  * We can estimate it from the data\n",
    "  * If 28 out of 180 spcies died, then the empirical probability is simply 28/180 ( .16)\n",
    "\n",
    "$$\n",
    "\\hat{P}_i = \\frac{R_i}{N}\n",
    "$$\n",
    "\n",
    "* Expected frequency is therefore:\n",
    "\n",
    "$$\n",
    "\\hat{E}_{ij} = \\frac{R_i}{N} \\times C_j\n",
    "$$\n"
   ]
  },
  {
   "cell_type": "markdown",
   "id": "0c7b88d6",
   "metadata": {
    "slideshow": {
     "slide_type": "skip"
    }
   },
   "source": [
    "### Defining the Test Statistic\n",
    "\n",
    "* Following the exact same strategy that we used in the goodness of fit test\n",
    " * Exact same statistic. \n",
    "For a contingency table with r rows and c columns, the equation that defines our $\\chi^2$ statistic is:\n",
    "\n",
    "$$\n",
    "\\chi^2 = \\sum_{i=1}^{r}\\sum_{j=1}^{c}\\frac{(\\hat{E}_{ij}-O_{ij})^2}{\\hat{E}_{ij}}\n",
    "$$\n",
    "\n",
    "* For the same reasons as above, this statistic is also distributed accroding to the $\\chi^2$ distribution\n",
    "\n",
    "* How many independent points are we analyzing?\n",
    "\n",
    "    * Here, $df = (r-1)(c-1)$\n"
   ]
  },
  {
   "cell_type": "markdown",
   "id": "70c8e6d8",
   "metadata": {
    "slideshow": {
     "slide_type": "skip"
    }
   },
   "source": [
    "### Defining the Test Statistic\n",
    "\n",
    "* Following the exact same strategy that we used in the goodness of fit test\n",
    " * For a contingency table with $r$ rows and $c$ columns, the equation that defines our $\\chi^2$ statistic is:\n",
    "\n",
    "$$\n",
    "\\chi^2 = \\sum_{i=1}^{r}\\sum_{j=1}^{c}\\frac{(\\hat{E}_{ij}-O_{ij})^2}{\\hat{E}_{ij}}\n",
    "$$\n",
    "\n",
    "* For the same reasons as earlier, this stat is also distributed accroding to the $\\chi^2$ distribution\n",
    "\n",
    "  * Here, $df = (r-1)(c-1)$\n"
   ]
  },
  {
   "cell_type": "markdown",
   "id": "2c082327",
   "metadata": {
    "slideshow": {
     "slide_type": "skip"
    }
   },
   "source": [
    "### Assumptions of the Test\n",
    "\n",
    "* Expected frequencies are sufficiently large. \n",
    " * Expected frequencies larger than at least 5\n",
    "   * Assumption needed to approximate the central limit theorem.\n",
    "  * For larger tables, at least 80% of the the expected frequencies are above 5 and none is 0 \n",
    "* Data are independent of one another\n",
    "  * Ex. the fact that a species dies, does not increase the change of another species dying."
   ]
  },
  {
   "cell_type": "markdown",
   "id": "c267daac",
   "metadata": {
    "slideshow": {
     "slide_type": "slide"
    }
   },
   "source": [
    "### $t$-Test\n",
    "\n",
    "* The $t$-test tells you whether the differences between groups is statistically significant.\n",
    "  * I.e., could the difference have happened by chance?\n",
    "\n",
    "* Approach very similar to what we covered uisng simulations.\n",
    "\n",
    "* Used for example to:\n",
    "  * In a medical context, we might want to know if a new drug increases or decreases blood pressure. \n",
    "  * Compare the average transaction value between two companies.\n"
   ]
  },
  {
   "cell_type": "markdown",
   "id": "877ae052",
   "metadata": {
    "slideshow": {
     "slide_type": "slide"
    }
   },
   "source": [
    "### One Sample $z$-Test\n",
    "\n",
    "* Average expression of gene $X$ in normal corals is $\\mu = 67.5$ with $\\sigma=9.5$\n",
    "\n",
    "* You measure the exrepssion of gene $X$ in 20 survivors of a heat wave and obtain the following values:\n",
    "\n",
    "<center>50 60 60 64 66 66 67 69 70 74 76 76 77 79 79 79 81 82 82 89 </center>\n",
    "<br>\n",
    "\n",
    "* Biologically, we may be interested in evaluating whether the expression of gene $X$ in survivors is different from that in normal corals\n",
    "  * Perhaps that is the reason those corals survived the heat wave?\n",
    "  "
   ]
  },
  {
   "cell_type": "code",
   "execution_count": 38,
   "id": "56aafe5b",
   "metadata": {
    "slideshow": {
     "slide_type": "slide"
    }
   },
   "outputs": [
    {
     "data": {
      "text/plain": [
       "72.3"
      ]
     },
     "execution_count": 38,
     "metadata": {},
     "output_type": "execute_result"
    }
   ],
   "source": [
    "new_data = [50,60, 60, 64, 66, 66, 67, 69, 70, 74, 76, 76, 77, 79, 79, 79, 81, 82, 82, 89]\n",
    "\n",
    "np.mean(new_data)"
   ]
  },
  {
   "cell_type": "markdown",
   "id": "8ad1e9ce",
   "metadata": {
    "slideshow": {
     "slide_type": "slide"
    }
   },
   "source": [
    "### $z$-Test -- Cont'd\n",
    "\n",
    "* We are interested in whether there is a difference between the means\n",
    "  * I.e., the average gene expression in normal corals and the survivors \n",
    "\n",
    "* Test statistic: $\\bar{X} - \\mu$\n",
    "\n",
    "* If difference is 0, things are looking good for the null hypothesis\n",
    "\n",
    "* If this quantity is too large or too small then it’s looking less likely that the null hypothesis is true\n",
    "\n",
    "* How far away from zero should it be for us to reject $H_0$?"
   ]
  },
  {
   "cell_type": "markdown",
   "id": "848410c2",
   "metadata": {
    "slideshow": {
     "slide_type": "slide"
    }
   },
   "source": [
    "\n",
    "### Null vs. Alternative Hypothesis: An Illustration\n",
    "\n",
    "* $X \\sim \\mathcal{N}(\\mu, \\sigma)$\n",
    "\n",
    "<img src=\"images/gaussian%20example.png\">"
   ]
  },
  {
   "cell_type": "markdown",
   "id": "e620be53",
   "metadata": {
    "slideshow": {
     "slide_type": "slide"
    }
   },
   "source": [
    "### $z$-Score\n",
    "\n",
    "* If the null hypothesis is true, then the sampling distribution of the mean can be written as follows\n",
    "\n",
    "$$\n",
    "\\bar{X}\\sim \\mathcal{N}(\\mu, SE(\\bar{X}))\n",
    "$$\n",
    "\n",
    "$\\hspace{0.6in}$ where $SE(\\bar{X}) = \\sigma/\\sqrt{N}$ (the standard error of $\\bar{X}$) \n",
    "\n",
    "* What we can do is to convert the sample mean $\\bar{X}$ into a _standard score_ \n",
    "\n",
    "$$\n",
    "z_{\\bar{X}} = \\frac{\\bar{X} - \\mu}{SE(\\bar{X})} = \\frac{\\bar{X} - \\mu}{\\sigma/\\sqrt{N}}\n",
    "$$\n",
    "\n",
    "* This $z$-score is our test statistic\n",
    "  * The $z$-scores has a standard normal distribution: $z_{\\bar{X}} \\sim \\mathcal{N}(0,1)$\n",
    "  "
   ]
  },
  {
   "cell_type": "markdown",
   "id": "8a3c9191",
   "metadata": {
    "slideshow": {
     "slide_type": "slide"
    }
   },
   "source": [
    "<img src=\"https://www.dropbox.com/s/uae9otpdwe0ynto/one_two_test.png?dl=1\">"
   ]
  },
  {
   "cell_type": "code",
   "execution_count": 39,
   "id": "d0bea5bf",
   "metadata": {
    "slideshow": {
     "slide_type": "slide"
    }
   },
   "outputs": [
    {
     "data": {
      "text/plain": [
       "72.3"
      ]
     },
     "execution_count": 39,
     "metadata": {},
     "output_type": "execute_result"
    }
   ],
   "source": [
    "sample_mean = np.mean(new_data)\n",
    "sample_mean"
   ]
  },
  {
   "cell_type": "code",
   "execution_count": 40,
   "id": "9e83d893",
   "metadata": {
    "slideshow": {
     "slide_type": "-"
    }
   },
   "outputs": [],
   "source": [
    "mu_null = 67.5\n",
    "sd_true = 9.5"
   ]
  },
  {
   "cell_type": "code",
   "execution_count": 41,
   "id": "08f14bc2",
   "metadata": {
    "slideshow": {
     "slide_type": "-"
    }
   },
   "outputs": [
    {
     "data": {
      "text/plain": [
       "2.259605535157681"
      ]
     },
     "execution_count": 41,
     "metadata": {},
     "output_type": "execute_result"
    }
   ],
   "source": [
    "N = len(new_data)\n",
    "sem = sd_true / np.sqrt(N)\n",
    "z_score = (sample_mean - mu_null) / sem\n",
    "z_score"
   ]
  },
  {
   "cell_type": "code",
   "execution_count": 42,
   "id": "84a15100",
   "metadata": {
    "slideshow": {
     "slide_type": "slide"
    }
   },
   "outputs": [
    {
     "data": {
      "text/plain": [
       "0.011922871882469877"
      ]
     },
     "execution_count": 42,
     "metadata": {},
     "output_type": "execute_result"
    }
   ],
   "source": [
    "import scipy.stats\n",
    "rv_norm = scipy.stats.norm(0, 1)\n",
    "1 - rv_norm.cdf(z_score)"
   ]
  },
  {
   "cell_type": "code",
   "execution_count": 43,
   "id": "f37ed4fd",
   "metadata": {
    "slideshow": {
     "slide_type": "-"
    }
   },
   "outputs": [
    {
     "data": {
      "text/plain": [
       "0.011922871882469896"
      ]
     },
     "execution_count": 43,
     "metadata": {},
     "output_type": "execute_result"
    }
   ],
   "source": [
    "rv_norm.cdf(-z_score)"
   ]
  },
  {
   "cell_type": "code",
   "execution_count": 44,
   "id": "a1fa74b7",
   "metadata": {
    "slideshow": {
     "slide_type": "-"
    }
   },
   "outputs": [
    {
     "data": {
      "text/plain": [
       "0.023845743764939774"
      ]
     },
     "execution_count": 44,
     "metadata": {},
     "output_type": "execute_result"
    }
   ],
   "source": [
    "rv_norm.cdf(-z_score) + (1 - rv_norm.cdf(z_score))"
   ]
  },
  {
   "cell_type": "markdown",
   "id": "420e7b98",
   "metadata": {
    "slideshow": {
     "slide_type": "slide"
    }
   },
   "source": [
    "### Conclusion of $z$-Test for the Example\n",
    "\n",
    "* With an average expression of 72.3 of gene $X$ in the sample of survivors, and assuming a true population standard deviation of 9.5, we can conclude that the survivors have significantly different statistics scores to the average of normal corals ($z = 2.26, N = 20, p < .05$)."
   ]
  },
  {
   "cell_type": "markdown",
   "id": "bcc0174b",
   "metadata": {
    "slideshow": {
     "slide_type": "slide"
    }
   },
   "source": [
    "### Assumptions of the $z$-Test\n",
    "\n",
    "* Normality\n",
    "  * The $z$-test assumes that the true population distribution is normal \n",
    "\n",
    "* Independence\n",
    "  * The observations in the data are not correlated with each other\n",
    "\n",
    "* Known standard deviation\n",
    "  * The true standard deviation of the population is known"
   ]
  },
  {
   "cell_type": "markdown",
   "id": "b68e69e0",
   "metadata": {
    "slideshow": {
     "slide_type": "slide"
    }
   },
   "source": [
    "### One Sample $t$-Test\n",
    "\n",
    "* We don't know the population's `std`\n",
    "  * We need to adjust for the fact that we have some uncertainty about what the true population standard deviation is\n",
    "  \n",
    "* If our null hypothesis is that the true mean is $\\mu$, but our sample has mean $\\bar{X}$ and our estimate of the population standard deviation is $\\hat{\\sigma}$, then our $t$ statistic is\n",
    "\n",
    "$$\n",
    "t = \\frac{\\bar{X} - \\mu}{\\hat{\\sigma} /\\sqrt{N}}\n",
    "$$\n",
    "\n",
    "* The sampling distribution turns into a $t$-distribution with $N - 1$ degrees of freedom (df)\n"
   ]
  },
  {
   "cell_type": "code",
   "execution_count": 45,
   "id": "1eb91e03",
   "metadata": {
    "slideshow": {
     "slide_type": "slide"
    }
   },
   "outputs": [
    {
     "data": {
      "text/plain": [
       "Ttest_1sampResult(statistic=2.25471286700693, pvalue=0.03614521878144544)"
      ]
     },
     "execution_count": 45,
     "metadata": {},
     "output_type": "execute_result"
    }
   ],
   "source": [
    "result = scipy.stats.ttest_1samp(new_data, popmean=67.5)\n",
    "result"
   ]
  },
  {
   "cell_type": "code",
   "execution_count": 46,
   "id": "09c226fd",
   "metadata": {},
   "outputs": [
    {
     "data": {
      "text/plain": [
       "(2.25471286700693, 0.03614521878144544)"
      ]
     },
     "execution_count": 46,
     "metadata": {},
     "output_type": "execute_result"
    }
   ],
   "source": [
    "t, p = scipy.stats.ttest_1samp(new_data, popmean=67.5)\n",
    "t, p"
   ]
  },
  {
   "cell_type": "code",
   "execution_count": 47,
   "id": "c3c9e6de",
   "metadata": {
    "slideshow": {
     "slide_type": "skip"
    }
   },
   "outputs": [],
   "source": [
    "# scipy.sta(x=new_data, mu=67.5)"
   ]
  },
  {
   "cell_type": "code",
   "execution_count": 48,
   "id": "bb1cb4be",
   "metadata": {
    "slideshow": {
     "slide_type": "skip"
    }
   },
   "outputs": [
    {
     "data": {
      "text/plain": [
       "(67.84421513791415, 76.75578486208585)"
      ]
     },
     "execution_count": 48,
     "metadata": {},
     "output_type": "execute_result"
    }
   ],
   "source": [
    "conf_level = 0.95\n",
    "df = len(new_data) - 1\n",
    "sample_mean = np.mean(new_data)\n",
    "sem = scipy.stats.sem(new_data)\n",
    "\n",
    "conf_interval = scipy.stats.t.interval(conf_level, df, sample_mean, sem)\n",
    "conf_interval"
   ]
  },
  {
   "cell_type": "markdown",
   "id": "3a3e649e",
   "metadata": {
    "slideshow": {
     "slide_type": "slide"
    }
   },
   "source": [
    "### The Independent Samples $t$-Test (Student Test)\n",
    "\n",
    "* Two independent sets of continuous values\n",
    "\n",
    "* Are the two independent samples drawn from populations with the same mean (null hyothesis) or different means (alternative hypothesis)?\n",
    "  * $H_0$: $\\mu_1 = \\mu_2$\n",
    "  * $H_A$: $\\mu_1 \\ne \\mu_2$\n",
    "               \n",
    "<center><img src=\"https://www.dropbox.com/s/b4gmvnol70hc9w6/independent.png?dl=1\" width=\"500\"></center>\n"
   ]
  },
  {
   "cell_type": "markdown",
   "id": "a91631d1",
   "metadata": {
    "slideshow": {
     "slide_type": "skip"
    }
   },
   "source": [
    "### Pooled Estimate of the Standard Deviation\n",
    "\n",
    "* We make the assumption that the two groups have the same population standard deviation\n",
    "  * $\\sigma_1$ = $\\sigma_2 = \\sigma$\n",
    "\n",
    "* Compute it simply as the weighted average across both samples\n"
   ]
  },
  {
   "cell_type": "markdown",
   "id": "47d1747c",
   "metadata": {
    "slideshow": {
     "slide_type": "slide"
    }
   },
   "source": [
    "### Pooled Estimate of the Standard Deviation\n",
    "\n",
    "* We make the assumption that the two groups have the same population standard deviation\n",
    "  * $\\sigma_1$ = $\\sigma_2 = \\sigma$\n",
    "\n",
    "* Compute the *pooled standard deviation* simply as the weighted average across both samples\n",
    "\n",
    "$$\n",
    "\\hat\\sigma = \\sqrt{\\frac{\\left(N_1 - 1\\right)\\hat\\sigma_1^2 + \\left(N_2 - 1\\right)\\hat\\sigma_2^2}{N_1 + N_2 - 2}}\n",
    "$$"
   ]
  },
  {
   "cell_type": "markdown",
   "id": "41060e92",
   "metadata": {
    "slideshow": {
     "slide_type": "slide"
    }
   },
   "source": [
    "### Test Statistic\n",
    "$$\n",
    "t = \\frac{\\bar{X_1} - \\bar{X_2}}{SE(\\bar{X_1} - \\bar{X_2})}\n",
    "$$\n",
    "\n",
    "$\\hspace{0.6in}$ where\n",
    "\n",
    "$$\n",
    "SE(\\bar{X_1} - \\bar{X_2})  = \\hat{\\sigma}\\sqrt{\\frac{1}{N_1}+ \\frac{1}{N_2}}\n",
    "$$\n",
    "\n",
    "* The sampling distribution of this $t$-statistic is a $t$-distribution with $N-2$ degrees of freedom"
   ]
  },
  {
   "cell_type": "markdown",
   "id": "e89d560c",
   "metadata": {
    "slideshow": {
     "slide_type": "skip"
    }
   },
   "source": [
    "### Assumptions of the Student Test\n",
    "* Normality\n",
    "* Independence\n",
    "* Homogeneity of variance (also called “homoscedasticity”)\n",
    "  * Population standard deviation is the same in both groups\n",
    "   * Can be tested using the Levene test"
   ]
  },
  {
   "cell_type": "markdown",
   "id": "d5ebe112",
   "metadata": {
    "slideshow": {
     "slide_type": "slide"
    }
   },
   "source": [
    "### Assumptions of the Student Test\n",
    "* Normality\n",
    "* Independence\n",
    "* Homogeneity of variance (also called “homoscedasticity”)\n",
    "  * Population standard deviation is the same in both groups\n",
    " "
   ]
  },
  {
   "cell_type": "markdown",
   "id": "60dad224",
   "metadata": {
    "slideshow": {
     "slide_type": "slide"
    }
   },
   "source": [
    "### The Independent Samples $t$-Test (Welch Test)\n",
    "\n",
    "* Third assumption of Student test rarely holds with real data\n",
    "  * Both groups may not have the same standard deviation\n",
    "  * If two samples don’t have the same means, why should we expect them to have the same standard deviation?\n",
    "\n",
    "* Does not assume homogeneity of variance\n",
    "  * This leaves only the assumption of normality, and the assumption of independence\n"
   ]
  },
  {
   "cell_type": "markdown",
   "id": "c0edcdd0",
   "metadata": {
    "slideshow": {
     "slide_type": "slide"
    }
   },
   "source": [
    "### Test Statistic\n",
    "$$\n",
    "t = \\frac{\\bar{X_1} - \\bar{X_2}}{SE(\\bar{X_1} - \\bar{X_2})}\n",
    "$$\n",
    "\n",
    "$\\hspace{0.6in}$ where\n",
    "\n",
    "$$\n",
    "SE(\\bar{X_1} - \\bar{X_2}) = \\sqrt{\\frac{\\hat{\\sigma}_1^2}{N_1}+ \\frac{\\hat{\\sigma}_2^2}{N_2}}\n",
    "$$\n"
   ]
  },
  {
   "cell_type": "code",
   "execution_count": 49,
   "id": "32dd0aa5",
   "metadata": {
    "slideshow": {
     "slide_type": "slide"
    }
   },
   "outputs": [],
   "source": [
    "np.random.seed(142)\n",
    "data_1 = np.random.normal(1, 3, 20)\n",
    "data_2 = np.random.normal(1, 3, 20)"
   ]
  },
  {
   "cell_type": "code",
   "execution_count": 50,
   "id": "e622cb15",
   "metadata": {
    "slideshow": {
     "slide_type": "-"
    }
   },
   "outputs": [
    {
     "data": {
      "text/plain": [
       "Ttest_indResult(statistic=0.2526199076931976, pvalue=0.8019234774419112)"
      ]
     },
     "execution_count": 50,
     "metadata": {},
     "output_type": "execute_result"
    }
   ],
   "source": [
    "scipy.stats.ttest_ind(data_1, data_2, equal_var=True)"
   ]
  },
  {
   "cell_type": "code",
   "execution_count": 51,
   "id": "0827615b",
   "metadata": {
    "slideshow": {
     "slide_type": "-"
    }
   },
   "outputs": [
    {
     "data": {
      "text/plain": [
       "Ttest_indResult(statistic=0.2526199076931976, pvalue=0.8022169934426511)"
      ]
     },
     "execution_count": 51,
     "metadata": {},
     "output_type": "execute_result"
    }
   ],
   "source": [
    "scipy.stats.ttest_ind(data_1, data_2, equal_var=False)"
   ]
  },
  {
   "cell_type": "code",
   "execution_count": 52,
   "id": "8afade9d",
   "metadata": {
    "slideshow": {
     "slide_type": "slide"
    }
   },
   "outputs": [],
   "source": [
    "data_1 = np.random.normal(4, 0.8, 20)\n",
    "data_2 = np.random.normal(1, 1.2, 20)"
   ]
  },
  {
   "cell_type": "code",
   "execution_count": 53,
   "id": "818b4b36",
   "metadata": {
    "slideshow": {
     "slide_type": "-"
    }
   },
   "outputs": [
    {
     "data": {
      "text/plain": [
       "Ttest_indResult(statistic=7.884255396216763, pvalue=1.6178648989867056e-09)"
      ]
     },
     "execution_count": 53,
     "metadata": {},
     "output_type": "execute_result"
    }
   ],
   "source": [
    "scipy.stats.ttest_ind(data_1, data_2)"
   ]
  },
  {
   "cell_type": "code",
   "execution_count": 54,
   "id": "88cafaa0",
   "metadata": {
    "slideshow": {
     "slide_type": "-"
    }
   },
   "outputs": [
    {
     "data": {
      "text/plain": [
       "Ttest_indResult(statistic=7.884255396216763, pvalue=3.0754203998087325e-09)"
      ]
     },
     "execution_count": 54,
     "metadata": {},
     "output_type": "execute_result"
    }
   ],
   "source": [
    "scipy.stats.ttest_ind(data_1, data_2, equal_var=False)"
   ]
  },
  {
   "cell_type": "markdown",
   "id": "dc2e45bf",
   "metadata": {
    "slideshow": {
     "slide_type": "skip"
    }
   },
   "source": [
    "### Checking the Normality of the data\n",
    "\n",
    "* QQ plots provide a nice way to informally check the normality of your data\n",
    "\n",
    "* Shapiro-Wilk test provides a formal test\n",
    "  * $N$ observations are normally distributed\n"
   ]
  },
  {
   "cell_type": "markdown",
   "id": "118c1892",
   "metadata": {
    "slideshow": {
     "slide_type": "skip"
    }
   },
   "source": [
    "### Testing Non-Normal Data with Wilcoxon Tests\n",
    "\n",
    "\n",
    "* Like the t-test, the Wilcoxon test comes in two forms, one-sample and two-sample\n",
    "  * They’re used in more or less the exact same situations as the corresponding t-tests\n",
    "\n",
    "* Unlike the t-test, the Wilcoxon test doesn’t assume normality\n",
    "* No assumptions about what kind of distribution is involved\n",
    "  *  nonparametric tests\n",
    "\n",
    "* While avoiding\n",
    "  * Drawback: the Wilcoxon test is usually less powerful than the t-test \n",
    "    * May accepts a null hypothesis that is actually false\n"
   ]
  }
 ],
 "metadata": {
  "celltoolbar": "Slideshow",
  "kernelspec": {
   "display_name": "Python 3 (ipykernel)",
   "language": "python",
   "name": "python3"
  },
  "language_info": {
   "codemirror_mode": {
    "name": "ipython",
    "version": 3
   },
   "file_extension": ".py",
   "mimetype": "text/x-python",
   "name": "python",
   "nbconvert_exporter": "python",
   "pygments_lexer": "ipython3",
   "version": "3.8.11"
  }
 },
 "nbformat": 4,
 "nbformat_minor": 5
}
