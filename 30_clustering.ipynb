{
 "cells": [
  {
   "cell_type": "markdown",
   "metadata": {
    "slideshow": {
     "slide_type": "slide"
    }
   },
   "source": [
    "# ICS 434: DATA SCIENCE FUNDAMENTALS\n",
    "\n",
    "## Clustering\n",
    "\n",
    "---"
   ]
  },
  {
   "cell_type": "code",
   "execution_count": 2,
   "metadata": {
    "slideshow": {
     "slide_type": "skip"
    }
   },
   "outputs": [],
   "source": [
    "import matplotlib.pyplot as plt\n",
    "import numpy as np\n",
    "import pandas as pd\n",
    "\n",
    "%matplotlib inline"
   ]
  },
  {
   "cell_type": "markdown",
   "metadata": {
    "slideshow": {
     "slide_type": "slide"
    }
   },
   "source": [
    "### What is Clustering\n",
    "\n",
    "* Clustering analysis, or clustering, is a computational approach to uncover structure in a dataset.\n",
    "\n",
    "    * Finding groups of points within a dataset that are grouped, or lumped, together.\n",
    "\n",
    "* It is a machine learning task.\n",
    "\n",
    "  * It is said to be unsupervised since the analyst does not describe or provide examples of things that should belong together in a cluster.\n",
    "  \n",
    "    * Supervised machine learning provides labeled data a response $y$ (e.g., instances of spam email vs. ham or legit email) and trains a model to recognize if an email is either spam or ham."
   ]
  },
  {
   "cell_type": "markdown",
   "metadata": {
    "slideshow": {
     "slide_type": "slide"
    }
   },
   "source": [
    "### What is a Cluster?\n",
    "\n",
    "* Descriptions such as “groups of points that are similar” or “close to each other”\n",
    "\n",
    "* The notion of a “cluster” is not well defined \n",
    "  * Clusters may be at times subjective\n",
    "    * The concept of boundary around  a set of similar points is subjective\n",
    "    \n",
    "* Once we see a cluster we \"kind of\" know what it is\n",
    "  \n",
    "<center><img src=\"https://www.dropbox.com/scl/fi/f6v3hg574r9nmfr2xep1f/cluster_def.png?rlkey=g8ymnikayfepixxdh8gz5aevf&dl=1\" width=\"400\"/>\n",
    "<center>\n",
    "Data clustering: 50 years beyond K-means, Jain 2009\n",
    "</center> "
   ]
  },
  {
   "cell_type": "markdown",
   "metadata": {
    "slideshow": {
     "slide_type": "slide"
    }
   },
   "source": [
    "### Question\n",
    "\n",
    "* Is a cluster simply a group of points that are close?\n",
    "* How can you generate points that are distributed like in the figure below?\n",
    "\n",
    "<center><img src=\"https://www.dropbox.com/scl/fi/0ytx0f70leabfoy3jvx01/random_points.png?rlkey=dlnnuj9b3y0c5snrl1kex0t1b&dl=1\" alt=\"drawing\" width=\"300\"/>\n"
   ]
  },
  {
   "cell_type": "code",
   "execution_count": 3,
   "metadata": {
    "slideshow": {
     "slide_type": "slide"
    }
   },
   "outputs": [
    {
     "name": "stdout",
     "output_type": "stream",
     "text": [
      "[71 64  9 63 65]\n",
      "[60 84 84 63 31]\n"
     ]
    }
   ],
   "source": [
    "x_axis = np.random.choice(np.arange(100), size=100)\n",
    "y_axis = np.random.choice(np.arange(100), size=100)\n",
    "\n",
    "print(x_axis[0:5])\n",
    "print(y_axis[0:5])"
   ]
  },
  {
   "cell_type": "code",
   "execution_count": 4,
   "metadata": {
    "slideshow": {
     "slide_type": "slide"
    }
   },
   "outputs": [
    {
     "data": {
      "image/png": "[encoded data removed]",
      "text/plain": [
       "<Figure size 400x400 with 1 Axes>"
      ]
     },
     "metadata": {},
     "output_type": "display_data"
    }
   ],
   "source": [
    "plt.figure(figsize=(4, 4))\n",
    "plt.scatter(x_axis, y_axis)\n",
    "\n",
    "# I used the code below to remove the x and y axis ticks ()\n",
    "_ = plt.xticks([], [])\n",
    "_ = plt.yticks([], [])"
   ]
  },
  {
   "cell_type": "markdown",
   "metadata": {
    "slideshow": {
     "slide_type": "slide"
    }
   },
   "source": [
    "### What is a Cluster? -- Cont'd\n",
    "\n",
    "- We can define a cluster as a contiguous region of high data point density\n",
    "  - Points in the region are close to each other\n",
    "  - Areas contain more than just a few points that seem to occur randomly together\n",
    "- Regions are separated by areas of lower point density\n",
    "  - Points across regions are dissimilar\n",
    "  \n",
    "<center><img src=\"https://www.dropbox.com/scl/fi/i3msfoclgxrtmtgk37r45/two_well_defined_clusters.png?rlkey=i862v028zp318txb4hgux9rug&dl=1\" alt=\"drawing\" width=\"300\"></center>\n",
    "    \n",
    "* How can we generate a dataset like the one above?\n"
   ]
  },
  {
   "cell_type": "code",
   "execution_count": 5,
   "metadata": {
    "slideshow": {
     "slide_type": "slide"
    }
   },
   "outputs": [],
   "source": [
    "mean_c1 = [8, 12]\n",
    "cov_c1 = [[1, 0], [0, 1]]\n",
    "c1 = np.random.multivariate_normal(mean_c1, cov_c1, 40)\n",
    "\n",
    "mean_c2 = [4, 4]\n",
    "cov_c2 = [[1, 0], [0, 1]]\n",
    "c2 = np.random.multivariate_normal(mean_c2, cov_c2, 29)"
   ]
  },
  {
   "cell_type": "code",
   "execution_count": 6,
   "metadata": {
    "slideshow": {
     "slide_type": "-"
    }
   },
   "outputs": [
    {
     "data": {
      "image/png": "[encoded data removed]",
      "text/plain": [
       "<Figure size 400x400 with 1 Axes>"
      ]
     },
     "metadata": {},
     "output_type": "display_data"
    }
   ],
   "source": [
    "plt.figure(figsize=(4, 4))\n",
    "\n",
    "plt.scatter(c1[:, 0], c1[:, 1])\n",
    "plt.scatter(c2[:, 0], c2[:, 1])\n",
    "\n",
    "plt.xticks([], [])\n",
    "plt.yticks([], []);"
   ]
  },
  {
   "cell_type": "markdown",
   "metadata": {
    "slideshow": {
     "slide_type": "slide"
    }
   },
   "source": [
    "### What is a Cluster? -- Cont'd\n",
    "\n",
    "- Contiguous regions of high data point density need not be highly dissimilar\n",
    "  - On average, points across regions are dissimilar\n",
    "  - Some points may be closer than others\n",
    "<center><img src=\"https://www.dropbox.com/scl/fi/3kxvyghm6i5ua1fiyva5n/two_cluster_less_well_defined.png?rlkey=cdluozazgtjyhb9ulxj4hmcsz&dl=1\" alt=\"drawing\" width=\"300\"/>"
   ]
  },
  {
   "cell_type": "markdown",
   "metadata": {
    "slideshow": {
     "slide_type": "slide"
    }
   },
   "source": [
    "### Data Shapes\n",
    "\n",
    "* Clusters may have complicated shapes\n",
    "  * While the clusters above are orderly but real clusters can be *very* messy\n",
    "  * Some clusters do not subscribe to the definitions above \n",
    "  * Such clusters may challenge simple solutions\n",
    "\n",
    "<center><img src=\"https://www.dropbox.com/scl/fi/3gvzp550n3dt2afvrk5ld/data_moons.png?rlkey=c1w0kauppilsa8qs54n3k22zq&dl=1\" alt=\"drawing\" width=\"500\"/>"
   ]
  },
  {
   "cell_type": "markdown",
   "metadata": {
    "slideshow": {
     "slide_type": "slide"
    }
   },
   "source": [
    "### Applications of Clustering\n",
    "\n",
    "* Clustering can be applied in a variety of contexts, from genetics and genomics to user input consolidation and investment\n",
    "* Definition of the clusters across domains is the same\n",
    "  * Regions of high-density points where points characterized by high similarity within regions and low similarity across regions  \n",
    "  * Naturally, the concept of similarity and distance between points is domain-specific\n",
    "    * Similarity between two Netflix users can be defined as the degree of agreement on ratings of movies they watched\n",
    "      * Or just the movies they watched\n",
    "    * The similarity between two stocks, say apple and qualcom\n",
    "        * Useful to the diversification of portfolios"
   ]
  },
  {
   "cell_type": "markdown",
   "metadata": {
    "slideshow": {
     "slide_type": "slide"
    }
   },
   "source": [
    "### Example: Data Reconciliation\n",
    "\n",
    "* Very useful for finding groups of different values that might be alternative representations of the same thing\n",
    "\n",
    "* This is called reconciliation and can be a massive problem for some industries\n",
    "\n",
    "<center><img src=\"https://www.dropbox.com/scl/fi/phrvex55h060ayd380uey/Clustering_strings.png?rlkey=q64mqq1vi38nce2kzizuk33g0&dl=1\" alt=\"drawing\" width=\"500\"></center>\n",
    "\n",
    "* First Avenue, First Ave, 1st Ave, Furst Ave, etc."
   ]
  },
  {
   "cell_type": "markdown",
   "metadata": {
    "slideshow": {
     "slide_type": "slide"
    }
   },
   "source": [
    "### Example: Stocks Clustering\n",
    "\n",
    "* Useful to derive a strategy for assets diversification\n",
    "\n",
    "<center><img src=\"https://www.dropbox.com/scl/fi/wyio8h3u2wyzebgbu8d9f/stocks_clusters.png?rlkey=cm998ukemvuzzln9tutl07k6k&dl=1\" alt=\"drawing\" width=\"600\"/>\n"
   ]
  },
  {
   "cell_type": "markdown",
   "metadata": {
    "collapsed": true,
    "jupyter": {
     "outputs_hidden": true
    },
    "slideshow": {
     "slide_type": "slide"
    }
   },
   "source": [
    "### Example: Market Segmentation\n",
    "\n",
    "* Who are my potential customer groups?\n",
    "\n",
    "  * Who is buying my app and what features should be most appropriate?\n",
    "\n",
    "<center><img src=\"https://www.dropbox.com/scl/fi/y8fzr44josf6req7jy3dn/market-segmentation.png?rlkey=lc8tjxddrwzf2rcvet7r453qk&dl=1\" alt=\"drawing\" width=\"500\"/>\n"
   ]
  },
  {
   "cell_type": "markdown",
   "metadata": {
    "collapsed": true,
    "jupyter": {
     "outputs_hidden": true
    },
    "slideshow": {
     "slide_type": "slide"
    }
   },
   "source": [
    "### Distance and Similarity Measures \n",
    "  \n",
    "* Clustering  requires being able to compute a distance (or similarity) between the data points\n",
    "  * How similar are two stocks?\n",
    "\n",
    "* A distance is any function, `d`,  that takes two points (`x` and `y`) and returns a scalar value that is a measure for how different these points are\n",
    "  * The more dissimilar the points, the larger the distance \n",
    "  * It may be easier to make more sense to compute a similarity using a function `s`\n",
    "    * s(x, y) can be easily converted into d(x, y)\n",
    "    \n",
    "* While data points do not have to be embedded into a geometric space, it helps to think about their distance (or similarity) as if they were\n",
    "  * If we can transform data points to have properties of a vector space then we can develop more efficient algorithms that exploit these properties\n"
   ]
  },
  {
   "cell_type": "markdown",
   "metadata": {
    "slideshow": {
     "slide_type": "skip"
    }
   },
   "source": [
    "### Distance to Similarity\n",
    "\n",
    "<center><img src=\"https://www.dropbox.com/scl/fi/98dprxphhrq1aw8jdygq3/dist_sim.png?rlkey=v5u7uo7nue6iliulve8bhip65&dl=1\" alt=\"drawing\" width=\"700\"/>\n"
   ]
  },
  {
   "cell_type": "code",
   "execution_count": 7,
   "metadata": {
    "slideshow": {
     "slide_type": "skip"
    }
   },
   "outputs": [
    {
     "data": {
      "image/png": "[encoded data removed]",
      "text/plain": [
       "<Figure size 2200x600 with 3 Axes>"
      ]
     },
     "metadata": {},
     "output_type": "display_data"
    }
   ],
   "source": [
    "plt.figure(figsize=(22, 6))\n",
    "\n",
    "similairity = np.arange(0, 1.01, 0.01)\n",
    "\n",
    "method_1 = 1 - similairity\n",
    "\n",
    "plt.subplot(2,2,1)\n",
    "plt.plot(similairity, method_1)\n",
    "# plt.xlabel(\"Similarity\", fontsize=18)\n",
    "plt.ylabel(\"distance\", fontsize=18)\n",
    "_ = plt.xticks(fontsize=14)\n",
    "_ = plt.yticks(fontsize=14)\n",
    "\n",
    "\n",
    "method_2 =  -np.log(similairity + 0.0001)\n",
    "\n",
    "plt.subplot(2,2,2)\n",
    "plt.plot(similairity, method_2)\n",
    "plt.xlabel(\"Similarity\", fontsize=18)\n",
    "plt.ylabel(\"distance\", fontsize=18)\n",
    "_ = plt.xticks(fontsize=14)\n",
    "_ = plt.yticks(fontsize=14)\n",
    "\n",
    "\n",
    "method_3 =  np.sqrt(1 - similairity)\n",
    "\n",
    "plt.subplot(2,2,3)\n",
    "\n",
    "plt.plot(similairity, method_3)\n",
    "plt.xlabel(\"Similarity\", fontsize=18)\n",
    "plt.ylabel(\"distance\", fontsize=18)\n",
    "_ = plt.xticks(fontsize=14)\n",
    "_ = plt.yticks(fontsize=14)"
   ]
  },
  {
   "cell_type": "markdown",
   "metadata": {
    "slideshow": {
     "slide_type": "slide"
    }
   },
   "source": [
    "### Distance and Similarity Measures -- Cont'd\n",
    "\n",
    "* Sometimes, the concept of distance in geometric space is clear\n",
    "  * Ex. Use any measure that considers the locations of the points in such a space\n",
    "  * Most points are not just in 2-d but exist in higher-dimensional space\n",
    "  \n",
    "<center><img src=\"https://www.dropbox.com/scl/fi/pbq6t0995wbv2xhehk20k/distnace_a_b.png?rlkey=kqqw02unt1zj0ad9s7n2703sl&dl=1\" alt=\"drawing\" style=\"width:250px\"/></center>\n",
    "    \n",
    "* Oher times, there is no obvious choice as to how to compute the distance between two points\n",
    "  * You are clustering music genres. How do you compute the distance between two songs?\n",
    "    "
   ]
  },
  {
   "cell_type": "markdown",
   "metadata": {},
   "source": [
    "### Clustering Music Genres\n",
    "\n",
    "* Example of an approach used to convert a song into features:\n",
    "  * Identify relevant dimensions\n",
    "    * For instance, beats per minute, the proportion of various instruments soloing, properties of the lyrics, or the presence/absence of certain words, etc.\n",
    "  * Consider the vectors as points in high-dimensional space and use a distance measure, e.g., Euclidean, to measure the distance between two songs."
   ]
  },
  {
   "cell_type": "markdown",
   "metadata": {
    "slideshow": {
     "slide_type": "slide"
    }
   },
   "source": [
    "### Example: Distance Between Music Genres\n",
    "\n",
    "<center><img src=\"https://www.dropbox.com/scl/fi/suwyu3psaotjw2mq9jrns/music_genres.png?rlkey=esp3kfrvemtz6cebi4dvmj90t&dl=1\" width=550/></center>\n",
    "\n",
    "<center>Genre Complexes in Popular Music. Silver et al., Plos One, 2016</center>"
   ]
  },
  {
   "cell_type": "markdown",
   "metadata": {
    "slideshow": {
     "slide_type": "slide"
    }
   },
   "source": [
    "### Common Distance Metrics \n",
    "\n",
    "* For simplicity, we'll classify the distances into two high-level categories\n",
    "\n",
    "* Euclidean and spherical geometry distances\n",
    "    * Use the location of the points in an Euclidean or spherical coordinate systems to estimate their distance\n",
    "\n",
    "* Other: Non-Euclidean and non-spherical geometry distances\n",
    "    * Use properties of points to estimate their distance\n",
    "\n",
    "* This is a coarse and somewhat subjective categorization, and other classifications are possible"
   ]
  },
  {
   "cell_type": "markdown",
   "metadata": {
    "slideshow": {
     "slide_type": "slide"
    }
   },
   "source": [
    "### Euclidean and Spherical Distances\n",
    "\n",
    "* The Euclidean distance\n",
    "  * Most commonly used distance measure\n",
    "  * Distance between two points $P$ and $Q$ with coordinate $(p_1,p_2)$ and $(q_1,q_2)$ respectively is:\n",
    "\n",
    "$$\n",
    "d_{PQ} = \\sqrt{(p_1-q_1)^2 + (p_2-q_2)^2}\n",
    "$$\n"
   ]
  },
  {
   "cell_type": "markdown",
   "metadata": {
    "slideshow": {
     "slide_type": "slide"
    }
   },
   "source": [
    "### Euclidean and Spherical Distances -- Cont'd \n",
    "\n",
    "* The Manhattan (or taxicab or cityblock) distance\n",
    "* Geodesic distance\n",
    "  \n",
    "<center><img src=\"https://www.dropbox.com/scl/fi/nrsyxbmoauydblxm3p51q/distances.png?rlkey=u5qbq3sgahmyw8sslzttcbhof&dl=1\" alt=\"drawing\" width=\"500\"/>\n"
   ]
  },
  {
   "cell_type": "markdown",
   "metadata": {
    "slideshow": {
     "slide_type": "skip"
    }
   },
   "source": [
    "### Non-Euclidean Distance\n",
    "\n",
    "<br>\n",
    "Examples of non-euclidean distances are: \n",
    "\n",
    "* Edit distance or number of inserts and deletes to change one string into another\n",
    "  * Ex. what is the distance between `x = AGACGTAG` and  `y = GTTCAGA`\n",
    "\n",
    "<center><img src=\"https://www.dropbox.com/scl/fi/few5r3nmoq2g1jzej0gly/edit_distance.png?rlkey=viso1y3hmxifz4tptw9gpl87x&dl=1\" alt=\"drawing\" width=\"600\"/></center>\n",
    "\n",
    "    Remove A, convert A to T, ... \n",
    "    The distance between `x` and `y` is 5\n"
   ]
  },
  {
   "cell_type": "markdown",
   "metadata": {
    "slideshow": {
     "slide_type": "slide"
    }
   },
   "source": [
    "### Non-Euclidean Distance: Jaccard Distance\n",
    "\n",
    "* Jaccard distance is used with sets\n",
    "* It computes the number of items shared over all the items in the sets (Jaccard index)\n",
    "    \n",
    "<center><img src=\"https://www.dropbox.com/scl/fi/licq7cze2gufusath1iw9/jaccard.png?rlkey=ia1sgqkmwm8j2465ztj52xte4&dl=1\" alt=\"drawing\" width=\"700\"/>\n"
   ]
  },
  {
   "cell_type": "code",
   "execution_count": 3,
   "metadata": {
    "slideshow": {
     "slide_type": "slide"
    }
   },
   "outputs": [
    {
     "data": {
      "text/plain": [
       "array(['Sa5FmI', 'tiNdPp', 'Z4m9GU', 'XgHp7g', 'xs5rCQ', '7T6VFZ',\n",
       "       'Ns3uMt', 'OVYr8G', 'VeF3Ky', 'fxfGxX', 'Xl5GLH', 'Epnjrm',\n",
       "       'BzSBEV', 'Op4wXC', 'xJJEWG', 'zpQnUk', 'JQHCwB', 'HY4cTU',\n",
       "       '7EzU5A', 'wHOess'], dtype=object)"
      ]
     },
     "execution_count": 3,
     "metadata": {},
     "output_type": "execute_result"
    }
   ],
   "source": [
    "symptoms = [\"Muscle Cramps\", \"Weight Gain\", \"Easy Bruising\", \"Metallic Taste\", \"Paranoia\",\n",
    "            \"Leg Pain\", \"Gas and Bloating\", \"Mouth Sores\", \"Nausea, Upset Stomach\", \n",
    "            \"Rectal Bleeding\", \"Shortness of Breath\", \"Muscle Cramps\", \"Urine Odor\",\n",
    "            \"Swollen Ankles and Feet\", \"Joint Cracking\", \"Eye Twitch\", \"Dry Skin\"]\n",
    "\n",
    "patient_ids = pd._testing.rands_array(6, 20)\n",
    "patient_ids"
   ]
  },
  {
   "cell_type": "code",
   "execution_count": 4,
   "metadata": {
    "slideshow": {
     "slide_type": "-"
    }
   },
   "outputs": [
    {
     "data": {
      "text/plain": [
       "array([1, 0, 1, 1, 1, 0, 1, 0, 0, 0, 0, 0, 1, 1, 1, 1, 0])"
      ]
     },
     "execution_count": 4,
     "metadata": {},
     "output_type": "execute_result"
    }
   ],
   "source": [
    "patient_outcomes = np.random.choice([0, 1], size=(len(symptoms)))            \n",
    "patient_outcomes"
   ]
  },
  {
   "cell_type": "code",
   "execution_count": 7,
   "metadata": {
    "slideshow": {
     "slide_type": "slide"
    }
   },
   "outputs": [
    {
     "data": {
      "text/plain": [
       "[array([1, 0, 1, 1, 1, 0, 1, 1, 1, 0, 0, 0, 1, 1, 0, 0, 0]),\n",
       " array([0, 1, 1, 0, 1, 0, 0, 1, 0, 0, 0, 1, 1, 0, 0, 0, 1]),\n",
       " array([1, 1, 0, 0, 1, 0, 0, 1, 1, 1, 0, 0, 1, 1, 1, 1, 0]),\n",
       " array([1, 1, 1, 0, 1, 1, 0, 0, 1, 1, 0, 0, 0, 0, 0, 1, 1]),\n",
       " array([1, 1, 1, 0, 1, 1, 0, 0, 1, 1, 0, 0, 0, 1, 0, 0, 1]),\n",
       " array([0, 0, 1, 1, 0, 1, 1, 1, 0, 1, 0, 1, 0, 1, 1, 0, 0]),\n",
       " array([0, 1, 1, 0, 0, 1, 0, 0, 1, 1, 0, 0, 1, 0, 1, 1, 0]),\n",
       " array([0, 1, 1, 1, 0, 1, 0, 0, 0, 0, 1, 0, 1, 1, 1, 1, 1]),\n",
       " array([1, 1, 0, 1, 1, 1, 1, 1, 1, 1, 1, 1, 0, 0, 1, 0, 1]),\n",
       " array([1, 0, 0, 1, 1, 1, 0, 0, 1, 1, 0, 0, 0, 0, 1, 1, 1]),\n",
       " array([0, 0, 0, 1, 1, 1, 0, 0, 1, 1, 1, 1, 0, 1, 0, 0, 1]),\n",
       " array([0, 0, 1, 1, 1, 1, 0, 0, 0, 1, 1, 1, 1, 1, 0, 1, 1]),\n",
       " array([1, 0, 1, 0, 1, 0, 0, 0, 1, 0, 0, 1, 0, 0, 0, 0, 1]),\n",
       " array([0, 1, 1, 0, 1, 1, 1, 1, 1, 1, 0, 1, 0, 0, 0, 1, 1]),\n",
       " array([0, 1, 1, 1, 1, 1, 1, 0, 0, 0, 1, 0, 0, 0, 1, 0, 0]),\n",
       " array([0, 0, 1, 1, 0, 1, 1, 1, 1, 0, 0, 1, 0, 0, 0, 1, 0]),\n",
       " array([0, 0, 0, 1, 1, 1, 1, 0, 1, 0, 0, 0, 1, 0, 0, 0, 0]),\n",
       " array([0, 0, 1, 1, 0, 1, 1, 0, 0, 0, 1, 0, 1, 0, 0, 1, 1]),\n",
       " array([0, 0, 0, 1, 0, 1, 1, 1, 1, 1, 1, 0, 0, 1, 1, 1, 1]),\n",
       " array([0, 0, 0, 1, 1, 1, 1, 0, 0, 0, 0, 0, 1, 1, 1, 1, 0])]"
      ]
     },
     "execution_count": 7,
     "metadata": {},
     "output_type": "execute_result"
    }
   ],
   "source": [
    "data = [np.random.choice([0, 1], size=(len(symptoms))) for _ in range(len(patient_ids))]\n",
    "data"
   ]
  },
  {
   "cell_type": "code",
   "execution_count": 8,
   "metadata": {
    "slideshow": {
     "slide_type": "slide"
    }
   },
   "outputs": [
    {
     "data": {
      "text/html": [
       "<div>\n",
       "<style scoped>\n",
       "    .dataframe tbody tr th:only-of-type {\n",
       "        vertical-align: middle;\n",
       "    }\n",
       "\n",
       "    .dataframe tbody tr th {\n",
       "        vertical-align: top;\n",
       "    }\n",
       "\n",
       "    .dataframe thead th {\n",
       "        text-align: right;\n",
       "    }\n",
       "</style>\n",
       "<table border=\"1\" class=\"dataframe\">\n",
       "  <thead>\n",
       "    <tr style=\"text-align: right;\">\n",
       "      <th></th>\n",
       "      <th>Muscle Cramps</th>\n",
       "      <th>Weight Gain</th>\n",
       "      <th>Easy Bruising</th>\n",
       "      <th>Metallic Taste</th>\n",
       "      <th>Paranoia</th>\n",
       "      <th>Leg Pain</th>\n",
       "      <th>Gas and Bloating</th>\n",
       "      <th>Mouth Sores</th>\n",
       "      <th>Nausea, Upset Stomach</th>\n",
       "      <th>Rectal Bleeding</th>\n",
       "      <th>Shortness of Breath</th>\n",
       "      <th>Muscle Cramps</th>\n",
       "      <th>Urine Odor</th>\n",
       "      <th>Swollen Ankles and Feet</th>\n",
       "      <th>Joint Cracking</th>\n",
       "      <th>Eye Twitch</th>\n",
       "      <th>Dry Skin</th>\n",
       "    </tr>\n",
       "  </thead>\n",
       "  <tbody>\n",
       "    <tr>\n",
       "      <th>Sa5FmI</th>\n",
       "      <td>1</td>\n",
       "      <td>0</td>\n",
       "      <td>1</td>\n",
       "      <td>1</td>\n",
       "      <td>1</td>\n",
       "      <td>0</td>\n",
       "      <td>1</td>\n",
       "      <td>1</td>\n",
       "      <td>1</td>\n",
       "      <td>0</td>\n",
       "      <td>0</td>\n",
       "      <td>0</td>\n",
       "      <td>1</td>\n",
       "      <td>1</td>\n",
       "      <td>0</td>\n",
       "      <td>0</td>\n",
       "      <td>0</td>\n",
       "    </tr>\n",
       "    <tr>\n",
       "      <th>tiNdPp</th>\n",
       "      <td>0</td>\n",
       "      <td>1</td>\n",
       "      <td>1</td>\n",
       "      <td>0</td>\n",
       "      <td>1</td>\n",
       "      <td>0</td>\n",
       "      <td>0</td>\n",
       "      <td>1</td>\n",
       "      <td>0</td>\n",
       "      <td>0</td>\n",
       "      <td>0</td>\n",
       "      <td>1</td>\n",
       "      <td>1</td>\n",
       "      <td>0</td>\n",
       "      <td>0</td>\n",
       "      <td>0</td>\n",
       "      <td>1</td>\n",
       "    </tr>\n",
       "    <tr>\n",
       "      <th>Z4m9GU</th>\n",
       "      <td>1</td>\n",
       "      <td>1</td>\n",
       "      <td>0</td>\n",
       "      <td>0</td>\n",
       "      <td>1</td>\n",
       "      <td>0</td>\n",
       "      <td>0</td>\n",
       "      <td>1</td>\n",
       "      <td>1</td>\n",
       "      <td>1</td>\n",
       "      <td>0</td>\n",
       "      <td>0</td>\n",
       "      <td>1</td>\n",
       "      <td>1</td>\n",
       "      <td>1</td>\n",
       "      <td>1</td>\n",
       "      <td>0</td>\n",
       "    </tr>\n",
       "    <tr>\n",
       "      <th>XgHp7g</th>\n",
       "      <td>1</td>\n",
       "      <td>1</td>\n",
       "      <td>1</td>\n",
       "      <td>0</td>\n",
       "      <td>1</td>\n",
       "      <td>1</td>\n",
       "      <td>0</td>\n",
       "      <td>0</td>\n",
       "      <td>1</td>\n",
       "      <td>1</td>\n",
       "      <td>0</td>\n",
       "      <td>0</td>\n",
       "      <td>0</td>\n",
       "      <td>0</td>\n",
       "      <td>0</td>\n",
       "      <td>1</td>\n",
       "      <td>1</td>\n",
       "    </tr>\n",
       "    <tr>\n",
       "      <th>xs5rCQ</th>\n",
       "      <td>1</td>\n",
       "      <td>1</td>\n",
       "      <td>1</td>\n",
       "      <td>0</td>\n",
       "      <td>1</td>\n",
       "      <td>1</td>\n",
       "      <td>0</td>\n",
       "      <td>0</td>\n",
       "      <td>1</td>\n",
       "      <td>1</td>\n",
       "      <td>0</td>\n",
       "      <td>0</td>\n",
       "      <td>0</td>\n",
       "      <td>1</td>\n",
       "      <td>0</td>\n",
       "      <td>0</td>\n",
       "      <td>1</td>\n",
       "    </tr>\n",
       "  </tbody>\n",
       "</table>\n",
       "</div>"
      ],
      "text/plain": [
       "        Muscle Cramps  Weight Gain  Easy Bruising  Metallic Taste  Paranoia   \n",
       "Sa5FmI              1            0              1               1         1  \\\n",
       "tiNdPp              0            1              1               0         1   \n",
       "Z4m9GU              1            1              0               0         1   \n",
       "XgHp7g              1            1              1               0         1   \n",
       "xs5rCQ              1            1              1               0         1   \n",
       "\n",
       "        Leg Pain  Gas and Bloating  Mouth Sores  Nausea, Upset Stomach   \n",
       "Sa5FmI         0                 1            1                      1  \\\n",
       "tiNdPp         0                 0            1                      0   \n",
       "Z4m9GU         0                 0            1                      1   \n",
       "XgHp7g         1                 0            0                      1   \n",
       "xs5rCQ         1                 0            0                      1   \n",
       "\n",
       "        Rectal Bleeding  Shortness of Breath  Muscle Cramps  Urine Odor   \n",
       "Sa5FmI                0                    0              0           1  \\\n",
       "tiNdPp                0                    0              1           1   \n",
       "Z4m9GU                1                    0              0           1   \n",
       "XgHp7g                1                    0              0           0   \n",
       "xs5rCQ                1                    0              0           0   \n",
       "\n",
       "        Swollen Ankles and Feet  Joint Cracking  Eye Twitch  Dry Skin  \n",
       "Sa5FmI                        1               0           0         0  \n",
       "tiNdPp                        0               0           0         1  \n",
       "Z4m9GU                        1               1           1         0  \n",
       "XgHp7g                        0               0           1         1  \n",
       "xs5rCQ                        1               0           0         1  "
      ]
     },
     "execution_count": 8,
     "metadata": {},
     "output_type": "execute_result"
    }
   ],
   "source": [
    "patients_data = pd.DataFrame(columns=symptoms, data=data, index=patient_ids)\n",
    "patients_data.head()"
   ]
  },
  {
   "cell_type": "code",
   "execution_count": 9,
   "metadata": {},
   "outputs": [
    {
     "data": {
      "text/plain": [
       "(20, 17)"
      ]
     },
     "execution_count": 9,
     "metadata": {},
     "output_type": "execute_result"
    }
   ],
   "source": [
    "patients_data.shape"
   ]
  },
  {
   "cell_type": "code",
   "execution_count": 10,
   "metadata": {
    "slideshow": {
     "slide_type": "skip"
    }
   },
   "outputs": [
    {
     "data": {
      "text/plain": [
       "array([ True,  True, False,  True,  True])"
      ]
     },
     "execution_count": 10,
     "metadata": {},
     "output_type": "execute_result"
    }
   ],
   "source": [
    "vec_1 = np.array([1, 0, 1, 1, 1])\n",
    "vec_2 = np.array([1, 0, 0, 1, 1])\n",
    "\n",
    "(vec_1 == vec_2) "
   ]
  },
  {
   "cell_type": "code",
   "execution_count": 11,
   "metadata": {
    "slideshow": {
     "slide_type": "skip"
    }
   },
   "outputs": [
    {
     "data": {
      "text/plain": [
       "array([ True, False, False])"
      ]
     },
     "execution_count": 11,
     "metadata": {},
     "output_type": "execute_result"
    }
   ],
   "source": [
    "x = np.array([True,  True,  False])\n",
    "y = np.array([True,  False, True])\n",
    "\n",
    "x & y"
   ]
  },
  {
   "cell_type": "code",
   "execution_count": 12,
   "metadata": {},
   "outputs": [
    {
     "data": {
      "text/plain": [
       "array([ True, False, False])"
      ]
     },
     "execution_count": 12,
     "metadata": {},
     "output_type": "execute_result"
    }
   ],
   "source": [
    "x == y"
   ]
  },
  {
   "cell_type": "code",
   "execution_count": 16,
   "metadata": {},
   "outputs": [
    {
     "data": {
      "text/plain": [
       "1"
      ]
     },
     "execution_count": 16,
     "metadata": {},
     "output_type": "execute_result"
    }
   ],
   "source": [
    "sum(x==y) "
   ]
  },
  {
   "cell_type": "code",
   "execution_count": 17,
   "metadata": {},
   "outputs": [
    {
     "data": {
      "text/plain": [
       "array([ True, False,  True,  True,  True])"
      ]
     },
     "execution_count": 17,
     "metadata": {},
     "output_type": "execute_result"
    }
   ],
   "source": [
    "(vec_1 == 1)"
   ]
  },
  {
   "cell_type": "code",
   "execution_count": 14,
   "metadata": {
    "slideshow": {
     "slide_type": "slide"
    }
   },
   "outputs": [
    {
     "data": {
      "text/plain": [
       "3"
      ]
     },
     "execution_count": 14,
     "metadata": {},
     "output_type": "execute_result"
    }
   ],
   "source": [
    "vec_1 = np.array([1, 0, 1, 1, 1])\n",
    "vec_2 = np.array([1, 0, 0, 1, 1])\n",
    "\n",
    "sum((vec_1 == vec_2) & (vec_1 == 1))"
   ]
  },
  {
   "cell_type": "code",
   "execution_count": 15,
   "metadata": {
    "slideshow": {
     "slide_type": "-"
    }
   },
   "outputs": [
    {
     "data": {
      "text/plain": [
       "4"
      ]
     },
     "execution_count": 15,
     "metadata": {},
     "output_type": "execute_result"
    }
   ],
   "source": [
    "vec_1 = np.array([1, 0, 1, 1, 1])\n",
    "vec_2 = np.array([1, 0, 0, 1, 1])\n",
    "\n",
    "sum((vec_1 == 1) | (vec_2 == 1))"
   ]
  },
  {
   "cell_type": "code",
   "execution_count": 16,
   "metadata": {
    "slideshow": {
     "slide_type": "slide"
    }
   },
   "outputs": [],
   "source": [
    "def compute_Jaccard_distance(vec_1, vec_2):\n",
    "    \n",
    "    # All the symptoms shared by both\n",
    "    intersection = sum((vec_1 == vec_2) & (vec_1 == 1))\n",
    "    \n",
    "    # All the symptoms that either one has\n",
    "    union = sum((vec_1 == 1) | (vec_2 == 1))\n",
    "    \n",
    "    return 1 - intersection / union"
   ]
  },
  {
   "cell_type": "code",
   "execution_count": 17,
   "metadata": {
    "slideshow": {
     "slide_type": "-"
    }
   },
   "outputs": [
    {
     "name": "stdout",
     "output_type": "stream",
     "text": [
      "0.25\n"
     ]
    }
   ],
   "source": [
    "vec_1 = np.array([1, 0, 1, 1, 1])\n",
    "vec_2 = np.array([1, 0, 0, 1, 1])\n",
    "\n",
    "print(compute_Jaccard_distance(vec_1, vec_2))"
   ]
  },
  {
   "cell_type": "markdown",
   "metadata": {
    "slideshow": {
     "slide_type": "slide"
    }
   },
   "source": [
    "### Distance Matrix\n",
    "\n",
    "* It is common to store the pairwise distances between data points in a distance matrix $M$.\n",
    "\n",
    "* The matrix has dimensions $n \\times n$, where $n$ is the number of data points.\n",
    "\n",
    "* For any two points $p_i$ and $p_j$, it is typically assumed that:\n",
    "\n",
    "$$ \n",
    "M[i, j] = d(p_i, p_j) \\\\\n",
    "M[j, i] = d(p_j, p_i)\n",
    "$$\n",
    "\n",
    "where $d(p_i, p_j)$ is the distance between points $p_i$ and $p_j$, and the matrix $M$ is symmetric.\n"
   ]
  },
  {
   "cell_type": "code",
   "execution_count": 19,
   "metadata": {
    "slideshow": {
     "slide_type": "skip"
    }
   },
   "outputs": [
    {
     "data": {
      "text/plain": [
       "array([[0., 0., 0.],\n",
       "       [0., 0., 0.],\n",
       "       [0., 0., 0.]])"
      ]
     },
     "execution_count": 19,
     "metadata": {},
     "output_type": "execute_result"
    }
   ],
   "source": [
    "np.random.seed(100)\n",
    "dist_patients = np.zeros([3, 3])\n",
    "dist_patients"
   ]
  },
  {
   "cell_type": "code",
   "execution_count": 20,
   "metadata": {
    "slideshow": {
     "slide_type": "slide"
    }
   },
   "outputs": [
    {
     "data": {
      "text/plain": [
       "(20, 20)"
      ]
     },
     "execution_count": 20,
     "metadata": {},
     "output_type": "execute_result"
    }
   ],
   "source": [
    "# Compute all pair-wise Jaccard coefficients\n",
    "dist_patients = np.zeros([len(patient_ids), len(patient_ids)])\n",
    "\n",
    "for i in range(patients_data.shape[0]):\n",
    "    for j in range(i, patients_data.shape[0]):\n",
    "        vec_1 = patients_data.iloc[i]\n",
    "        vec_2 = patients_data.iloc[j]\n",
    "\n",
    "        # compute distance and round to two decimal points\n",
    "        dist_patients[i, j] = round(compute_Jaccard_distance(vec_1, vec_2), 2)\n",
    "        dist_patients[j, i] = dist_patients[i, j]\n",
    "        \n",
    "dist_patients.shape"
   ]
  },
  {
   "cell_type": "code",
   "execution_count": 21,
   "metadata": {
    "slideshow": {
     "slide_type": "skip"
    }
   },
   "outputs": [
    {
     "data": {
      "text/plain": [
       "array([[0.  , 0.64, 0.5 , 0.69, 0.6 , 0.93, 0.92, 0.69, 0.79, 0.64, 0.67,\n",
       "        0.71, 0.71, 0.85, 0.73, 0.77, 0.77, 0.83, 0.69, 0.54],\n",
       "       [0.64, 0.  , 0.64, 0.5 , 0.75, 0.69, 0.73, 0.71, 0.5 , 0.46, 0.79,\n",
       "        0.73, 0.64, 0.77, 0.93, 0.58, 0.58, 0.64, 0.8 , 0.57],\n",
       "       [0.5 , 0.64, 0.  , 0.69, 0.62, 0.75, 0.79, 0.6 , 0.6 , 0.36, 0.46,\n",
       "        0.53, 0.53, 0.64, 0.62, 0.82, 0.75, 0.8 , 0.5 , 0.47],\n",
       "       [0.69, 0.5 , 0.69, 0.  , 0.69, 0.64, 0.67, 0.33, 0.33, 0.62, 0.73,\n",
       "        0.5 , 0.5 , 0.62, 0.79, 0.42, 0.27, 0.69, 0.67, 0.53],\n",
       "       [0.6 , 0.75, 0.62, 0.69, 0.  , 0.77, 0.7 , 0.79, 0.69, 0.54, 0.55,\n",
       "        0.71, 0.71, 0.85, 0.44, 0.77, 0.77, 0.92, 0.45, 0.64],\n",
       "       [0.93, 0.69, 0.75, 0.64, 0.77, 0.  , 0.75, 0.73, 0.64, 0.6 , 0.71,\n",
       "        0.46, 0.67, 0.69, 0.67, 0.5 , 0.5 , 0.67, 0.54, 0.6 ],\n",
       "       [0.92, 0.73, 0.79, 0.67, 0.7 , 0.75, 0.  , 0.67, 0.55, 0.62, 0.75,\n",
       "        0.69, 0.45, 0.73, 0.82, 0.75, 0.75, 0.7 , 0.67, 0.88],\n",
       "       [0.69, 0.71, 0.6 , 0.33, 0.79, 0.73, 0.67, 0.  , 0.46, 0.62, 0.64,\n",
       "        0.5 , 0.5 , 0.71, 0.69, 0.64, 0.54, 0.69, 0.57, 0.53],\n",
       "       [0.79, 0.5 , 0.6 , 0.33, 0.69, 0.64, 0.55, 0.46, 0.  , 0.53, 0.54,\n",
       "        0.69, 0.38, 0.5 , 0.79, 0.54, 0.54, 0.69, 0.67, 0.53],\n",
       "       [0.64, 0.46, 0.36, 0.62, 0.54, 0.6 , 0.62, 0.62, 0.53, 0.  , 0.5 ,\n",
       "        0.56, 0.47, 0.67, 0.73, 0.6 , 0.69, 0.64, 0.53, 0.4 ],\n",
       "       [0.67, 0.79, 0.46, 0.73, 0.55, 0.71, 0.75, 0.64, 0.54, 0.5 , 0.  ,\n",
       "        0.57, 0.57, 0.69, 0.55, 0.71, 0.71, 0.86, 0.54, 0.5 ],\n",
       "       [0.71, 0.73, 0.53, 0.5 , 0.71, 0.46, 0.69, 0.5 , 0.69, 0.56, 0.57,\n",
       "        0.  , 0.53, 0.73, 0.62, 0.57, 0.46, 0.71, 0.38, 0.56],\n",
       "       [0.71, 0.64, 0.53, 0.5 , 0.71, 0.67, 0.45, 0.5 , 0.38, 0.47, 0.57,\n",
       "        0.53, 0.  , 0.54, 0.71, 0.46, 0.57, 0.71, 0.6 , 0.56],\n",
       "       [0.85, 0.77, 0.64, 0.62, 0.85, 0.69, 0.73, 0.71, 0.5 , 0.67, 0.69,\n",
       "        0.73, 0.54, 0.  , 0.85, 0.58, 0.69, 0.5 , 0.8 , 0.57],\n",
       "       [0.73, 0.93, 0.62, 0.79, 0.44, 0.67, 0.82, 0.69, 0.79, 0.73, 0.55,\n",
       "        0.62, 0.71, 0.85, 0.  , 0.86, 0.77, 1.  , 0.45, 0.64],\n",
       "       [0.77, 0.58, 0.82, 0.42, 0.77, 0.5 , 0.75, 0.64, 0.54, 0.6 , 0.71,\n",
       "        0.57, 0.46, 0.58, 0.86, 0.  , 0.36, 0.55, 0.73, 0.5 ],\n",
       "       [0.77, 0.58, 0.75, 0.27, 0.77, 0.5 , 0.75, 0.54, 0.54, 0.69, 0.71,\n",
       "        0.46, 0.57, 0.69, 0.77, 0.36, 0.  , 0.77, 0.73, 0.69],\n",
       "       [0.83, 0.64, 0.8 , 0.69, 0.92, 0.67, 0.7 , 0.69, 0.69, 0.64, 0.86,\n",
       "        0.71, 0.71, 0.5 , 1.  , 0.55, 0.77, 0.  , 0.79, 0.64],\n",
       "       [0.69, 0.8 , 0.5 , 0.67, 0.45, 0.54, 0.67, 0.57, 0.67, 0.53, 0.54,\n",
       "        0.38, 0.6 , 0.8 , 0.45, 0.73, 0.73, 0.79, 0.  , 0.53],\n",
       "       [0.54, 0.57, 0.47, 0.53, 0.64, 0.6 , 0.88, 0.53, 0.53, 0.4 , 0.5 ,\n",
       "        0.56, 0.56, 0.57, 0.64, 0.5 , 0.69, 0.64, 0.53, 0.  ]])"
      ]
     },
     "execution_count": 21,
     "metadata": {},
     "output_type": "execute_result"
    }
   ],
   "source": [
    "dist_patients"
   ]
  },
  {
   "cell_type": "code",
   "execution_count": 22,
   "metadata": {},
   "outputs": [
    {
     "data": {
      "text/plain": [
       "array([[0.  , 0.64, 0.5 , 0.69, 0.6 ],\n",
       "       [0.64, 0.  , 0.64, 0.5 , 0.75],\n",
       "       [0.5 , 0.64, 0.  , 0.69, 0.62],\n",
       "       [0.69, 0.5 , 0.69, 0.  , 0.69],\n",
       "       [0.6 , 0.75, 0.62, 0.69, 0.  ]])"
      ]
     },
     "execution_count": 22,
     "metadata": {},
     "output_type": "execute_result"
    }
   ],
   "source": [
    "dist_patients[:5, :5]"
   ]
  },
  {
   "cell_type": "code",
   "execution_count": 37,
   "metadata": {
    "slideshow": {
     "slide_type": "slide"
    }
   },
   "outputs": [
    {
     "name": "stdout",
     "output_type": "stream",
     "text": [
      "1.0 297 (14, 17)\n"
     ]
    },
    {
     "data": {
      "text/html": [
       "<div>\n",
       "<style scoped>\n",
       "    .dataframe tbody tr th:only-of-type {\n",
       "        vertical-align: middle;\n",
       "    }\n",
       "\n",
       "    .dataframe tbody tr th {\n",
       "        vertical-align: top;\n",
       "    }\n",
       "\n",
       "    .dataframe thead th {\n",
       "        text-align: right;\n",
       "    }\n",
       "</style>\n",
       "<table border=\"1\" class=\"dataframe\">\n",
       "  <thead>\n",
       "    <tr style=\"text-align: right;\">\n",
       "      <th></th>\n",
       "      <th>Muscle Cramps</th>\n",
       "      <th>Weight Gain</th>\n",
       "      <th>Easy Bruising</th>\n",
       "      <th>Metallic Taste</th>\n",
       "      <th>Paranoia</th>\n",
       "      <th>Leg Pain</th>\n",
       "      <th>Gas and Bloating</th>\n",
       "      <th>Mouth Sores</th>\n",
       "      <th>Nausea, Upset Stomach</th>\n",
       "      <th>Rectal Bleeding</th>\n",
       "      <th>Shortness of Breath</th>\n",
       "      <th>Muscle Cramps</th>\n",
       "      <th>Urine Odor</th>\n",
       "      <th>Swollen Ankles and Feet</th>\n",
       "      <th>Joint Cracking</th>\n",
       "      <th>Eye Twitch</th>\n",
       "      <th>Dry Skin</th>\n",
       "    </tr>\n",
       "  </thead>\n",
       "  <tbody>\n",
       "    <tr>\n",
       "      <th>X3q7w1</th>\n",
       "      <td>1</td>\n",
       "      <td>1</td>\n",
       "      <td>0</td>\n",
       "      <td>0</td>\n",
       "      <td>1</td>\n",
       "      <td>1</td>\n",
       "      <td>0</td>\n",
       "      <td>0</td>\n",
       "      <td>1</td>\n",
       "      <td>0</td>\n",
       "      <td>0</td>\n",
       "      <td>0</td>\n",
       "      <td>1</td>\n",
       "      <td>0</td>\n",
       "      <td>1</td>\n",
       "      <td>0</td>\n",
       "      <td>0</td>\n",
       "    </tr>\n",
       "    <tr>\n",
       "      <th>RLLgkV</th>\n",
       "      <td>0</td>\n",
       "      <td>0</td>\n",
       "      <td>1</td>\n",
       "      <td>1</td>\n",
       "      <td>0</td>\n",
       "      <td>0</td>\n",
       "      <td>1</td>\n",
       "      <td>0</td>\n",
       "      <td>0</td>\n",
       "      <td>1</td>\n",
       "      <td>1</td>\n",
       "      <td>1</td>\n",
       "      <td>0</td>\n",
       "      <td>0</td>\n",
       "      <td>0</td>\n",
       "      <td>0</td>\n",
       "      <td>1</td>\n",
       "    </tr>\n",
       "  </tbody>\n",
       "</table>\n",
       "</div>"
      ],
      "text/plain": [
       "        Muscle Cramps  Weight Gain  Easy Bruising  Metallic Taste  Paranoia  \\\n",
       "X3q7w1              1            1              0               0         1   \n",
       "RLLgkV              0            0              1               1         0   \n",
       "\n",
       "        Leg Pain  Gas and Bloating  Mouth Sores  Nausea, Upset Stomach  \\\n",
       "X3q7w1         1                 0            0                      1   \n",
       "RLLgkV         0                 1            0                      0   \n",
       "\n",
       "        Rectal Bleeding  Shortness of Breath  Muscle Cramps  Urine Odor  \\\n",
       "X3q7w1                0                    0              0           1   \n",
       "RLLgkV                1                    1              1           0   \n",
       "\n",
       "        Swollen Ankles and Feet  Joint Cracking  Eye Twitch  Dry Skin  \n",
       "X3q7w1                        0               1           0         0  \n",
       "RLLgkV                        0               0           0         1  "
      ]
     },
     "execution_count": 37,
     "metadata": {},
     "output_type": "execute_result"
    }
   ],
   "source": [
    "from numpy import unravel_index\n",
    "\n",
    "max_idx = unravel_index(np.argmax(dist_patients), dist_patients.shape)\n",
    "\n",
    "print(np.nanmax(dist_patients), np.nanargmax(dist_patients), max_idx)\n",
    "\n",
    "patients_data.iloc[[max_idx[0], max_idx[1]]]"
   ]
  },
  {
   "cell_type": "code",
   "execution_count": 21,
   "metadata": {},
   "outputs": [
    {
     "data": {
      "text/plain": [
       "(1, 2)"
      ]
     },
     "execution_count": 21,
     "metadata": {},
     "output_type": "execute_result"
    }
   ],
   "source": [
    "# What is the index in a 3x3 matrix of element at position 5 in an unraveled matrix?\n",
    "\n",
    "array_shape = (3, 3)\n",
    "\n",
    "flat_index = 5\n",
    "\n",
    "# Convert the flat index to a 2D index\n",
    "coords = np.unravel_index(flat_index, array_shape)\n",
    "coords"
   ]
  },
  {
   "cell_type": "code",
   "execution_count": 38,
   "metadata": {
    "slideshow": {
     "slide_type": "slide"
    }
   },
   "outputs": [
    {
     "name": "stdout",
     "output_type": "stream",
     "text": [
      "0.27 76 (3, 16)\n"
     ]
    },
    {
     "data": {
      "text/html": [
       "<div>\n",
       "<style scoped>\n",
       "    .dataframe tbody tr th:only-of-type {\n",
       "        vertical-align: middle;\n",
       "    }\n",
       "\n",
       "    .dataframe tbody tr th {\n",
       "        vertical-align: top;\n",
       "    }\n",
       "\n",
       "    .dataframe thead th {\n",
       "        text-align: right;\n",
       "    }\n",
       "</style>\n",
       "<table border=\"1\" class=\"dataframe\">\n",
       "  <thead>\n",
       "    <tr style=\"text-align: right;\">\n",
       "      <th></th>\n",
       "      <th>Muscle Cramps</th>\n",
       "      <th>Weight Gain</th>\n",
       "      <th>Easy Bruising</th>\n",
       "      <th>Metallic Taste</th>\n",
       "      <th>Paranoia</th>\n",
       "      <th>Leg Pain</th>\n",
       "      <th>Gas and Bloating</th>\n",
       "      <th>Mouth Sores</th>\n",
       "      <th>Nausea, Upset Stomach</th>\n",
       "      <th>Rectal Bleeding</th>\n",
       "      <th>Shortness of Breath</th>\n",
       "      <th>Muscle Cramps</th>\n",
       "      <th>Urine Odor</th>\n",
       "      <th>Swollen Ankles and Feet</th>\n",
       "      <th>Joint Cracking</th>\n",
       "      <th>Eye Twitch</th>\n",
       "      <th>Dry Skin</th>\n",
       "    </tr>\n",
       "  </thead>\n",
       "  <tbody>\n",
       "    <tr>\n",
       "      <th>POsi8h</th>\n",
       "      <td>0</td>\n",
       "      <td>0</td>\n",
       "      <td>1</td>\n",
       "      <td>0</td>\n",
       "      <td>1</td>\n",
       "      <td>0</td>\n",
       "      <td>0</td>\n",
       "      <td>1</td>\n",
       "      <td>0</td>\n",
       "      <td>1</td>\n",
       "      <td>1</td>\n",
       "      <td>1</td>\n",
       "      <td>1</td>\n",
       "      <td>1</td>\n",
       "      <td>1</td>\n",
       "      <td>1</td>\n",
       "      <td>0</td>\n",
       "    </tr>\n",
       "    <tr>\n",
       "      <th>So27VP</th>\n",
       "      <td>0</td>\n",
       "      <td>1</td>\n",
       "      <td>1</td>\n",
       "      <td>0</td>\n",
       "      <td>1</td>\n",
       "      <td>0</td>\n",
       "      <td>0</td>\n",
       "      <td>1</td>\n",
       "      <td>0</td>\n",
       "      <td>1</td>\n",
       "      <td>1</td>\n",
       "      <td>0</td>\n",
       "      <td>1</td>\n",
       "      <td>1</td>\n",
       "      <td>0</td>\n",
       "      <td>1</td>\n",
       "      <td>0</td>\n",
       "    </tr>\n",
       "  </tbody>\n",
       "</table>\n",
       "</div>"
      ],
      "text/plain": [
       "        Muscle Cramps  Weight Gain  Easy Bruising  Metallic Taste  Paranoia  \\\n",
       "POsi8h              0            0              1               0         1   \n",
       "So27VP              0            1              1               0         1   \n",
       "\n",
       "        Leg Pain  Gas and Bloating  Mouth Sores  Nausea, Upset Stomach  \\\n",
       "POsi8h         0                 0            1                      0   \n",
       "So27VP         0                 0            1                      0   \n",
       "\n",
       "        Rectal Bleeding  Shortness of Breath  Muscle Cramps  Urine Odor  \\\n",
       "POsi8h                1                    1              1           1   \n",
       "So27VP                1                    1              0           1   \n",
       "\n",
       "        Swollen Ankles and Feet  Joint Cracking  Eye Twitch  Dry Skin  \n",
       "POsi8h                        1               1           1         0  \n",
       "So27VP                        1               0           1         0  "
      ]
     },
     "execution_count": 38,
     "metadata": {},
     "output_type": "execute_result"
    }
   ],
   "source": [
    "\n",
    "dist_patients_temp = dist_patients.copy()\n",
    "\n",
    "for i in range(patients_data.shape[0]):\n",
    "    dist_patients_temp[i, i] = 1000\n",
    "\n",
    "min_idx = np.unravel_index(np.argmin(dist_patients_temp), dist_patients_temp.shape)\n",
    "\n",
    "print(np.nanmin(dist_patients_temp), np.nanargmin(dist_patients_temp), min_idx)\n",
    "\n",
    "patients_data.iloc[[min_idx[0], min_idx[1]]]"
   ]
  },
  {
   "cell_type": "markdown",
   "metadata": {
    "slideshow": {
     "slide_type": "skip"
    }
   },
   "source": [
    "###  Devising Your Own Distance\n",
    "\n",
    "* There are certain properties that a distance (or similarity) function should have\n",
    "  * A distance in a mathematical sense must have at least the following properties (properties of a metric)\n",
    "    * Non-negativity rule $d(x, y) \\ge 0$\n",
    "    * Symmetry rule $d(x, y) = d(y, x)$\n",
    "    * Triangle Inequality rule $d(x, y) + d(y, z) \\ge d(x, z)$ \n",
    "\n",
    "* In practice, it may be hard to identify a distance that guarantees all these properties\n",
    "  * Some metrics are not symmetric\n",
    "     * E.g., length of the shortest clockwise path between $p$ and $q$ \n",
    "       * Navigation on a one-way road: If \n",
    "$p$ and  $q$ are locations on a circular track or road that allows only clockwise movement, then the distance from \n",
    "$p$ to $q$ along this path might be shorter than the distance from  $q$ to $p$.\n",
    "  * For technical reasons, the symmetry property is usually highly desirable\n",
    "    * You can always construct a symmetric distance function from an asymmetric one\n",
    "$$\n",
    "    dS(x,y)= \\frac{d(x,y)+d(y,x)}{2}\n",
    "$$"
   ]
  },
  {
   "cell_type": "markdown",
   "metadata": {
    "slideshow": {
     "slide_type": "skip"
    }
   },
   "source": [
    "### Smooth Functions are Better than Non-Smooth Ones\n",
    "\n",
    "* Naive distance\n",
    "\n",
    "$$\n",
    "d(x,y) = \\sum{d_i(x_i, y_i)}\n",
    "$$\n",
    "\n",
    "$\\hspace{0.6in}$ where\n",
    "\n",
    "$$\n",
    "d_i(x_i, y_i)= \\left\\{\n",
    "    \\begin{array}{ll}\n",
    "        1 & \\mbox{if } x_i=y_i \\\\\n",
    "        0 & \\mbox{otherwise}\n",
    "    \\end{array}\n",
    "\\right.\n",
    "$$\n",
    "\n",
    "* This function is not smooth\n",
    "  * Difference between `[1, 2]` and `[2, 3]` is the same as the difference between `[1, 2]` and `[100, 200]`"
   ]
  },
  {
   "cell_type": "markdown",
   "metadata": {
    "slideshow": {
     "slide_type": "skip"
    }
   },
   "source": [
    "### Clustering Approaches\n",
    "\n",
    "In this section we will cover two approaches to clustering a set of points into  clusters\n",
    "\n",
    "* Hierarchical \n",
    "  * Each point is a cluster\n",
    "  * Repeatedly combine the two “closest” clusters into one\n",
    "  * Stop when only one cluster remains\n",
    "  * This is also known as \"agglomerative hierarchical clustering\"\n",
    "  \n",
    "* Point-to-cluster Assignment\n",
    "  * Maintain a set of `k` clusters (ex. `k = 3`)\n",
    "  * Place points into “closest” cluster\n",
    "    * Iteratively repeat the process until the solution is stable\n",
    "    \n",
    "* There are more advanced/complex approaches\n",
    "  * Difficult to combine into categories because of the diversity of approaches and overlaps\n",
    "  * Probabilistic methods increasingly popular\n",
    "  * Will briefly cover other methods to visualize cluster\n",
    "     * PCA, T-SNE and UMAP\n"
   ]
  },
  {
   "cell_type": "markdown",
   "metadata": {
    "slideshow": {
     "slide_type": "slide"
    }
   },
   "source": [
    "### Clustering Approaches\n",
    "\n",
    "In this section we will cover two approaches to clustering a set of points into  clusters\n",
    "\n",
    "* Hierarchical \n",
    "  * Each point is a cluster\n",
    "  * Repeatedly combine the two “closest” clusters into one\n",
    "  * Stop when only one cluster remains\n",
    "  * This is also known as \"agglomerative hierarchical clustering\"\n",
    "  \n",
    "* Point-to-cluster Assignment\n",
    "  * Maintain a set of `k` clusters (ex. `k = 3`)\n",
    "  * Place points into “closest” cluster\n",
    "    * Iteratively repeat the process until the solution is stable\n",
    "    \n",
    "* There are more advanced/complex approaches\n",
    "  * Difficult to combine into categories because of the diversity of approaches and overlaps\n",
    "  * Probabilistic methods increasingly popular\n"
   ]
  },
  {
   "cell_type": "markdown",
   "metadata": {
    "slideshow": {
     "slide_type": "slide"
    }
   },
   "source": [
    "### Hierarchical Clustering\n",
    "\n",
    "<center><img src=\"https://www.dropbox.com/scl/fi/ozfaisljkehldbm9fxirr/hierarchical_clustering.png?rlkey=c5owo2jv7r2mn30w4xi4u06ul&dl=1\" alt=\"drawing\" width=\"650\"/>\n"
   ]
  },
  {
   "cell_type": "markdown",
   "metadata": {
    "slideshow": {
     "slide_type": "slide"
    }
   },
   "source": [
    "### Hierarchical Clustering Dendogram Representation\n",
    "\n",
    "<center><img src=\"https://www.dropbox.com/scl/fi/tyw58dsbxciez0sbf9wya/hierarchical_clustering_dendo.png?rlkey=iilfgn0hrp92bkwzbdyc9otkm&dl=1\" alt=\"drawing\" width=\"750\"/>\n"
   ]
  },
  {
   "cell_type": "markdown",
   "metadata": {
    "slideshow": {
     "slide_type": "slide"
    }
   },
   "source": [
    "### Hierarchical Clustering -- Cont'd\n",
    "\n",
    "* Repeatedly combine the two “closest” clusters into one\n",
    "\n",
    "* How do you know which pair of clusters is the closest?\n",
    "  * We can only compute the distances between two points\n",
    "\n",
    "* One possible solution: \n",
    "  * Represent the location of each cluster using a single measure:\n",
    "    * E.g., centroid, or the average of all points in a cluster\n",
    "\n",
    "  * Take all centroids and find the closest pair      "
   ]
  },
  {
   "cell_type": "markdown",
   "metadata": {
    "slideshow": {
     "slide_type": "slide"
    }
   },
   "source": [
    "### Question\n",
    "\n",
    "* Does the centroid approach work for all types of data?\n",
    "\n",
    "    * How do you compute the centroid for the DNA sequences from before?\n"
   ]
  },
  {
   "cell_type": "markdown",
   "metadata": {
    "slideshow": {
     "slide_type": "slide"
    }
   },
   "source": [
    "### Hierarchical Clustering with Non-Euclidean Distances\n",
    "\n",
    "* There is no “average” of two points\n",
    "\n",
    "* We can compute the distance between two clusters using other approaches. For example:\n",
    "    \n",
    "  * Minimum of the distances between any two points, one from each cluster\n",
    "    * Minimum Linkage (or Single Linkage)\n",
    "  * Maximum of the distances between any two points, one from each cluster\n",
    "    * Maximum Linkage (or Complete Linkage)\n",
    "  * Average of the distances between any two points, one from each cluster\n",
    "    * Average Linkage\n",
    "\n",
    "* Pick a notion of “cohesion” of clusters, e.g., the maximum distance from the clusteroid \n",
    "\n",
    "  * A clusteroid is simply the center of the cluster based on, for example, the average of intra-cluster distances\n"
   ]
  },
  {
   "cell_type": "markdown",
   "metadata": {
    "slideshow": {
     "slide_type": "slide"
    }
   },
   "source": [
    "### Question\n",
    "\n",
    "* Given $n$ data points, what is the complexity of clustering in the worst-case scenario?\n",
    "* Recall we need to:\n",
    "\n",
    "  1- Build the distance matrix\n",
    "  \n",
    "  2- Merge $n$ points iteratively until we end up with a single cluster\n"
   ]
  },
  {
   "cell_type": "markdown",
   "metadata": {
    "collapsed": true,
    "heading_collapsed": true,
    "jupyter": {
     "outputs_hidden": true
    },
    "slideshow": {
     "slide_type": "skip"
    }
   },
   "source": [
    "### Hierarchical Clustering Results\n",
    "\n",
    "* Easy to implement and understand (plus)\n",
    "\n",
    "* Method is computationally intensive (minus)\n",
    "\n",
    "* Extracting clusters can be tricky! (minus)\n",
    "\n",
    "   * Data points are leaves \n",
    "   * Distance in the tree between the leaves is representative of the distance between the data points\n"
   ]
  },
  {
   "cell_type": "markdown",
   "metadata": {
    "collapsed": true,
    "heading_collapsed": true,
    "jupyter": {
     "outputs_hidden": true
    },
    "slideshow": {
     "slide_type": "slide"
    }
   },
   "source": [
    "### Hierarchical Clustering Results\n",
    "\n",
    "* Easy to implement and understand (plus)\n",
    "  * Provides an interpretable visualization of the algorithm and data\n",
    "\n",
    "* Useful summarization tool giving a holistic view (plus)\n",
    "\n",
    "* Method is computationally intensive (minus)\n",
    "\n",
    "* Extracting clusters can be tricky! (minus)\n",
    "\n",
    "   * Data points are leaves \n",
    "   * Distance in the tree between the leaves is representative of the distance between the data points\n"
   ]
  },
  {
   "cell_type": "markdown",
   "metadata": {
    "slideshow": {
     "slide_type": "skip"
    }
   },
   "source": [
    "### Second Category: Assigning Points to Clusters\n",
    "\n",
    "* A popular clustering algorithm\n",
    "\n",
    "* Two steps:\n",
    "  * Define the number of clusters \n",
    "  * Initializing cluster representatives\n",
    "  * Assignment of points to each cluster\n",
    "  * Recalculating the centroids\n"
   ]
  },
  {
   "cell_type": "markdown",
   "metadata": {
    "slideshow": {
     "slide_type": "slide"
    }
   },
   "source": [
    "### Second Category: Assigning Points to Clusters\n",
    "\n",
    "* A popular clustering algorithm\n",
    "\n",
    "* Steps:\n",
    "  * Define the number of clusters \n",
    "  * Initialize cluster representatives (centroids)\n",
    "  * Assign points to each cluster\n",
    "  * Recalculate the centroids\n"
   ]
  },
  {
   "cell_type": "markdown",
   "metadata": {
    "slideshow": {
     "slide_type": "slide"
    }
   },
   "source": [
    "### k-Means Clustering Steps\n",
    "\n",
    "* Assumes Euclidean space\n",
    "  * Cannot handle categorical data\n",
    "\n",
    "<center><img src=\"https://www.dropbox.com/scl/fi/sdgfey9wkl2zwzlgf3hr8/kmeans_a.png?rlkey=sm8q7m7friituorf349sksycb&dl=1\" width=\"350\"/>\n"
   ]
  },
  {
   "cell_type": "markdown",
   "metadata": {
    "slideshow": {
     "slide_type": "slide"
    }
   },
   "source": [
    "\n",
    "### k-Means Clustering: Initialization\n",
    "\n",
    "* Initialize clusters by $k$ points; one per cluster\n",
    "  * Those are the cluster representatives; the cluster centroids\n",
    "     * For instance, take $k$ points in space at random\n",
    "  \n",
    "<center><img src=\"https://www.dropbox.com/scl/fi/fpoysasv2caspmox4glu1/kmeans_b.png?rlkey=d9uiefg0g88nwshg2g59wrcka&dl=1\" width=\"350\"/>"
   ]
  },
  {
   "cell_type": "markdown",
   "metadata": {
    "slideshow": {
     "slide_type": "slide"
    }
   },
   "source": [
    "### k-Means Clustering: Assign Points to Clusters\n",
    "\n",
    "* Place each point in the cluster identified by the closest centroid\n",
    "\n",
    "  * Here, we \"paint\" the examples with the same color as the cluster centroid to which it was assigned\n",
    "  \n",
    "<center><img src=\"https://www.dropbox.com/scl/fi/li1cg4pmxsq7pv39kxib2/kmeans_c.png?rlkey=0jbj1ev6aoi16bmdh5m2bx8p3&dl=1\" width=\"350\"/>\n"
   ]
  },
  {
   "cell_type": "markdown",
   "metadata": {
    "colab_type": "text",
    "id": "8quv8Db0ivBx",
    "slideshow": {
     "slide_type": "slide"
    }
   },
   "source": [
    "### k-Means Clustering: Recalculate the Centroids\n",
    "\n",
    "* After all points are assigned, recompute the centroids of the $k$ clusters\n",
    "\n",
    "<center><img src=\"https://www.dropbox.com/scl/fi/r5lx77betbor2tw6umzil/kmeans_d.png?rlkey=kembglyyxpa40z2yg6y6tvtbg&dl=1\" width=\"350\"/>\n"
   ]
  },
  {
   "cell_type": "markdown",
   "metadata": {
    "colab_type": "text",
    "id": "poKo7tYIivB1",
    "slideshow": {
     "slide_type": "slide"
    }
   },
   "source": [
    "### k-Means Clustering: Assign and Recalculate Centroids \n",
    "\n",
    "* Repeat these two steps until convergence\n",
    "\n",
    "  * The clustering is stable, and nothing changes\n",
    "      * I.e., assigning the points to the closest centroid and recomputing the centroids does not change the centroids or the assignments\n"
   ]
  },
  {
   "cell_type": "markdown",
   "metadata": {
    "slideshow": {
     "slide_type": "slide"
    }
   },
   "source": [
    "### k-Means Clustering Results\n",
    "\n",
    "* Algorithm is non-deterministic (minus)\n",
    "  * A different choice of starting values may result in a different assignment of points to clusters\n",
    "    * Customary to run the k-means algorithm several times and compare results or compute a consensus\n",
    "\n",
    "* Cannot be used with categorical data (non-Euclidean space) (minus)\n",
    "  * Difficult, or sometimes impossible, to construct centroids from categorical data\n",
    "  \n",
    "* Can use k-medoid, the smallest average distance to all other points in the cluster (plus)\n",
    "    * A medoid is the point in the cluster with the smallest distance to all the other points in the cluster\n",
    "        * Less affected by outliers\n",
    "        * More stable\n"
   ]
  },
  {
   "cell_type": "markdown",
   "metadata": {
    "slideshow": {
     "slide_type": "skip"
    }
   },
   "source": [
    "### k-Means Clustering Results -- Cont'd\n",
    "\n",
    "* Can take a long time to converge with some poor initializations  (minus)  \n",
    "  * Very rare, but a possibility, nevertheless \n",
    "\n",
    "* Computationally efficient $O(k \\cdot t \\cdot n)$ (plus)\n",
    "  * Linear in the number of points!\n",
    "  * Small number of iterations to converge (10–50 iterations are typical)\n",
    "\n",
    "* Works relatively well in real life"
   ]
  },
  {
   "cell_type": "markdown",
   "metadata": {
    "slideshow": {
     "slide_type": "slide"
    }
   },
   "source": [
    "### How Do We Evaluate the Results of Clustering\n",
    "\n",
    "* What distinguishes a good clustering solution from a bad one?\n",
    "\n",
    "* Recall that what we want is:\n",
    "  1. Points within the same cluster to be very similar; \n",
    "     * The average distance between points in the same cluster should be small\n",
    "     * This is called *cohesion* and it should be relatively small\n",
    "  2. Points across clusters to be highly dissimilar; \n",
    "      * Distance between points from distinct clusters should be large\n",
    "      * This is called *separation* and it should be relatively large\n",
    "  \n",
    "* A criteria to evaluate a clustering solution:\n",
    "$$\n",
    "    \\frac{separation}{cohesion}\n",
    "$$ \n",
    "$\\hspace{0.6in} -$ Large separation compared to low cohesion<br>\n",
    "$\\hspace{0.6in} -$ Large values are indicative of a good separation \n"
   ]
  },
  {
   "cell_type": "markdown",
   "metadata": {
    "slideshow": {
     "slide_type": "slide"
    }
   },
   "source": [
    "### The Silhouette Coefficient\n",
    "\n",
    "* A good \"score\" to estimate the ratio of separation to cohesion\n",
    "  * *Silhouette Score*: the mean silhouette coefficient over all data instances\n",
    "\n",
    "* For each cluster we denote:\n",
    "  * $a_i$ is the average distance that point $i$ has from all points in the same cluster (i.e., the mean intra-cluster distance)\n",
    "    * Represents the cohesion; we want it to be as small as possible   \n",
    "  * $b_i$ be the smallest distance between point $i$ and a point not in the same cluster as point $i$\n",
    "    * Represents separation; we want it to be as large as possible "
   ]
  },
  {
   "cell_type": "markdown",
   "metadata": {
    "slideshow": {
     "slide_type": "slide"
    }
   },
   "source": [
    "### The Silhouette Coefficient -- Cont'd\n",
    "\n",
    "* We measure the Silhouette Coefficient of a point $i$ as \n",
    "\n",
    "$$\n",
    "S_i = \\frac{b_i - a_i}{max(a_i, b_i)}\n",
    "$$\n",
    "\n",
    "* Silhouette coefficient ranges from −1 to 1\n",
    "  * Negative values indicate $a_i$ is larger than $b_i$\n",
    "    * Low cohesion or small separation or both\n",
    "    * This suggests poor clustering\n",
    "  * Positive values indicate $b_i$ is larger than $a_i$\n",
    "    * High cohesion or high separation or both\n",
    "    "
   ]
  },
  {
   "cell_type": "code",
   "execution_count": 27,
   "metadata": {
    "slideshow": {
     "slide_type": "slide"
    }
   },
   "outputs": [
    {
     "data": {
      "image/png": "[encoded data removed]",
      "text/plain": [
       "<Figure size 400x400 with 1 Axes>"
      ]
     },
     "metadata": {},
     "output_type": "display_data"
    }
   ],
   "source": [
    "mean_c1 = [8, 12]\n",
    "cov_c1 = [[1, 0], [0, 1]]\n",
    "c1 = np.random.multivariate_normal(mean_c1, cov_c1, 40)\n",
    "\n",
    "mean_c2 = [4, 4]\n",
    "cov_c2 = [[1, 0], [0, 1]]\n",
    "c2 = np.random.multivariate_normal(mean_c2, cov_c2, 29)\n",
    "\n",
    "plt.figure(figsize=(4, 4))\n",
    "plt.scatter(c1[:, 0], c1[:, 1])\n",
    "plt.scatter(c2[:, 0], c2[:, 1])\n",
    "\n",
    "plt.xticks([], [])\n",
    "plt.yticks([], []);"
   ]
  },
  {
   "cell_type": "code",
   "execution_count": 29,
   "metadata": {
    "slideshow": {
     "slide_type": "slide"
    }
   },
   "outputs": [],
   "source": [
    "from scipy.spatial import distance\n",
    "\n",
    "def compute_b(pt_cl1, c2):\n",
    "    # Closest points across cluster distant points\n",
    "    min_dist = np.inf\n",
    "    hit_pt_c2 = None\n",
    "    \n",
    "    for j, pt2 in enumerate(c2):\n",
    "        d = distance.euclidean(pt_cl1, pt2)\n",
    "        if d < min_dist:\n",
    "            min_dist = d\n",
    "            hit_pt_c2 = pt2\n",
    "            \n",
    "    return hit_pt_c2, min_dist"
   ]
  },
  {
   "cell_type": "code",
   "execution_count": 30,
   "metadata": {
    "slideshow": {
     "slide_type": "slide"
    }
   },
   "outputs": [
    {
     "data": {
      "image/png": "[encoded data removed]",
      "text/plain": [
       "<Figure size 500x500 with 1 Axes>"
      ]
     },
     "metadata": {},
     "output_type": "display_data"
    }
   ],
   "source": [
    "pt_c2 = c2[10]\n",
    "\n",
    "plt.figure(figsize=(5, 5))\n",
    "plt.scatter(c1[:, 0], c1[:, 1], c=\"blue\", alpha=0.3)\n",
    "plt.scatter(c2[:, 0], c2[:, 1], c='black', alpha=0.3)\n",
    "\n",
    "for other_pt in c1:\n",
    "    plt.plot([pt_c2[0], other_pt[0]], [pt_c2[1], other_pt[1]], 'r-', alpha=0.2)"
   ]
  },
  {
   "cell_type": "code",
   "execution_count": 31,
   "metadata": {
    "slideshow": {
     "slide_type": "slide"
    }
   },
   "outputs": [
    {
     "data": {
      "text/plain": [
       "(array([ 6.64360095, 10.76756549]), 9.020962811698482)"
      ]
     },
     "execution_count": 31,
     "metadata": {},
     "output_type": "execute_result"
    }
   ],
   "source": [
    "compute_b(pt_c2, c1)"
   ]
  },
  {
   "cell_type": "code",
   "execution_count": 32,
   "metadata": {
    "slideshow": {
     "slide_type": "slide"
    }
   },
   "outputs": [
    {
     "data": {
      "image/png": "[encoded data removed]",
      "text/plain": [
       "<Figure size 500x500 with 1 Axes>"
      ]
     },
     "metadata": {},
     "output_type": "display_data"
    }
   ],
   "source": [
    "closest_pt, _ = compute_b(pt_c2, c1)\n",
    "\n",
    "plt.figure(figsize=(5, 5))\n",
    "plt.scatter(c1[:, 0], c1[:, 1], c=\"blue\")\n",
    "plt.scatter(c2[:, 0], c2[:, 1], c='black')\n",
    "plt.scatter(pt_c2[0], pt_c2[1], color='red')\n",
    "plt.scatter(closest_pt[0], closest_pt[1], color='red')\n",
    "plt.plot([pt_c2[0], closest_pt[0]], [pt_c2[1], closest_pt[1]], 'ro-')\n",
    "\n",
    "plt.xticks([], [])\n",
    "plt.yticks([], []);"
   ]
  },
  {
   "cell_type": "code",
   "execution_count": 33,
   "metadata": {
    "slideshow": {
     "slide_type": "slide"
    }
   },
   "outputs": [],
   "source": [
    "def compute_a(cluster, target_pt_id):\n",
    "    distances = []\n",
    "    for other_pt_id in range(len(cluster)):\n",
    "        if target_pt_id != other_pt_id:\n",
    "            distances.append(distance.euclidean(cluster[target_pt_id], cluster[other_pt_id]))\n",
    "            \n",
    "    return np.mean(distances)"
   ]
  },
  {
   "cell_type": "code",
   "execution_count": 34,
   "metadata": {
    "slideshow": {
     "slide_type": "skip"
    }
   },
   "outputs": [],
   "source": [
    "# plt.figure(figsize=(5, 5))\n",
    "# plt.scatter(c1[:,0], c1[:, 1], c=\"blue\", alpha=0.3)\n",
    "# plt.scatter(c2[:,0], c2[:, 1], c='black', alpha=0.3)\n",
    "\n",
    "# for pt1 in c2:\n",
    "#     if pt2 in c2:\n",
    "#         plt.plot([pt1[0], pt2[0]], [pt1[1], pt2[1]], 'r-', alpha=0.3)  "
   ]
  },
  {
   "cell_type": "code",
   "execution_count": 35,
   "metadata": {
    "slideshow": {
     "slide_type": "-"
    }
   },
   "outputs": [
    {
     "data": {
      "text/plain": [
       "2.0634996210278405"
      ]
     },
     "execution_count": 35,
     "metadata": {},
     "output_type": "execute_result"
    }
   ],
   "source": [
    "pt_id_c2 = 10\n",
    "compute_a(c2, pt_id_c2)"
   ]
  },
  {
   "cell_type": "code",
   "execution_count": 36,
   "metadata": {
    "slideshow": {
     "slide_type": "slide"
    }
   },
   "outputs": [
    {
     "data": {
      "image/png": "[encoded data removed]",
      "text/plain": [
       "<Figure size 500x500 with 1 Axes>"
      ]
     },
     "metadata": {},
     "output_type": "display_data"
    }
   ],
   "source": [
    "pt_id_c2 = 10\n",
    "pt_c2 = c2[pt_id_c2]\n",
    "\n",
    "plt.figure(figsize=(5, 5))\n",
    "plt.scatter(c1[:,0], c1[:, 1], c=\"blue\", alpha=0.3)\n",
    "plt.scatter(c2[:,0], c2[:, 1], c='black', alpha=0.3)\n",
    "\n",
    "plt.xticks([], [])\n",
    "plt.yticks([], [])\n",
    "\n",
    "for other_pt_id, other_pt in enumerate(c2):\n",
    "    if other_pt_id != pt_id_c2:\n",
    "        plt.plot([pt_c2[0], other_pt[0]], [pt_c2[1], other_pt[1]], 'r-', alpha=0.3)\n",
    "        \n",
    "plt.scatter(pt_c2[0], pt_c2[1], c='k', marker=\"s\", alpha=1);"
   ]
  },
  {
   "cell_type": "code",
   "execution_count": 37,
   "metadata": {
    "slideshow": {
     "slide_type": "slide"
    }
   },
   "outputs": [
    {
     "data": {
      "text/plain": [
       "0.7712550573479948"
      ]
     },
     "execution_count": 37,
     "metadata": {},
     "output_type": "execute_result"
    }
   ],
   "source": [
    "def pt_silhouette(cluster, target_pt_id, other_cluster):\n",
    "    a_i = compute_a(cluster, target_pt_id)\n",
    "    _, b_i = compute_b(cluster[target_pt_id], other_cluster)\n",
    "    \n",
    "    return (b_i - a_i) / max(a_i, b_i)\n",
    "\n",
    "pt_silhouette(c2, pt_id_c2, c1)    "
   ]
  },
  {
   "cell_type": "code",
   "execution_count": 38,
   "metadata": {
    "slideshow": {
     "slide_type": "skip"
    }
   },
   "outputs": [
    {
     "name": "stdout",
     "output_type": "stream",
     "text": [
      "1.2875797273328715\n",
      "6.982568942283778\n"
     ]
    },
    {
     "data": {
      "text/plain": [
       "0.8156008572237964"
      ]
     },
     "execution_count": 38,
     "metadata": {},
     "output_type": "execute_result"
    }
   ],
   "source": [
    "pt_id_c1 = 21\n",
    "pt_c1 = c1[pt_id_c1]\n",
    "\n",
    "print(compute_a(c1, pt_id_c1))\n",
    "print(compute_b(pt_c1, c2)[1])\n",
    "\n",
    "pt_silhouette(c1, pt_id_c1, c2)"
   ]
  },
  {
   "cell_type": "code",
   "execution_count": 39,
   "metadata": {
    "slideshow": {
     "slide_type": "-"
    }
   },
   "outputs": [
    {
     "data": {
      "text/plain": [
       "0.8156008572237964"
      ]
     },
     "execution_count": 39,
     "metadata": {},
     "output_type": "execute_result"
    }
   ],
   "source": [
    "pt_id_c1 = 21\n",
    "pt_c1 = c1[pt_id_c1]\n",
    "\n",
    "pt_silhouette(c1, pt_id_c1, c2)"
   ]
  },
  {
   "cell_type": "code",
   "execution_count": 40,
   "metadata": {
    "slideshow": {
     "slide_type": "slide"
    }
   },
   "outputs": [
    {
     "data": {
      "image/png": "[encoded data removed]",
      "text/plain": [
       "<Figure size 500x500 with 1 Axes>"
      ]
     },
     "metadata": {},
     "output_type": "display_data"
    }
   ],
   "source": [
    "plt.figure(figsize=(5, 5))\n",
    "plt.scatter(c1[:,0], c1[:, 1], c=\"blue\", alpha=0.3)\n",
    "plt.scatter(c2[:,0], c2[:, 1], c='black', alpha=0.3)\n",
    "\n",
    "plt.xticks([], [])\n",
    "plt.yticks([], [])\n",
    "\n",
    "for other_pt in c1:\n",
    "    if other_pt_id != pt_id_c1:\n",
    "        plt.plot([pt_c1[0], other_pt[0]], [pt_c1[1], other_pt[1]], 'r-', alpha=0.3)\n",
    "        \n",
    "plt.scatter(pt_c1[0], pt_c1[1], c='k', marker=\"s\", alpha=1);"
   ]
  },
  {
   "cell_type": "markdown",
   "metadata": {
    "slideshow": {
     "slide_type": "slide"
    }
   },
   "source": [
    "### Computing Cluster-Wide Silhouette Coefficient\n",
    "\n",
    "* Average silhouette coefficients within cluster \n",
    "  * A good indicator of the quality of the entire cluster\n",
    "  * Same observations as before; large values denote good separation\n"
   ]
  },
  {
   "cell_type": "markdown",
   "metadata": {
    "slideshow": {
     "slide_type": "slide"
    }
   },
   "source": [
    "### Computig Cluster-Wide Silhouette Coefficient -- Cont'd\n",
    "\n",
    "* Average over the silhouette coefficients for all data points\n",
    "\n",
    "  * Provides a good estimate of the quality of the overall clustering\n",
    " "
   ]
  },
  {
   "cell_type": "code",
   "execution_count": 41,
   "metadata": {
    "slideshow": {
     "slide_type": "slide"
    }
   },
   "outputs": [],
   "source": [
    "# For simplicity, the solution assumes two clusters \n",
    "# Need to consider additional clusters in solution\n",
    "\n",
    "def cluster_silhouette(cluster, other_cluster):\n",
    "    silhouette_coeffs = []\n",
    "    for pt_id in range(len(cluster)):\n",
    "        silhouette_coeffs.append(pt_silhouette(cluster, pt_id, other_cluster))\n",
    "\n",
    "    return(np.mean(silhouette_coeffs))"
   ]
  },
  {
   "cell_type": "code",
   "execution_count": 42,
   "metadata": {
    "slideshow": {
     "slide_type": "-"
    }
   },
   "outputs": [
    {
     "name": "stdout",
     "output_type": "stream",
     "text": [
      "0.7671428476008759 0.7364318841721602\n"
     ]
    },
    {
     "data": {
      "text/plain": [
       "0.7517873658865181"
      ]
     },
     "execution_count": 42,
     "metadata": {},
     "output_type": "execute_result"
    }
   ],
   "source": [
    "print(cluster_silhouette(c1, c2), cluster_silhouette(c2, c1))\n",
    "np.mean([cluster_silhouette(c1, c2), cluster_silhouette(c2, c1)])"
   ]
  },
  {
   "cell_type": "code",
   "execution_count": 43,
   "metadata": {
    "slideshow": {
     "slide_type": "slide"
    }
   },
   "outputs": [
    {
     "data": {
      "image/png": "[encoded data removed]",
      "text/plain": [
       "<Figure size 400x400 with 1 Axes>"
      ]
     },
     "metadata": {},
     "output_type": "display_data"
    }
   ],
   "source": [
    "mean_c1 = [8, 12]\n",
    "cov_c1 = [[6, 0], [0, 9]]\n",
    "c1 = np.random.multivariate_normal(mean_c1, cov_c1, 40)\n",
    "\n",
    "mean_c2 = [4, 4]\n",
    "cov_c2 = [[2, 0], [0, 2]]\n",
    "c2 = np.random.multivariate_normal(mean_c2, cov_c2, 29)\n",
    "\n",
    "plt.figure(figsize=(4, 4))\n",
    "plt.scatter(c1[:, 0], c1[:, 1])\n",
    "plt.scatter(c2[:, 0], c2[:, 1])\n",
    "\n",
    "plt.xticks([], [])\n",
    "plt.yticks([], []);"
   ]
  },
  {
   "cell_type": "code",
   "execution_count": 44,
   "metadata": {
    "slideshow": {
     "slide_type": "slide"
    }
   },
   "outputs": [
    {
     "name": "stdout",
     "output_type": "stream",
     "text": [
      "0.24748093887812347 0.22409011299513776\n"
     ]
    },
    {
     "data": {
      "text/plain": [
       "0.2357855259366306"
      ]
     },
     "execution_count": 44,
     "metadata": {},
     "output_type": "execute_result"
    }
   ],
   "source": [
    "print(cluster_silhouette(c1, c2), cluster_silhouette(c2, c1))\n",
    "np.mean([cluster_silhouette(c1, c2), cluster_silhouette(c2, c1)])"
   ]
  },
  {
   "cell_type": "code",
   "execution_count": 45,
   "metadata": {
    "slideshow": {
     "slide_type": "slide"
    }
   },
   "outputs": [
    {
     "data": {
      "image/png": "[encoded data removed]",
      "text/plain": [
       "<Figure size 400x400 with 1 Axes>"
      ]
     },
     "metadata": {},
     "output_type": "display_data"
    }
   ],
   "source": [
    "mean_c1 = [8, 12]\n",
    "cov_c1 = [[8, 0], [0, 15]]\n",
    "c1 = np.random.multivariate_normal(mean_c1, cov_c1, 40)\n",
    "\n",
    "mean_c2 = [4, 4]\n",
    "cov_c2 = [[4, 0], [0, 10]]\n",
    "c2 = np.random.multivariate_normal(mean_c2, cov_c2, 29)\n",
    "\n",
    "plt.figure(figsize=(4, 4))\n",
    "plt.scatter(c1[:, 0], c1[:, 1])\n",
    "plt.scatter(c2[:, 0], c2[:, 1])\n",
    "\n",
    "plt.xticks([], [])\n",
    "plt.yticks([], []);"
   ]
  },
  {
   "cell_type": "code",
   "execution_count": 46,
   "metadata": {
    "slideshow": {
     "slide_type": "slide"
    }
   },
   "outputs": [
    {
     "name": "stdout",
     "output_type": "stream",
     "text": [
      "-0.053665981224858196 -0.2016209514580024\n"
     ]
    },
    {
     "data": {
      "text/plain": [
       "-0.1276434663414303"
      ]
     },
     "execution_count": 46,
     "metadata": {},
     "output_type": "execute_result"
    }
   ],
   "source": [
    "print(cluster_silhouette(c1, c2), cluster_silhouette(c2, c1))\n",
    "np.mean([cluster_silhouette(c1, c2), cluster_silhouette(c2, c1)])"
   ]
  },
  {
   "cell_type": "markdown",
   "metadata": {
    "slideshow": {
     "slide_type": "skip"
    }
   },
   "source": [
    "### Using Silhouettes to Decide on Best Number of Cluster \n",
    "\n",
    "* Silhouette coefficient can be useful to determine the number of clusters present in the dataset\n",
    "\n",
    "* Run the algorithm several times for each possible value of $k$ and compute the overall silhouette coefficient each time\n",
    "\n",
    "  * We should observe a peak at the best value of $k$\n",
    " \n",
    "<br>\n",
    "\n",
    "### Question\n",
    "\n",
    "* Why do we need to run the $k$-means algorithm *several times* for each value of $k$ we would like to test?"
   ]
  },
  {
   "attachments": {
    "e5adf26a-5080-4054-a2ad-c6cb4ca7583f.png": {
     "image/png": "[encoded data removed]"
    }
   },
   "cell_type": "markdown",
   "metadata": {
    "slideshow": {
     "slide_type": "slide"
    }
   },
   "source": [
    "### Using Silhouettes to Decide on Best Number of Cluster \n",
    "\n",
    "* Silhouette coefficient can be useful to determine the number of clusters present in the dataset\n",
    "\n",
    "* Run the algorithm several times for each possible value of $k$ and compute the overall silhouette coefficient each time\n",
    "  * We should observe a peak at the best value of $k$\n",
    "\n",
    "\n",
    "![image.png](attachment:e5adf26a-5080-4054-a2ad-c6cb4ca7583f.png)\n",
    "\n",
    "\n",
    "Source: A. Geron, 2019"
   ]
  }
 ],
 "metadata": {
  "celltoolbar": "Slideshow",
  "colab": {
   "name": "05.11-K-Means.ipynb",
   "provenance": [],
   "version": "0.3.2"
  },
  "hide_input": false,
  "kernelspec": {
   "display_name": "Python 3 (ipykernel)",
   "language": "python",
   "name": "python3"
  },
  "language_info": {
   "codemirror_mode": {
    "name": "ipython",
    "version": 3
   },
   "file_extension": ".py",
   "mimetype": "text/x-python",
   "name": "python",
   "nbconvert_exporter": "python",
   "pygments_lexer": "ipython3",
   "version": "3.9.16"
  }
 },
 "nbformat": 4,
 "nbformat_minor": 4
}
