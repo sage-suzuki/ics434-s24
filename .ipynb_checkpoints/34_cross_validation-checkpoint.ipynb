{
 "cells": [
  {
   "cell_type": "markdown",
   "metadata": {
    "slideshow": {
     "slide_type": "slide"
    }
   },
   "source": [
    "# ICS 434: DATA SCIENCE FUNDAMENTALS\n",
    "\n",
    "## Cross-Validation\n",
    "\n",
    "---"
   ]
  },
  {
   "cell_type": "markdown",
   "metadata": {
    "slideshow": {
     "slide_type": "slide"
    }
   },
   "source": [
    "## Announcements\n",
    "\n",
    "* Final Exam\n",
    "  * **Thursday, May 11, 12:00 PM - 2:00 PM**\n",
    "  * **<font color='red'>Location: POST 319 </font>** (Note that the exam location is different from the classroom.)\n",
    "  * Open-book exam\n",
    "  * You should bring your own computer. Be sure to fully charge the battery so that it runs for 2 hours.\n",
    "  \n",
    "  \n",
    "* Course Evaluation\n",
    "  * https://www.hawaii.edu/ces \n",
    "  * Extra credit will be given based on the completion rate:\n",
    "    * 1 point if 80% $\\leq$ completion rate $<$ 90%\n",
    "    * 1.5 points if 90% $\\leq$ completion rate\n",
    "  * The system will be open until Friday, May 5"
   ]
  },
  {
   "cell_type": "markdown",
   "metadata": {
    "slideshow": {
     "slide_type": "slide"
    }
   },
   "source": [
    "## Slide Credits\n",
    "\n",
    "Most of these slides were taken from Mahdi Belcaid."
   ]
  },
  {
   "cell_type": "code",
   "execution_count": 1,
   "metadata": {
    "slideshow": {
     "slide_type": "skip"
    }
   },
   "outputs": [],
   "source": [
    "import numpy as np\n",
    "import matplotlib.pyplot as plt\n",
    "from sklearn import metrics\n",
    "\n",
    "# from sklearn.metrics import mean_squared_error"
   ]
  },
  {
   "cell_type": "markdown",
   "metadata": {
    "slideshow": {
     "slide_type": "skip"
    }
   },
   "source": [
    "### Classification Trees for Regression (Categorical Features)\n",
    "\n",
    "* For calssification, decisions to use a feature for a split are made based on the resulting homogeneity\n",
    "  * A greedy approach mostly concerned with the short-term gains\n",
    "\n",
    "<center><img src=\"images/11-12.png\" width=\"400\" >"
   ]
  },
  {
   "cell_type": "markdown",
   "metadata": {
    "slideshow": {
     "slide_type": "skip"
    }
   },
   "source": [
    "<img src=\"https://raw.githubusercontent.com/blueberrymusic/Deep-Learning-A-Visual-Approach/main/Figures/Images/11-12.png\" width=\"400\" >"
   ]
  },
  {
   "cell_type": "markdown",
   "metadata": {
    "slideshow": {
     "slide_type": "slide"
    }
   },
   "source": [
    "### Classification (or Decision) Trees\n",
    "\n",
    "* We would like to group \"reddish\" circles together\n",
    "  * Which value for radius should we use?\n",
    "\n",
    "<img src=\"images/11-22.png\" width=\"800\">\n",
    "\n",
    "<center><small>https://raw.githubusercontent.com/blueberrymusic/Deep-Learning-A-Visual-Approach</small>"
   ]
  },
  {
   "cell_type": "markdown",
   "metadata": {
    "slideshow": {
     "slide_type": "skip"
    }
   },
   "source": [
    "### Classification Trees -- Cont'd\n",
    "\n",
    "* We should select the value that produces the purest, or most homogeneous subsets (children) possible\n",
    "\n",
    "* Various ways to measure the homoegeneity of the children\n",
    "  * Entropy: measures the complexity, or how many bits it takes to encode some information\n",
    "  * Compute the homogeneity as *Information Gain* between the parent and the children nodes\n",
    " \n",
    "* The entropy for a node is simply:\n",
    "$$E_{node} =- \\sum_i^C p_i \\mbox{log}_2(p_i)$$\n",
    "\n",
    "* The combined entropy for a node is simply:\n",
    "$$ E_{split} = nb\\_nodes_{left} * E_{left} + nb\\_nodes_{right} * E_{right} $$ \n",
    "\n",
    "* The gain is the difference between entropy before and after the split\n",
    "$$\n",
    "Gain = E_{root} - E_{split}\n",
    "$$\n",
    "* Other populat tests, such as the *Gini Impurity* or *Chi-square* can be used"
   ]
  },
  {
   "cell_type": "markdown",
   "metadata": {
    "slideshow": {
     "slide_type": "slide"
    }
   },
   "source": [
    "### Classification Trees -- Cont'd\n",
    "\n",
    "* We should select the value that produces the purest, or most homogeneous subsets (children) possible\n",
    "* Various ways to measure the homoegeneity of the children\n",
    "* Ex. The entropy for a node $T$ is simply:\n",
    "$$E_{node} =- \\sum_{i=1}^C p_i \\mbox{log}_2(p_i)$$\n",
    "\n",
    "* The combined entropy for a node $T$ is simply:\n",
    "$$ E_{split} = \\frac{|T_{left}|}{|T|} * E_{left} + \\frac{|T_{right}|}{|T|} * E_{right} $$ \n",
    "\n",
    "* The gain is the difference between entropy before and after the split\n",
    "$$\n",
    "Gain = E_{node} - E_{split}\n",
    "$$\n",
    "* Other populat tests, such as the *Gini Impurity* or *Misclassfication Impurity* can be used\n"
   ]
  },
  {
   "cell_type": "markdown",
   "metadata": {
    "slideshow": {
     "slide_type": "slide"
    }
   },
   "source": [
    "### Classification Trees (Categorical Features)\n",
    "\n",
    "\n",
    "<center><img src=\"images/11-14.png\" width=\"500\">\n",
    "    \n",
    "<center><small>https://raw.githubusercontent.com/blueberrymusic/Deep-Learning-A-Visual-Approach</small>"
   ]
  },
  {
   "cell_type": "markdown",
   "metadata": {
    "slideshow": {
     "slide_type": "slide"
    }
   },
   "source": [
    "### Classification Trees (Categorical Features) -- Cont'd\n",
    "\n",
    "<center><img src=\"images/11-15.png\" width=\"700\">\n",
    "\n",
    "<center><small>https://raw.githubusercontent.com/blueberrymusic/Deep-Learning-A-Visual-Approach</small>"
   ]
  },
  {
   "cell_type": "markdown",
   "metadata": {
    "slideshow": {
     "slide_type": "skip"
    }
   },
   "source": [
    "### Classification Trees Example: Iris Dataset\n",
    "\n",
    "<center><img src=\"images/iris.svg\" width=\"700\">\n",
    "<center><small>https://scikit-learn.org/stable/modules/tree.html</small>"
   ]
  },
  {
   "cell_type": "markdown",
   "metadata": {
    "slideshow": {
     "slide_type": "skip"
    }
   },
   "source": [
    "### Using a Decision Tree Regressor\n",
    "\n",
    "* A powerful model, which is ideal for finding complex, non-linear relationships in the data\n",
    "  * The details will be covered next week"
   ]
  },
  {
   "cell_type": "markdown",
   "metadata": {
    "slideshow": {
     "slide_type": "slide"
    }
   },
   "source": [
    "### Decision Tree Regressor\n",
    "\n",
    "* A powerful model, which is ideal for finding complex, non-linear relationships in the data\n",
    "\n",
    "* In each node, the regression tree predicts a value instead of a class\n",
    "  * Prediction: value of the leaf node\n",
    "\n",
    "* An example: The following regression tree returns 0.782 for x1 = 0.1\n",
    "<center><img src=\"images/decision_tree_regressor.png\" alt=\"drawing\" width=\"400\"/>"
   ]
  },
  {
   "cell_type": "markdown",
   "metadata": {
    "slideshow": {
     "slide_type": "slide"
    }
   },
   "source": [
    "<img src=\"images/data_X.png\" alt=\"drawing\" width=\"400\"/>"
   ]
  },
  {
   "cell_type": "markdown",
   "metadata": {
    "slideshow": {
     "slide_type": "slide"
    }
   },
   "source": [
    "<img src=\"images/regression_tree.png\" alt=\"drawing\" width=\"700\"/>"
   ]
  },
  {
   "cell_type": "code",
   "execution_count": 2,
   "metadata": {
    "slideshow": {
     "slide_type": "skip"
    }
   },
   "outputs": [
    {
     "data": {
      "text/html": [
       "<div>\n",
       "<style scoped>\n",
       "    .dataframe tbody tr th:only-of-type {\n",
       "        vertical-align: middle;\n",
       "    }\n",
       "\n",
       "    .dataframe tbody tr th {\n",
       "        vertical-align: top;\n",
       "    }\n",
       "\n",
       "    .dataframe thead th {\n",
       "        text-align: right;\n",
       "    }\n",
       "</style>\n",
       "<table border=\"1\" class=\"dataframe\">\n",
       "  <thead>\n",
       "    <tr style=\"text-align: right;\">\n",
       "      <th></th>\n",
       "      <th>0</th>\n",
       "      <th>1</th>\n",
       "      <th>2</th>\n",
       "      <th>3</th>\n",
       "      <th>4</th>\n",
       "      <th>5</th>\n",
       "      <th>6</th>\n",
       "      <th>7</th>\n",
       "      <th>8</th>\n",
       "      <th>9</th>\n",
       "      <th>...</th>\n",
       "      <th>118</th>\n",
       "      <th>119</th>\n",
       "      <th>120</th>\n",
       "      <th>121</th>\n",
       "      <th>122</th>\n",
       "      <th>123</th>\n",
       "      <th>124</th>\n",
       "      <th>125</th>\n",
       "      <th>126</th>\n",
       "      <th>127</th>\n",
       "    </tr>\n",
       "  </thead>\n",
       "  <tbody>\n",
       "    <tr>\n",
       "      <th>0</th>\n",
       "      <td>8</td>\n",
       "      <td>NaN</td>\n",
       "      <td>NaN</td>\n",
       "      <td>Lakewoodcity</td>\n",
       "      <td>1</td>\n",
       "      <td>0.19</td>\n",
       "      <td>0.33</td>\n",
       "      <td>0.02</td>\n",
       "      <td>0.90</td>\n",
       "      <td>0.12</td>\n",
       "      <td>...</td>\n",
       "      <td>0.12</td>\n",
       "      <td>0.26</td>\n",
       "      <td>0.20</td>\n",
       "      <td>0.06</td>\n",
       "      <td>0.04</td>\n",
       "      <td>0.9</td>\n",
       "      <td>0.5</td>\n",
       "      <td>0.32</td>\n",
       "      <td>0.14</td>\n",
       "      <td>0.20</td>\n",
       "    </tr>\n",
       "    <tr>\n",
       "      <th>1</th>\n",
       "      <td>53</td>\n",
       "      <td>NaN</td>\n",
       "      <td>NaN</td>\n",
       "      <td>Tukwilacity</td>\n",
       "      <td>1</td>\n",
       "      <td>0.00</td>\n",
       "      <td>0.16</td>\n",
       "      <td>0.12</td>\n",
       "      <td>0.74</td>\n",
       "      <td>0.45</td>\n",
       "      <td>...</td>\n",
       "      <td>0.02</td>\n",
       "      <td>0.12</td>\n",
       "      <td>0.45</td>\n",
       "      <td>NaN</td>\n",
       "      <td>NaN</td>\n",
       "      <td>NaN</td>\n",
       "      <td>NaN</td>\n",
       "      <td>0.00</td>\n",
       "      <td>NaN</td>\n",
       "      <td>0.67</td>\n",
       "    </tr>\n",
       "    <tr>\n",
       "      <th>2</th>\n",
       "      <td>24</td>\n",
       "      <td>NaN</td>\n",
       "      <td>NaN</td>\n",
       "      <td>Aberdeentown</td>\n",
       "      <td>1</td>\n",
       "      <td>0.00</td>\n",
       "      <td>0.42</td>\n",
       "      <td>0.49</td>\n",
       "      <td>0.56</td>\n",
       "      <td>0.17</td>\n",
       "      <td>...</td>\n",
       "      <td>0.01</td>\n",
       "      <td>0.21</td>\n",
       "      <td>0.02</td>\n",
       "      <td>NaN</td>\n",
       "      <td>NaN</td>\n",
       "      <td>NaN</td>\n",
       "      <td>NaN</td>\n",
       "      <td>0.00</td>\n",
       "      <td>NaN</td>\n",
       "      <td>0.43</td>\n",
       "    </tr>\n",
       "    <tr>\n",
       "      <th>3</th>\n",
       "      <td>34</td>\n",
       "      <td>5.0</td>\n",
       "      <td>81440.0</td>\n",
       "      <td>Willingborotownship</td>\n",
       "      <td>1</td>\n",
       "      <td>0.04</td>\n",
       "      <td>0.77</td>\n",
       "      <td>1.00</td>\n",
       "      <td>0.08</td>\n",
       "      <td>0.12</td>\n",
       "      <td>...</td>\n",
       "      <td>0.02</td>\n",
       "      <td>0.39</td>\n",
       "      <td>0.28</td>\n",
       "      <td>NaN</td>\n",
       "      <td>NaN</td>\n",
       "      <td>NaN</td>\n",
       "      <td>NaN</td>\n",
       "      <td>0.00</td>\n",
       "      <td>NaN</td>\n",
       "      <td>0.12</td>\n",
       "    </tr>\n",
       "    <tr>\n",
       "      <th>4</th>\n",
       "      <td>42</td>\n",
       "      <td>95.0</td>\n",
       "      <td>6096.0</td>\n",
       "      <td>Bethlehemtownship</td>\n",
       "      <td>1</td>\n",
       "      <td>0.01</td>\n",
       "      <td>0.55</td>\n",
       "      <td>0.02</td>\n",
       "      <td>0.95</td>\n",
       "      <td>0.09</td>\n",
       "      <td>...</td>\n",
       "      <td>0.04</td>\n",
       "      <td>0.09</td>\n",
       "      <td>0.02</td>\n",
       "      <td>NaN</td>\n",
       "      <td>NaN</td>\n",
       "      <td>NaN</td>\n",
       "      <td>NaN</td>\n",
       "      <td>0.00</td>\n",
       "      <td>NaN</td>\n",
       "      <td>0.03</td>\n",
       "    </tr>\n",
       "  </tbody>\n",
       "</table>\n",
       "<p>5 rows × 128 columns</p>\n",
       "</div>"
      ],
      "text/plain": [
       "   0     1        2                    3    4     5     6     7     8     9    \\\n",
       "0    8   NaN      NaN         Lakewoodcity    1  0.19  0.33  0.02  0.90  0.12   \n",
       "1   53   NaN      NaN          Tukwilacity    1  0.00  0.16  0.12  0.74  0.45   \n",
       "2   24   NaN      NaN         Aberdeentown    1  0.00  0.42  0.49  0.56  0.17   \n",
       "3   34   5.0  81440.0  Willingborotownship    1  0.04  0.77  1.00  0.08  0.12   \n",
       "4   42  95.0   6096.0    Bethlehemtownship    1  0.01  0.55  0.02  0.95  0.09   \n",
       "\n",
       "   ...   118   119   120   121   122  123  124   125   126   127  \n",
       "0  ...  0.12  0.26  0.20  0.06  0.04  0.9  0.5  0.32  0.14  0.20  \n",
       "1  ...  0.02  0.12  0.45   NaN   NaN  NaN  NaN  0.00   NaN  0.67  \n",
       "2  ...  0.01  0.21  0.02   NaN   NaN  NaN  NaN  0.00   NaN  0.43  \n",
       "3  ...  0.02  0.39  0.28   NaN   NaN  NaN  NaN  0.00   NaN  0.12  \n",
       "4  ...  0.04  0.09  0.02   NaN   NaN  NaN  NaN  0.00   NaN  0.03  \n",
       "\n",
       "[5 rows x 128 columns]"
      ]
     },
     "execution_count": 2,
     "metadata": {},
     "output_type": "execute_result"
    }
   ],
   "source": [
    "import pandas as pd\n",
    "\n",
    "url = 'http://archive.ics.uci.edu/ml/machine-learning-databases/communities/communities.data'\n",
    "crime = pd.read_csv(url, header=None, na_values=['?'])\n",
    "crime.head()"
   ]
  },
  {
   "cell_type": "code",
   "execution_count": 3,
   "metadata": {
    "slideshow": {
     "slide_type": "slide"
    }
   },
   "outputs": [
    {
     "data": {
      "text/html": [
       "<div>\n",
       "<style scoped>\n",
       "    .dataframe tbody tr th:only-of-type {\n",
       "        vertical-align: middle;\n",
       "    }\n",
       "\n",
       "    .dataframe tbody tr th {\n",
       "        vertical-align: top;\n",
       "    }\n",
       "\n",
       "    .dataframe thead th {\n",
       "        text-align: right;\n",
       "    }\n",
       "</style>\n",
       "<table border=\"1\" class=\"dataframe\">\n",
       "  <thead>\n",
       "    <tr style=\"text-align: right;\">\n",
       "      <th></th>\n",
       "      <th>0</th>\n",
       "      <th>1</th>\n",
       "      <th>2</th>\n",
       "      <th>3</th>\n",
       "      <th>4</th>\n",
       "      <th>5</th>\n",
       "      <th>6</th>\n",
       "      <th>7</th>\n",
       "      <th>8</th>\n",
       "      <th>9</th>\n",
       "      <th>...</th>\n",
       "      <th>118</th>\n",
       "      <th>119</th>\n",
       "      <th>120</th>\n",
       "      <th>121</th>\n",
       "      <th>122</th>\n",
       "      <th>123</th>\n",
       "      <th>124</th>\n",
       "      <th>125</th>\n",
       "      <th>126</th>\n",
       "      <th>127</th>\n",
       "    </tr>\n",
       "  </thead>\n",
       "  <tbody>\n",
       "    <tr>\n",
       "      <th>0</th>\n",
       "      <td>8</td>\n",
       "      <td>NaN</td>\n",
       "      <td>NaN</td>\n",
       "      <td>Lakewoodcity</td>\n",
       "      <td>1</td>\n",
       "      <td>0.19</td>\n",
       "      <td>0.33</td>\n",
       "      <td>0.02</td>\n",
       "      <td>0.90</td>\n",
       "      <td>0.12</td>\n",
       "      <td>...</td>\n",
       "      <td>0.12</td>\n",
       "      <td>0.26</td>\n",
       "      <td>0.20</td>\n",
       "      <td>0.06</td>\n",
       "      <td>0.04</td>\n",
       "      <td>0.9</td>\n",
       "      <td>0.5</td>\n",
       "      <td>0.32</td>\n",
       "      <td>0.14</td>\n",
       "      <td>0.20</td>\n",
       "    </tr>\n",
       "    <tr>\n",
       "      <th>1</th>\n",
       "      <td>53</td>\n",
       "      <td>NaN</td>\n",
       "      <td>NaN</td>\n",
       "      <td>Tukwilacity</td>\n",
       "      <td>1</td>\n",
       "      <td>0.00</td>\n",
       "      <td>0.16</td>\n",
       "      <td>0.12</td>\n",
       "      <td>0.74</td>\n",
       "      <td>0.45</td>\n",
       "      <td>...</td>\n",
       "      <td>0.02</td>\n",
       "      <td>0.12</td>\n",
       "      <td>0.45</td>\n",
       "      <td>NaN</td>\n",
       "      <td>NaN</td>\n",
       "      <td>NaN</td>\n",
       "      <td>NaN</td>\n",
       "      <td>0.00</td>\n",
       "      <td>NaN</td>\n",
       "      <td>0.67</td>\n",
       "    </tr>\n",
       "    <tr>\n",
       "      <th>2</th>\n",
       "      <td>24</td>\n",
       "      <td>NaN</td>\n",
       "      <td>NaN</td>\n",
       "      <td>Aberdeentown</td>\n",
       "      <td>1</td>\n",
       "      <td>0.00</td>\n",
       "      <td>0.42</td>\n",
       "      <td>0.49</td>\n",
       "      <td>0.56</td>\n",
       "      <td>0.17</td>\n",
       "      <td>...</td>\n",
       "      <td>0.01</td>\n",
       "      <td>0.21</td>\n",
       "      <td>0.02</td>\n",
       "      <td>NaN</td>\n",
       "      <td>NaN</td>\n",
       "      <td>NaN</td>\n",
       "      <td>NaN</td>\n",
       "      <td>0.00</td>\n",
       "      <td>NaN</td>\n",
       "      <td>0.43</td>\n",
       "    </tr>\n",
       "    <tr>\n",
       "      <th>3</th>\n",
       "      <td>34</td>\n",
       "      <td>5.0</td>\n",
       "      <td>81440.0</td>\n",
       "      <td>Willingborotownship</td>\n",
       "      <td>1</td>\n",
       "      <td>0.04</td>\n",
       "      <td>0.77</td>\n",
       "      <td>1.00</td>\n",
       "      <td>0.08</td>\n",
       "      <td>0.12</td>\n",
       "      <td>...</td>\n",
       "      <td>0.02</td>\n",
       "      <td>0.39</td>\n",
       "      <td>0.28</td>\n",
       "      <td>NaN</td>\n",
       "      <td>NaN</td>\n",
       "      <td>NaN</td>\n",
       "      <td>NaN</td>\n",
       "      <td>0.00</td>\n",
       "      <td>NaN</td>\n",
       "      <td>0.12</td>\n",
       "    </tr>\n",
       "    <tr>\n",
       "      <th>4</th>\n",
       "      <td>42</td>\n",
       "      <td>95.0</td>\n",
       "      <td>6096.0</td>\n",
       "      <td>Bethlehemtownship</td>\n",
       "      <td>1</td>\n",
       "      <td>0.01</td>\n",
       "      <td>0.55</td>\n",
       "      <td>0.02</td>\n",
       "      <td>0.95</td>\n",
       "      <td>0.09</td>\n",
       "      <td>...</td>\n",
       "      <td>0.04</td>\n",
       "      <td>0.09</td>\n",
       "      <td>0.02</td>\n",
       "      <td>NaN</td>\n",
       "      <td>NaN</td>\n",
       "      <td>NaN</td>\n",
       "      <td>NaN</td>\n",
       "      <td>0.00</td>\n",
       "      <td>NaN</td>\n",
       "      <td>0.03</td>\n",
       "    </tr>\n",
       "  </tbody>\n",
       "</table>\n",
       "<p>5 rows × 128 columns</p>\n",
       "</div>"
      ],
      "text/plain": [
       "   0     1        2                    3    4     5     6     7     8     9    \\\n",
       "0    8   NaN      NaN         Lakewoodcity    1  0.19  0.33  0.02  0.90  0.12   \n",
       "1   53   NaN      NaN          Tukwilacity    1  0.00  0.16  0.12  0.74  0.45   \n",
       "2   24   NaN      NaN         Aberdeentown    1  0.00  0.42  0.49  0.56  0.17   \n",
       "3   34   5.0  81440.0  Willingborotownship    1  0.04  0.77  1.00  0.08  0.12   \n",
       "4   42  95.0   6096.0    Bethlehemtownship    1  0.01  0.55  0.02  0.95  0.09   \n",
       "\n",
       "   ...   118   119   120   121   122  123  124   125   126   127  \n",
       "0  ...  0.12  0.26  0.20  0.06  0.04  0.9  0.5  0.32  0.14  0.20  \n",
       "1  ...  0.02  0.12  0.45   NaN   NaN  NaN  NaN  0.00   NaN  0.67  \n",
       "2  ...  0.01  0.21  0.02   NaN   NaN  NaN  NaN  0.00   NaN  0.43  \n",
       "3  ...  0.02  0.39  0.28   NaN   NaN  NaN  NaN  0.00   NaN  0.12  \n",
       "4  ...  0.04  0.09  0.02   NaN   NaN  NaN  NaN  0.00   NaN  0.03  \n",
       "\n",
       "[5 rows x 128 columns]"
      ]
     },
     "execution_count": 3,
     "metadata": {},
     "output_type": "execute_result"
    }
   ],
   "source": [
    "import pandas as pd\n",
    "\n",
    "# Data from https://archive-beta.ics.uci.edu/dataset/183/communities+and+crime\n",
    "\n",
    "crime = pd.read_csv('data/communities.data', header=None, na_values=['?'])\n",
    "crime.head()"
   ]
  },
  {
   "cell_type": "code",
   "execution_count": 4,
   "metadata": {
    "slideshow": {
     "slide_type": "-"
    }
   },
   "outputs": [
    {
     "data": {
      "text/plain": [
       "(1994, 128)"
      ]
     },
     "execution_count": 4,
     "metadata": {},
     "output_type": "execute_result"
    }
   ],
   "source": [
    "crime.shape"
   ]
  },
  {
   "cell_type": "markdown",
   "metadata": {
    "slideshow": {
     "slide_type": "slide"
    }
   },
   "source": [
    "```\n",
    "@attribute state numeric\n",
    "@attribute county numeric\n",
    "@attribute community numeric\n",
    "@attribute communityname string\n",
    "@attribute fold numeric\n",
    "@attribute population numeric\n",
    "@attribute householdsize numeric\n",
    "@attribute racepctblack numeric\n",
    "@attribute racePctWhite numeric\n",
    "@attribute racePctAsian numeric\n",
    "@attribute racePctHisp numeric\n",
    "@attribute agePct12t21 numeric\n",
    "@attribute agePct12t29 numeric\n",
    "@attribute agePct16t24 numeric\n",
    "@attribute agePct65up numeric\n",
    "@attribute numbUrban numeric\n",
    "@attribute pctUrban numeric\n",
    "@attribute medIncome numeric\n",
    "@attribute pctWWage numeric\n",
    "@attribute pctWFarmSelf numeric\n",
    "@attribute pctWInvInc numeric\n",
    "@attribute pctWSocSec numeric\n",
    "@attribute pctWPubAsst numeric\n",
    "@attribute pctWRetire numeric\n",
    "@attribute medFamInc numeric\n",
    "@attribute perCapInc numeric\n",
    "@attribute whitePerCap numeric\n",
    "@attribute blackPerCap numeric\n",
    "@attribute indianPerCap numeric\n",
    "@attribute AsianPerCap numeric\n",
    "@attribute OtherPerCap numeric\n",
    "@attribute HispPerCap numeric\n",
    "@attribute NumUnderPov numeric\n",
    "...\n",
    "```"
   ]
  },
  {
   "cell_type": "code",
   "execution_count": 5,
   "metadata": {
    "slideshow": {
     "slide_type": "slide"
    }
   },
   "outputs": [
    {
     "data": {
      "text/plain": [
       "(319, 123)"
      ]
     },
     "execution_count": 5,
     "metadata": {},
     "output_type": "execute_result"
    }
   ],
   "source": [
    "# remove non-predictive attributes\n",
    "crime.drop([0, 1, 2, 3, 4], axis=1, inplace=True)\n",
    "\n",
    "# remove rows with any missing values\n",
    "crime.dropna(inplace=True)\n",
    "\n",
    "# check the shape\n",
    "crime.shape"
   ]
  },
  {
   "cell_type": "code",
   "execution_count": 6,
   "metadata": {
    "slideshow": {
     "slide_type": "-"
    }
   },
   "outputs": [
    {
     "data": {
      "text/plain": [
       "0     0.20\n",
       "16    0.49\n",
       "20    0.34\n",
       "21    0.69\n",
       "23    0.63\n",
       "Name: 127, dtype: float64"
      ]
     },
     "execution_count": 6,
     "metadata": {},
     "output_type": "execute_result"
    }
   ],
   "source": [
    "### Col 127 is {ViolentCrimesPerPop}: The value we would like to predict\n",
    "\n",
    "X = crime.drop(127, axis=1)\n",
    "y = crime[127]\n",
    "y.head()"
   ]
  },
  {
   "cell_type": "code",
   "execution_count": 7,
   "metadata": {
    "slideshow": {
     "slide_type": "slide"
    }
   },
   "outputs": [],
   "source": [
    "from sklearn.model_selection import train_test_split\n",
    "\n",
    "X_train, X_test, y_train, y_test = train_test_split(X, y, random_state=1)"
   ]
  },
  {
   "cell_type": "code",
   "execution_count": 8,
   "metadata": {},
   "outputs": [
    {
     "data": {
      "text/plain": [
       "DecisionTreeRegressor()"
      ]
     },
     "execution_count": 8,
     "metadata": {},
     "output_type": "execute_result"
    }
   ],
   "source": [
    "from sklearn.tree import DecisionTreeRegressor\n",
    "\n",
    "tree_reg = DecisionTreeRegressor()\n",
    "tree_reg.fit(X_train, y_train)"
   ]
  },
  {
   "cell_type": "code",
   "execution_count": 9,
   "metadata": {
    "slideshow": {
     "slide_type": "skip"
    }
   },
   "outputs": [],
   "source": [
    "# !pip install graphviz\n",
    "# from sklearn import tree\n",
    "# dot_data = tree.export_graphviz(tree_reg, out_file=None)\n",
    "# # you may need to install graphviz\n",
    "# # conda install pip && pip install graphviz\n",
    "# import graphviz\n",
    "# graph = graphviz.Source(dot_data)\n",
    "# graph.render(\"/Users/mahdi/Desktop/regressor\") "
   ]
  },
  {
   "cell_type": "code",
   "execution_count": 10,
   "metadata": {
    "slideshow": {
     "slide_type": "skip"
    }
   },
   "outputs": [
    {
     "data": {
      "text/plain": [
       "'images\\\\DT.pdf'"
      ]
     },
     "execution_count": 10,
     "metadata": {},
     "output_type": "execute_result"
    }
   ],
   "source": [
    "from sklearn import tree\n",
    "\n",
    "dot_data = tree.export_graphviz(tree_reg, out_file=None)\n",
    "\n",
    "# you may need to install graphviz\n",
    "# conda install pip && pip install graphviz\n",
    "\n",
    "import graphviz\n",
    "graph = graphviz.Source(dot_data)\n",
    "graph.render(\"images/DT\") "
   ]
  },
  {
   "cell_type": "code",
   "execution_count": 11,
   "metadata": {
    "slideshow": {
     "slide_type": "slide"
    }
   },
   "outputs": [
    {
     "name": "stdout",
     "output_type": "stream",
     "text": [
      "[0.36 0.54 1.   0.34 0.13 0.53 0.24 0.24 0.87 0.65]\n",
      "[0.36, 0.54, 1.0, 0.34, 0.13, 0.53, 0.24, 0.24, 0.87, 0.65]\n"
     ]
    }
   ],
   "source": [
    "y_train_pred = tree_reg.predict(X_train)\n",
    "\n",
    "print(y_train_pred[0:10])\n",
    "print(y_train.tolist()[0:10])"
   ]
  },
  {
   "cell_type": "code",
   "execution_count": 12,
   "metadata": {
    "slideshow": {
     "slide_type": "skip"
    }
   },
   "outputs": [
    {
     "data": {
      "text/plain": [
       "0.0"
      ]
     },
     "execution_count": 12,
     "metadata": {},
     "output_type": "execute_result"
    }
   ],
   "source": [
    "from sklearn.metrics import mean_squared_error\n",
    "\n",
    "np.round(np.sqrt(mean_squared_error(y_train_pred.reshape(-1, 1), y_train)), 2)"
   ]
  },
  {
   "cell_type": "code",
   "execution_count": 13,
   "metadata": {},
   "outputs": [
    {
     "name": "stdout",
     "output_type": "stream",
     "text": [
      "1.5548264487851108e-18\n"
     ]
    },
    {
     "data": {
      "text/plain": [
       "0.0"
      ]
     },
     "execution_count": 13,
     "metadata": {},
     "output_type": "execute_result"
    }
   ],
   "source": [
    "from sklearn.metrics import mean_squared_error\n",
    "\n",
    "print(np.sqrt(mean_squared_error(y_train_pred.reshape(-1, 1), y_train)))\n",
    "np.round(np.sqrt(mean_squared_error(y_train_pred.reshape(-1, 1), y_train)), 2)"
   ]
  },
  {
   "cell_type": "markdown",
   "metadata": {
    "slideshow": {
     "slide_type": "skip"
    }
   },
   "source": [
    "### Overfitting and RMSE\n",
    "\n",
    "* Despite the fact that RMSE $\\approx$ 0, it is very unlikely that the model is perfect\n",
    "\n",
    "* The RMSE of 0 is due to the model overfitting the training data\n",
    "  * The model \"Remembers\" the data perfectly and predicts observation as it saw them\n",
    "  \n",
    "* You will remember that models that overfit the data tend to have poor generalizaiton power\n",
    "  * Computing the RMSE on the test data shows that the model is overfitting"
   ]
  },
  {
   "cell_type": "markdown",
   "metadata": {
    "slideshow": {
     "slide_type": "slide"
    }
   },
   "source": [
    "### Overfitting and RMSE\n",
    "\n",
    "* Despite the fact that RMSE $\\approx$ 0, it is very unlikely that the model is perfect\n",
    "\n",
    "* The RMSE of 0 is due to the model overfitting the training data\n",
    "  * The model \"remembers\" the data perfectly and predicts observation as it saw them\n",
    "  \n",
    "* Models that overfit the data tend to have poor generalizaiton power\n",
    "  * Computing the RMSE on the test data shows that the model is overfitting"
   ]
  },
  {
   "cell_type": "code",
   "execution_count": 14,
   "metadata": {},
   "outputs": [
    {
     "data": {
      "text/plain": [
       "0.23"
      ]
     },
     "execution_count": 14,
     "metadata": {},
     "output_type": "execute_result"
    }
   ],
   "source": [
    "y_test_pred = tree_reg.predict(X_test)\n",
    "\n",
    "np.round(np.sqrt(mean_squared_error(y_test_pred.reshape(-1,1), y_test)), 2)"
   ]
  },
  {
   "cell_type": "markdown",
   "metadata": {
    "slideshow": {
     "slide_type": "slide"
    }
   },
   "source": [
    "### Overfitting and RMSE -- Cont'd\n",
    "\n",
    "<img src=\"images/overfitting.png\" alt=\"drawing\" width=\"900\"/>"
   ]
  },
  {
   "cell_type": "markdown",
   "metadata": {
    "slideshow": {
     "slide_type": "skip"
    }
   },
   "source": [
    "### Assessing a Model's Generalization Power\n",
    "\n",
    "* In real modeling/ML applications, we are interested in how models generalize to unseen data\n",
    "  * There is no merit in being able to \"regurgitate\" previously seen data\n",
    "\n",
    "* Therefore, the most appropriate statistical learning method or parameters are selected based on the results observed with previously unseen test data\n",
    "  * You cannot use the test set for mitigating overfitting since the model will learn to fit the test set\n"
   ]
  },
  {
   "cell_type": "markdown",
   "metadata": {
    "slideshow": {
     "slide_type": "slide"
    }
   },
   "source": [
    "### Assessing a Model's Generalization Power\n",
    "\n",
    "* In real modeling/ML applications, we are interested in how models generalize to unseen data\n",
    "  * There is no merit in being able to \"regurgitate\" previously seen data\n",
    "\n",
    "* Therefore, the most appropriate learning method or parameters are selected based on the results observed with previously unseen test data\n",
    "  * You cannot use the test set for mitigating overfitting since the model will learn to fit the test set\n"
   ]
  },
  {
   "cell_type": "markdown",
   "metadata": {
    "slideshow": {
     "slide_type": "skip"
    }
   },
   "source": [
    "### Decision Trees and Train-Test Split\n",
    "\n",
    "\n",
    "* Decision tree is a complex model\n",
    "  * Has a plethora of parameters that can impact the RMSE\n",
    "\n",
    "* The test error rate can be highly variable, depending which observations are in which set (train and test)\n",
    "  * Different train-test splits will yield different results\n",
    "  \n",
    "* How do we test the performance of different parameters while assessing the random nature of the splits in the data?\n"
   ]
  },
  {
   "cell_type": "markdown",
   "metadata": {
    "slideshow": {
     "slide_type": "slide"
    }
   },
   "source": [
    "### Train-Test Split\n",
    "\n",
    "* The test error rate can be highly variable, depending which observations are in which set (train and test)\n",
    "  * Different train-test splits will yield different results\n",
    "  \n",
    "* How do we test the performance of different parameters while assessing the random nature of the splits in the data?\n"
   ]
  },
  {
   "cell_type": "code",
   "execution_count": 15,
   "metadata": {
    "slideshow": {
     "slide_type": "slide"
    }
   },
   "outputs": [
    {
     "data": {
      "text/plain": [
       "0.18"
      ]
     },
     "execution_count": 15,
     "metadata": {},
     "output_type": "execute_result"
    }
   ],
   "source": [
    "tree_reg = DecisionTreeRegressor(max_depth=3)\n",
    "tree_reg.fit(X_train, y_train)\n",
    "y_test_pred = tree_reg.predict(X_test)\n",
    "np.round(np.sqrt(mean_squared_error(y_test_pred.reshape(-1, 1), y_test)), 2)"
   ]
  },
  {
   "cell_type": "code",
   "execution_count": 16,
   "metadata": {
    "slideshow": {
     "slide_type": "slide"
    }
   },
   "outputs": [
    {
     "data": {
      "image/png": "[encoded data removed]",
      "text/plain": [
       "<Figure size 1200x600 with 1 Axes>"
      ]
     },
     "metadata": {},
     "output_type": "display_data"
    }
   ],
   "source": [
    "rmse = []\n",
    "for i in range(500):\n",
    "    X_train, X_test, y_train, y_test = train_test_split(X, y)\n",
    "    tree_reg = DecisionTreeRegressor(max_depth=3)\n",
    "    tree_reg.fit(X_train, y_train)\n",
    "    y_test_pred = tree_reg.predict(X_test)\n",
    "    rmse.append(np.round(np.sqrt(mean_squared_error(y_test_pred.reshape(-1, 1), y_test)), 2))\n",
    "\n",
    "plt.figure(figsize=(12, 6))\n",
    "plt.hist(rmse, edgecolor='black', linewidth=1.2);"
   ]
  },
  {
   "cell_type": "code",
   "execution_count": 17,
   "metadata": {
    "slideshow": {
     "slide_type": "slide"
    }
   },
   "outputs": [
    {
     "data": {
      "image/png": "[encoded data removed]",
      "text/plain": [
       "<Figure size 1200x600 with 1 Axes>"
      ]
     },
     "metadata": {},
     "output_type": "display_data"
    }
   ],
   "source": [
    "rmse = []\n",
    "for i in range(500):\n",
    "    X_train, X_test, y_train, y_test = train_test_split(X, y)\n",
    "    tree_reg = DecisionTreeRegressor(max_depth=1)\n",
    "    tree_reg.fit(X_train, y_train)\n",
    "    y_test_pred = tree_reg.predict(X_test)\n",
    "    rmse.append(np.round(np.sqrt(mean_squared_error(y_test_pred.reshape(-1, 1), y_test)), 2))\n",
    "\n",
    "plt.figure(figsize=(12, 6))\n",
    "plt.hist(rmse, edgecolor='black', linewidth=1.2);"
   ]
  },
  {
   "cell_type": "markdown",
   "metadata": {
    "slideshow": {
     "slide_type": "slide"
    }
   },
   "source": [
    "### Assessing a Model's Generalization Power -- Cont'd\n",
    "\n",
    "* You don't want to use the test data until you have completed all your tests on parameterizing the model\n",
    "  * You cannot use the test set for minimizing overfit since the model will learn to fit the test set\n",
    "\n",
    "* To explore which models are best for the decision tree regressor, we can split the training set into:\n",
    "  * a smaller training set: used to train the model\n",
    "  * validation set: after the training (before the testing) to minimize overfitting "
   ]
  },
  {
   "cell_type": "markdown",
   "metadata": {
    "slideshow": {
     "slide_type": "slide"
    }
   },
   "source": [
    "### The Train / Validation / Test  Approach\n",
    "\n",
    "* Train the decision tree regressor on the new, smaller training set\n",
    "\n",
    "* Explore different parameters if needed \n",
    "  * Choose those perform best on the validation set\n",
    "    \n",
    "* Only use the test set to compare the decision tree regressor against other models\n",
    "  * Choose the model with the smallest generalization error"
   ]
  },
  {
   "cell_type": "markdown",
   "metadata": {
    "slideshow": {
     "slide_type": "slide"
    }
   },
   "source": [
    "### Shortcomings of the Train / Validation / Test  Approach\n",
    "\n",
    "\n",
    "* Since statistical methods tend to perform worse when trained to learn complex model using fewer observations\n",
    "  * Less data to learn the model \n",
    "  * Validation set error rate may tend to overestimate the test error rate\n",
    "\n",
    "\n",
    "* Wastes another chunk of data (validation set), which cannot be used in training\n",
    "\n",
    "* A good alternative to the training/validation/test is a method called K-fold cross-validation"
   ]
  },
  {
   "cell_type": "markdown",
   "metadata": {
    "slideshow": {
     "slide_type": "slide"
    }
   },
   "source": [
    "### K-Fold Cross-Validation\n",
    "\n",
    "<img src=\"images/cross_validation.png\" alt=\"drawing\" style=\"width:800px;\"/>"
   ]
  },
  {
   "cell_type": "markdown",
   "metadata": {
    "slideshow": {
     "slide_type": "skip"
    }
   },
   "source": [
    "### K-Fold Cross-Validation -- Cont'd\n",
    "\n",
    "* Cross-validation is applied on the training set\n",
    "\n",
    "* We use the following algorithm to train/validate using $K$-fold cross-validation\n",
    "  * The training set is split into $K$ complementary chunks of data\n",
    "  * We consider $K-1$ chunks as training and $1$ chunk as testing\n",
    "  * We repeat the training/testing $K$ times and average the estimates (ex. RMSE) into a single cross-validation estimate\n",
    "\n",
    "* Once we find the best model parameters, we then use them to train on the full training set\n",
    "\n",
    "* It's common to use $K=10$ for cross-validation"
   ]
  },
  {
   "cell_type": "markdown",
   "metadata": {
    "slideshow": {
     "slide_type": "slide"
    }
   },
   "source": [
    "### K-Fold Cross-Validation -- Cont'd\n",
    "\n",
    "* Cross-validation is applied on the training set\n",
    "\n",
    "* We use the following algorithm to train/validate using K-fold cross-validation\n",
    "  * The training set is split into K complementary chunks of data\n",
    "  * We consider K $-$ 1 chunks as training and 1 chunk as validation\n",
    "  * We repeat the training/validation K times and average the estimates (ex. RMSE) into a single cross-validation estimate\n",
    "\n",
    "* Once we find the best model parameters, we then use them to train on the full training set\n",
    "\n",
    "* It's common to use K $=$ 10 for K-fold cross-validation"
   ]
  },
  {
   "cell_type": "code",
   "execution_count": 18,
   "metadata": {
    "slideshow": {
     "slide_type": "skip"
    }
   },
   "outputs": [
    {
     "data": {
      "text/plain": [
       "0.22435740270857488"
      ]
     },
     "execution_count": 18,
     "metadata": {},
     "output_type": "execute_result"
    }
   ],
   "source": [
    "from sklearn.model_selection import cross_val_score\n",
    "\n",
    "scores = cross_val_score(tree_reg, X_train, y_train,\n",
    "                        scoring='neg_mean_squared_error', cv=10)\n",
    "\n",
    "tree_reg_rmse = np.sqrt(np.mean(-scores))\n",
    "\n",
    "tree_reg_rmse"
   ]
  },
  {
   "cell_type": "code",
   "execution_count": 19,
   "metadata": {
    "slideshow": {
     "slide_type": "slide"
    }
   },
   "outputs": [
    {
     "data": {
      "text/plain": [
       "0.20013515993007866"
      ]
     },
     "execution_count": 19,
     "metadata": {},
     "output_type": "execute_result"
    }
   ],
   "source": [
    "tree_reg = DecisionTreeRegressor(max_depth=3)\n",
    "\n",
    "from sklearn.model_selection import cross_val_score\n",
    "\n",
    "scores = cross_val_score(tree_reg, X_train, y_train, scoring='neg_mean_squared_error', cv=10)\n",
    "tree_reg_rmse = np.sqrt(np.mean(-scores))\n",
    "\n",
    "tree_reg_rmse"
   ]
  },
  {
   "cell_type": "markdown",
   "metadata": {
    "slideshow": {
     "slide_type": "slide"
    }
   },
   "source": [
    "### Scoring the K Data Chunks\n",
    "\n",
    "* For scoring the K subsets, we used a function called \"neg_mean_squared_error\". This is simply:\n",
    "\n",
    "$$ \n",
    "-1 \\times MSE\n",
    "$$\n",
    "\n",
    "* The reason for this is that `cross_val_score` requires similarity function (as opposed to a distance function)\n",
    " * In MSE, the lower the score the better\n",
    " * In `cross_val_score` scoring scheme, the greater the score, the better the model\n",
    "\n",
    "See link below for available scoring functions for regression:<br>\n",
    "http://scikit-learn.org/stable/modules/model_evaluation.html"
   ]
  },
  {
   "cell_type": "markdown",
   "metadata": {
    "slideshow": {
     "slide_type": "skip"
    }
   },
   "source": [
    "### Ensemble Methods: Random Forest Regressor\n",
    "\n",
    "* Random Forests works by training many Decision Tree Regressors on random subsets of the features\n",
    "  * Averaging out the predictions\n",
    "\n",
    "* In general, the class of models wich work by averaging outcomes of a set of other models is called ensemble methods\n",
    "  * Subsert of of ensemble machine learning\n",
    "  \n",
    "* Sometimes it’s useful to create a collection of similar (same algorithms) but different (using different features, data subsets or parameters), that provide different predictions. \n",
    " * A policy (usually voting) is used to choose the “best” prediction\n",
    "\n",
    "* In  scikit learn, an ensemble of estimators is wrapped into a single estimator\n",
    "  * We can treat an ensemble just like any other estimator\n"
   ]
  },
  {
   "cell_type": "markdown",
   "metadata": {
    "slideshow": {
     "slide_type": "skip"
    }
   },
   "source": [
    "### Ensemble Methods: Random Forest Regressor\n",
    "\n",
    "<img src=\"https://raw.githubusercontent.com/blueberrymusic/Deep-Learning-A-Visual-Approach/main/Figures/Images/12-2.png\" width=\"400\">"
   ]
  },
  {
   "cell_type": "markdown",
   "metadata": {
    "slideshow": {
     "slide_type": "skip"
    }
   },
   "source": [
    "### Random Forests and Bagging\n",
    "\n",
    "* There are various ways to build ensembles\n",
    "  * Two of the most common methods are bagging\n",
    "* In boosting a subset the set of features to split on is selected randomly, without replacement\n",
    "  * instead of considering all the features when computing the information gain, we select only a small subset of the features\n",
    "  * The choice of subsets is repeated at every iteration\n",
    "* It is also possible to bootstrap the data in a similar fashion to what we did previously\n",
    "\n"
   ]
  },
  {
   "cell_type": "markdown",
   "metadata": {
    "slideshow": {
     "slide_type": "skip"
    }
   },
   "source": [
    "### Random Forests and Bagging -- Cont'd\n",
    "\n",
    "<img src=\"https://raw.githubusercontent.com/blueberrymusic/Deep-Learning-A-Visual-Approach/main/Figures/Images/12-3.png\" width=400>\n"
   ]
  },
  {
   "cell_type": "code",
   "execution_count": 20,
   "metadata": {
    "slideshow": {
     "slide_type": "skip"
    }
   },
   "outputs": [],
   "source": [
    "from sklearn.ensemble import RandomForestRegressor\n",
    "\n",
    "forest_reg = RandomForestRegressor(n_estimators=50, max_depth=3, max_features=10)\n"
   ]
  },
  {
   "cell_type": "markdown",
   "metadata": {
    "slideshow": {
     "slide_type": "skip"
    }
   },
   "source": [
    "### Radnom Forest Parameters\n",
    "\n",
    "\n",
    "* The number of n_estimators in the  RandomForestRegressor defines the number of trees in the ensemble (forest)\n",
    "\n",
    "* `max_features` is the maximum number of features to consider when looking for the best split\n",
    "\n",
    "\n",
    "* The RandomForest Model yields a slightly lower error value than both the DecisionTreeRegressor and the LinearRegression models\n"
   ]
  },
  {
   "cell_type": "code",
   "execution_count": 21,
   "metadata": {
    "slideshow": {
     "slide_type": "skip"
    }
   },
   "outputs": [
    {
     "data": {
      "text/plain": [
       "array([0.18397591, 0.17096563, 0.18030235, 0.18025248, 0.13606847,\n",
       "       0.20923208, 0.15561157, 0.15191385, 0.19537524, 0.18502949])"
      ]
     },
     "execution_count": 21,
     "metadata": {},
     "output_type": "execute_result"
    }
   ],
   "source": [
    "scores = cross_val_score(forest_reg, X_train, y_train,\n",
    "                        scoring='neg_mean_squared_error', cv=10)\n",
    "forest_reg_rmse = np.sqrt(-scores)\n",
    "forest_reg_rmse"
   ]
  },
  {
   "cell_type": "code",
   "execution_count": 22,
   "metadata": {
    "slideshow": {
     "slide_type": "skip"
    }
   },
   "outputs": [
    {
     "name": "stdout",
     "output_type": "stream",
     "text": [
      "score are [0.18397591 0.17096563 0.18030235 0.18025248 0.13606847 0.20923208\n",
      " 0.15561157 0.15191385 0.19537524 0.18502949]\n",
      "\n",
      "mean score is 0.17487270755850212\n"
     ]
    }
   ],
   "source": [
    "print (\"score are %s\\n\" % forest_reg_rmse)\n",
    "print (\"mean score is %s\"  % np.mean(forest_reg_rmse))\n"
   ]
  },
  {
   "cell_type": "markdown",
   "metadata": {
    "slideshow": {
     "slide_type": "skip"
    }
   },
   "source": [
    "### Using Grid Search for Finding Parameters That Minimize Loss\n",
    "\n",
    "- Scikit-Learn offers GridSearchCV (Grid Search Cross-Validation)\n",
    "  - Takes a list of parameters and some values and exhaustively tries the values using cross-validation\n"
   ]
  },
  {
   "cell_type": "code",
   "execution_count": 23,
   "metadata": {
    "slideshow": {
     "slide_type": "skip"
    }
   },
   "outputs": [],
   "source": [
    "from sklearn.model_selection import GridSearchCV\n",
    "\n",
    "grid_search_params = [{'n_estimators':[3, 9, 27, 50, 81], 'max_features': [2, 3, 4, 5, 7, 9, 11]}]\n",
    "\n",
    "forest_reg = RandomForestRegressor()\n",
    "\n",
    "grid_search = GridSearchCV(forest_reg, \n",
    "                           param_grid=grid_search_params, \n",
    "                           cv=10, \n",
    "                           scoring = 'neg_mean_squared_error'\n",
    "                          )"
   ]
  },
  {
   "cell_type": "markdown",
   "metadata": {
    "slideshow": {
     "slide_type": "skip"
    }
   },
   "source": [
    "* The above search cases represent 35 different combination for `n_estimators` and `max_features`\n",
    "\n",
    " * Each of the tests is carried out using cros-validation with k=10"
   ]
  },
  {
   "cell_type": "code",
   "execution_count": 24,
   "metadata": {
    "slideshow": {
     "slide_type": "skip"
    }
   },
   "outputs": [
    {
     "data": {
      "text/plain": [
       "GridSearchCV(cv=10, estimator=RandomForestRegressor(),\n",
       "             param_grid=[{'max_features': [2, 3, 4, 5, 7, 9, 11],\n",
       "                          'n_estimators': [3, 9, 27, 50, 81]}],\n",
       "             scoring='neg_mean_squared_error')"
      ]
     },
     "execution_count": 24,
     "metadata": {},
     "output_type": "execute_result"
    }
   ],
   "source": [
    "grid_search.fit(X_train, y_train)"
   ]
  },
  {
   "cell_type": "code",
   "execution_count": 25,
   "metadata": {
    "slideshow": {
     "slide_type": "skip"
    }
   },
   "outputs": [
    {
     "data": {
      "text/plain": [
       "{'max_features': 9, 'n_estimators': 50}"
      ]
     },
     "execution_count": 25,
     "metadata": {},
     "output_type": "execute_result"
    }
   ],
   "source": [
    "grid_search.best_params_"
   ]
  },
  {
   "cell_type": "markdown",
   "metadata": {
    "slideshow": {
     "slide_type": "skip"
    }
   },
   "source": [
    "\n",
    "- The best estimators was generated from `max_features = 3` and `n_estimators = 27`\n",
    "- You can also see all the results for all the values passed"
   ]
  },
  {
   "cell_type": "code",
   "execution_count": 26,
   "metadata": {
    "slideshow": {
     "slide_type": "skip"
    }
   },
   "outputs": [
    {
     "name": "stdout",
     "output_type": "stream",
     "text": [
      "{'max_features': 2, 'n_estimators': 3} 0.21559731933927237\n",
      "{'max_features': 2, 'n_estimators': 9} 0.1962683927240083\n",
      "{'max_features': 2, 'n_estimators': 27} 0.18536053822116394\n",
      "{'max_features': 2, 'n_estimators': 50} 0.1771659171184057\n",
      "{'max_features': 2, 'n_estimators': 81} 0.17766587781466942\n",
      "{'max_features': 3, 'n_estimators': 3} 0.19126878466471614\n",
      "{'max_features': 3, 'n_estimators': 9} 0.192656417293459\n",
      "{'max_features': 3, 'n_estimators': 27} 0.1799685318791876\n",
      "{'max_features': 3, 'n_estimators': 50} 0.17483396728308268\n",
      "{'max_features': 3, 'n_estimators': 81} 0.17711337870967944\n",
      "{'max_features': 4, 'n_estimators': 3} 0.2257205005397807\n",
      "{'max_features': 4, 'n_estimators': 9} 0.18492627875449344\n",
      "{'max_features': 4, 'n_estimators': 27} 0.18046787774425938\n",
      "{'max_features': 4, 'n_estimators': 50} 0.17476350365606924\n",
      "{'max_features': 4, 'n_estimators': 81} 0.17173422035953165\n",
      "{'max_features': 5, 'n_estimators': 3} 0.1979588017696299\n",
      "{'max_features': 5, 'n_estimators': 9} 0.18554748878393362\n",
      "{'max_features': 5, 'n_estimators': 27} 0.1773765809433919\n",
      "{'max_features': 5, 'n_estimators': 50} 0.17411894150222448\n",
      "{'max_features': 5, 'n_estimators': 81} 0.17521773335980909\n",
      "{'max_features': 7, 'n_estimators': 3} 0.2075254917116086\n",
      "{'max_features': 7, 'n_estimators': 9} 0.17642445911652152\n",
      "{'max_features': 7, 'n_estimators': 27} 0.176791593731048\n",
      "{'max_features': 7, 'n_estimators': 50} 0.17365789674371068\n",
      "{'max_features': 7, 'n_estimators': 81} 0.17217092072523868\n",
      "{'max_features': 9, 'n_estimators': 3} 0.21229547797302203\n",
      "{'max_features': 9, 'n_estimators': 9} 0.1864337458712091\n",
      "{'max_features': 9, 'n_estimators': 27} 0.17291134803027983\n",
      "{'max_features': 9, 'n_estimators': 50} 0.17028716819588585\n",
      "{'max_features': 9, 'n_estimators': 81} 0.17099167814918875\n",
      "{'max_features': 11, 'n_estimators': 3} 0.19916340728640985\n",
      "{'max_features': 11, 'n_estimators': 9} 0.17201414303847326\n",
      "{'max_features': 11, 'n_estimators': 27} 0.17616857281138615\n",
      "{'max_features': 11, 'n_estimators': 50} 0.17112800654243715\n",
      "{'max_features': 11, 'n_estimators': 81} 0.1708114516835638\n"
     ]
    }
   ],
   "source": [
    "cv_scores = grid_search.cv_results_\n",
    "for i in range(len(cv_scores['params'])):\n",
    "    params, mean_score =  cv_scores['params'][i], cv_scores['mean_test_score'][i]\n",
    "    print(params, np.sqrt(-mean_score))\n"
   ]
  },
  {
   "cell_type": "code",
   "execution_count": 27,
   "metadata": {
    "slideshow": {
     "slide_type": "skip"
    }
   },
   "outputs": [
    {
     "data": {
      "text/plain": [
       "RandomForestRegressor(max_features=9, n_estimators=50)"
      ]
     },
     "execution_count": 27,
     "metadata": {},
     "output_type": "execute_result"
    }
   ],
   "source": [
    "grid_search.best_estimator_"
   ]
  },
  {
   "cell_type": "code",
   "execution_count": 28,
   "metadata": {
    "slideshow": {
     "slide_type": "skip"
    }
   },
   "outputs": [],
   "source": [
    "# Let's predict the new values using this best estimator found uisng the grid search\n",
    "\n",
    "training_set_predictions_rand_forest = grid_search.best_estimator_.predict(X_train)"
   ]
  },
  {
   "cell_type": "code",
   "execution_count": 29,
   "metadata": {
    "slideshow": {
     "slide_type": "skip"
    }
   },
   "outputs": [
    {
     "data": {
      "text/plain": [
       "Text(0, 0.5, 'Measured  a1')"
      ]
     },
     "execution_count": 29,
     "metadata": {},
     "output_type": "execute_result"
    },
    {
     "data": {
      "image/png": "[encoded data removed]",
      "text/plain": [
       "<Figure size 1000x800 with 1 Axes>"
      ]
     },
     "metadata": {},
     "output_type": "display_data"
    }
   ],
   "source": [
    "plt.figure(figsize=(10,8))\n",
    "\n",
    "plt.scatter(training_set_predictions_rand_forest, y_train.values)\n",
    "plt.plot(\n",
    "    [0,1.5],\n",
    "    [0,1.5],\n",
    "    color='r', linewidth =2, linestyle = '--')\n",
    "\n",
    "plt.xlabel(\"Prediction for a1\")\n",
    "plt.ylabel(\"Measured  a1\")"
   ]
  },
  {
   "cell_type": "markdown",
   "metadata": {
    "collapsed": true,
    "slideshow": {
     "slide_type": "skip"
    }
   },
   "source": [
    "### Testing\n",
    "\n",
    "* Once we have tweaked all the parameters for all models, we can use the test data to compare the models' generalization performance\n",
    "* The approach is the same as that followed above:\n",
    " * For each of model, we run the prediction on test data and compare the predicted with the observed values \n",
    " * We select the model that makes the smallest error\n",
    "* We determine whether the generalized performance is sufficient for our application\n",
    "  - The performance requirements for a patient-facing application are perhaps not the same as those for an application for predicting algae blooms\n",
    "* Not that in this approach, we are rewarding models that generalize well even if they are more complex \n",
    " * We don't penalize complex models if they result in high generalization performance\n",
    " * Between models with relatively similar generalization performance, we need to choose the one with fewer parameters"
   ]
  },
  {
   "cell_type": "markdown",
   "metadata": {
    "collapsed": true,
    "slideshow": {
     "slide_type": "slide"
    }
   },
   "source": [
    "### Testing\n",
    "\n",
    "* Once we have tweaked all the parameters for all models, we can use the test data to compare the models' generalization performance\n",
    "  * For each model, we run the prediction on test data and compare the predicted with the observed values \n",
    "  * We select the model that makes the smallest error\n",
    "* We determine whether the generalized performance is sufficient for our application\n",
    "  * Ex. The performance requirements for a patient-facing application are perhaps not the same as those for an application for predicting algae blooms\n",
    "* Note that in this approach, we are rewarding models that generalize well even if they are more complex \n",
    " * We don't penalize complex models if they result in high generalization performance\n",
    " * Between models with relatively similar generalization performance, we need to choose the one with fewer parameters"
   ]
  }
 ],
 "metadata": {
  "celltoolbar": "Slideshow",
  "hide_input": false,
  "kernelspec": {
   "display_name": "Python 3 (ipykernel)",
   "language": "python",
   "name": "python3"
  },
  "language_info": {
   "codemirror_mode": {
    "name": "ipython",
    "version": 3
   },
   "file_extension": ".py",
   "mimetype": "text/x-python",
   "name": "python",
   "nbconvert_exporter": "python",
   "pygments_lexer": "ipython3",
   "version": "3.8.15"
  }
 },
 "nbformat": 4,
 "nbformat_minor": 2
}
